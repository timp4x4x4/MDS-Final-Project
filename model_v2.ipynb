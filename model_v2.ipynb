{
 "cells": [
  {
   "cell_type": "code",
   "execution_count": 1,
   "id": "8dfdf69e",
   "metadata": {},
   "outputs": [
    {
     "name": "stdout",
     "output_type": "stream",
     "text": [
      "環境檢查:\n",
      "PyTorch: 2.7.0+cu118\n",
      "XGBoost: 3.0.2\n",
      "LightGBM: 4.3.0\n",
      "CUDA可用: True\n",
      "GPU: NVIDIA GeForce RTX 3090\n"
     ]
    }
   ],
   "source": [
    "# ===========================\n",
    "# Cell 1: 導入套件和設定\n",
    "# ===========================\n",
    "import pandas as pd\n",
    "import numpy as np\n",
    "from datetime import datetime\n",
    "import matplotlib.pyplot as plt\n",
    "import seaborn as sns\n",
    "import warnings\n",
    "import gc  # 垃圾回收\n",
    "warnings.filterwarnings('ignore')\n",
    "\n",
    "# 基本套件\n",
    "import os\n",
    "import time\n",
    "import joblib\n",
    "import json\n",
    "from collections import Counter\n",
    "\n",
    "# Scikit-learn\n",
    "from sklearn.preprocessing import StandardScaler, LabelEncoder, RobustScaler\n",
    "from sklearn.model_selection import train_test_split, StratifiedKFold, cross_val_score\n",
    "from sklearn.ensemble import RandomForestClassifier, GradientBoostingClassifier\n",
    "from sklearn.linear_model import LogisticRegression\n",
    "from sklearn.metrics import (\n",
    "    accuracy_score, f1_score, classification_report, \n",
    "    confusion_matrix, balanced_accuracy_score, \n",
    "    cohen_kappa_score, make_scorer\n",
    ")\n",
    "from sklearn.utils.class_weight import compute_class_weight\n",
    "\n",
    "# 處理不平衡資料\n",
    "from imblearn.over_sampling import SMOTE, RandomOverSampler\n",
    "from imblearn.under_sampling import RandomUnderSampler\n",
    "from imblearn.ensemble import BalancedRandomForestClassifier\n",
    "\n",
    "# Boosting模型\n",
    "import xgboost as xgb\n",
    "import lightgbm as lgb\n",
    "from catboost import CatBoostClassifier\n",
    "\n",
    "# PyTorch\n",
    "import torch\n",
    "import torch.nn as nn\n",
    "import torch.optim as optim\n",
    "from torch.utils.data import DataLoader, TensorDataset, WeightedRandomSampler\n",
    "import torch.nn.functional as F \n",
    "\n",
    "print(\"環境檢查:\")\n",
    "print(f\"PyTorch: {torch.__version__}\")\n",
    "print(f\"XGBoost: {xgb.__version__}\")\n",
    "print(f\"LightGBM: {lgb.__version__}\")\n",
    "print(f\"CUDA可用: {torch.cuda.is_available()}\")\n",
    "if torch.cuda.is_available():\n",
    "    print(f\"GPU: {torch.cuda.get_device_name(0)}\")\n"
   ]
  },
  {
   "cell_type": "code",
   "execution_count": 2,
   "id": "30044c7e",
   "metadata": {},
   "outputs": [],
   "source": [
    "# ===========================\n",
    "# Cell 2: 記憶體優化函數\n",
    "# ===========================\n",
    "\n",
    "def reduce_memory_usage(df, verbose=True):\n",
    "    \"\"\"\n",
    "    通過改變數據類型來減少DataFrame的記憶體使用\n",
    "    參考自Kaggle的記憶體優化技術\n",
    "    \"\"\"\n",
    "    numerics = ['int16', 'int32', 'int64', 'float16', 'float32', 'float64']\n",
    "    start_mem = df.memory_usage().sum() / 1024**2\n",
    "    \n",
    "    for col in df.columns:\n",
    "        col_type = df[col].dtype\n",
    "        \n",
    "        if col_type in numerics:\n",
    "            c_min = df[col].min()\n",
    "            c_max = df[col].max()\n",
    "            \n",
    "            if str(col_type)[:3] == 'int':\n",
    "                if c_min > np.iinfo(np.int8).min and c_max < np.iinfo(np.int8).max:\n",
    "                    df[col] = df[col].astype(np.int8)\n",
    "                elif c_min > np.iinfo(np.int16).min and c_max < np.iinfo(np.int16).max:\n",
    "                    df[col] = df[col].astype(np.int16)\n",
    "                elif c_min > np.iinfo(np.int32).min and c_max < np.iinfo(np.int32).max:\n",
    "                    df[col] = df[col].astype(np.int32)\n",
    "                elif c_min > np.iinfo(np.int64).min and c_max < np.iinfo(np.int64).max:\n",
    "                    df[col] = df[col].astype(np.int64)\n",
    "            else:\n",
    "                if c_min > np.finfo(np.float16).min and c_max < np.finfo(np.float16).max:\n",
    "                    df[col] = df[col].astype(np.float16)\n",
    "                elif c_min > np.finfo(np.float32).min and c_max < np.finfo(np.float32).max:\n",
    "                    df[col] = df[col].astype(np.float32)\n",
    "                else:\n",
    "                    df[col] = df[col].astype(np.float64)\n",
    "    \n",
    "    end_mem = df.memory_usage().sum() / 1024**2\n",
    "    if verbose:\n",
    "        print(f'記憶體使用減少了 {100 * (start_mem - end_mem) / start_mem:.1f}%')\n",
    "        print(f'{start_mem:.2f} MB --> {end_mem:.2f} MB')\n",
    "    \n",
    "    return df\n",
    "\n",
    "def clean_memory():\n",
    "    \"\"\"清理記憶體\"\"\"\n",
    "    gc.collect()\n",
    "    if torch.cuda.is_available():\n",
    "        torch.cuda.empty_cache()"
   ]
  },
  {
   "cell_type": "code",
   "execution_count": 3,
   "id": "8448503a",
   "metadata": {},
   "outputs": [
    {
     "name": "stdout",
     "output_type": "stream",
     "text": [
      "載入資料: us-accidents/US_Accidents_March23.csv\n",
      "資料欄位預覽:\n",
      "['ID', 'Source', 'Severity', 'Start_Time', 'End_Time', 'Start_Lat', 'Start_Lng', 'End_Lat', 'End_Lng', 'Distance(mi)', 'Description', 'Street', 'City', 'County', 'State', 'Zipcode', 'Country', 'Timezone', 'Airport_Code', 'Weather_Timestamp', 'Temperature(F)', 'Wind_Chill(F)', 'Humidity(%)', 'Pressure(in)', 'Visibility(mi)', 'Wind_Direction', 'Wind_Speed(mph)', 'Precipitation(in)', 'Weather_Condition', 'Amenity', 'Bump', 'Crossing', 'Give_Way', 'Junction', 'No_Exit', 'Railway', 'Roundabout', 'Station', 'Stop', 'Traffic_Calming', 'Traffic_Signal', 'Turning_Loop', 'Sunrise_Sunset', 'Civil_Twilight', 'Nautical_Twilight', 'Astronomical_Twilight']\n",
      "載入資料大小: (7728394, 28)\n",
      "記憶體使用: 773.89 MB\n",
      "\n",
      "目標變數分布:\n",
      "Severity 1: 67,366 (0.87%)\n",
      "Severity 2: 6,156,981 (79.67%)\n",
      "Severity 3: 1,299,337 (16.81%)\n",
      "Severity 4: 204,710 (2.65%)\n"
     ]
    }
   ],
   "source": [
    "# ===========================\n",
    "# Cell 3: 載入資料（優化版）\n",
    "# ===========================\n",
    "\n",
    "def load_data_optimized(file_path, sample_frac=None, chunksize=None):\n",
    "    \"\"\"\n",
    "    優化的資料載入，支援採樣和分塊讀取\n",
    "    \"\"\"\n",
    "    print(f\"載入資料: {file_path}\")\n",
    "    \n",
    "    # 先讀取一小部分來了解資料\n",
    "    sample_df = pd.read_csv(file_path, nrows=5)\n",
    "    print(\"資料欄位預覽:\")\n",
    "    print(sample_df.columns.tolist())\n",
    "    \n",
    "    # 定義需要的欄位（排除不需要的文字欄位以節省記憶體）\n",
    "    # 根據其他Kaggle notebook的經驗，這些是最重要的欄位\n",
    "    important_cols = [\n",
    "        'Severity', 'Start_Time', 'End_Time', 'Start_Lat', 'Start_Lng',\n",
    "        'Distance(mi)', 'Temperature(F)', 'Humidity(%)', 'Pressure(in)',\n",
    "        'Visibility(mi)', 'Wind_Speed(mph)', 'Precipitation(in)',\n",
    "        'Weather_Condition', 'Amenity', 'Bump', 'Crossing', 'Give_Way',\n",
    "        'Junction', 'No_Exit', 'Railway', 'Roundabout', 'Station', 'Stop',\n",
    "        'Traffic_Calming', 'Traffic_Signal', 'Sunrise_Sunset', 'State',\n",
    "        'Side', 'Weather_Timestamp'\n",
    "    ]\n",
    "    \n",
    "    # 過濾存在的欄位\n",
    "    existing_cols = [col for col in important_cols if col in sample_df.columns]\n",
    "    \n",
    "    # 定義數據類型以減少記憶體\n",
    "    dtype_dict = {\n",
    "        'Severity': 'int8',\n",
    "        'Distance(mi)': 'float32',\n",
    "        'Temperature(F)': 'float32',\n",
    "        'Humidity(%)': 'float32',\n",
    "        'Pressure(in)': 'float32',\n",
    "        'Visibility(mi)': 'float32',\n",
    "        'Wind_Speed(mph)': 'float32',\n",
    "        'Precipitation(in)': 'float32',\n",
    "        'Amenity': 'bool',\n",
    "        'Bump': 'bool',\n",
    "        'Crossing': 'bool',\n",
    "        'Give_Way': 'bool',\n",
    "        'Junction': 'bool',\n",
    "        'No_Exit': 'bool',\n",
    "        'Railway': 'bool',\n",
    "        'Roundabout': 'bool',\n",
    "        'Station': 'bool',\n",
    "        'Stop': 'bool',\n",
    "        'Traffic_Calming': 'bool',\n",
    "        'Traffic_Signal': 'bool'\n",
    "    }\n",
    "    \n",
    "    # 載入資料\n",
    "    if sample_frac:\n",
    "        # 隨機採樣\n",
    "        print(f\"載入 {sample_frac*100}% 的資料...\")\n",
    "        df = pd.read_csv(file_path, usecols=existing_cols, dtype=dtype_dict)\n",
    "        df = df.sample(frac=sample_frac, random_state=42)\n",
    "    elif chunksize:\n",
    "        # 分塊載入\n",
    "        print(f\"分塊載入，每塊 {chunksize} 行...\")\n",
    "        chunks = []\n",
    "        for chunk in pd.read_csv(file_path, usecols=existing_cols, \n",
    "                                dtype=dtype_dict, chunksize=chunksize):\n",
    "            chunks.append(chunk)\n",
    "            if len(chunks) * chunksize >= 1000000:  # 限制在100萬行\n",
    "                break\n",
    "        df = pd.concat(chunks, ignore_index=True)\n",
    "    else:\n",
    "        # 完整載入\n",
    "        df = pd.read_csv(file_path, usecols=existing_cols, dtype=dtype_dict)\n",
    "    \n",
    "    print(f\"載入資料大小: {df.shape}\")\n",
    "    print(f\"記憶體使用: {df.memory_usage().sum() / 1024**2:.2f} MB\")\n",
    "    \n",
    "    # 顯示目標變數分布\n",
    "    print(\"\\n目標變數分布:\")\n",
    "    severity_counts = df['Severity'].value_counts().sort_index()\n",
    "    for sev, count in severity_counts.items():\n",
    "        print(f\"Severity {sev}: {count:,} ({count/len(df)*100:.2f}%)\")\n",
    "    \n",
    "    return df\n",
    "\n",
    "# 執行載入（建議先用小樣本測試）\n",
    "file_path = 'us-accidents/US_Accidents_March23.csv'\n",
    "\n",
    "# 選項1: 使用部分資料（推薦用於測試）\n",
    "# df = load_data_optimized(file_path, sample_frac=0.1)  # 10%資料\n",
    "\n",
    "# 選項2: 分塊載入\n",
    "# df = load_data_optimized(file_path, chunksize=500000)  # 每次50萬行\n",
    "\n",
    "# 選項3: 完整載入（需要大量記憶體）\n",
    "df = load_data_optimized(file_path)\n"
   ]
  },
  {
   "cell_type": "code",
   "execution_count": 4,
   "id": "07dce068",
   "metadata": {},
   "outputs": [
    {
     "name": "stdout",
     "output_type": "stream",
     "text": [
      "\n",
      "處理日期時間特徵...\n",
      "處理後大小: (7721568, 34)\n"
     ]
    }
   ],
   "source": [
    "# ===========================\n",
    "# Cell 4: 日期時間處理（優化版）\n",
    "# ===========================\n",
    "\n",
    "def process_datetime_features(df):\n",
    "    \"\"\"處理日期時間特徵\"\"\"\n",
    "    print(\"\\n處理日期時間特徵...\")\n",
    "    \n",
    "    # 轉換日期時間\n",
    "    df['Start_Time'] = pd.to_datetime(df['Start_Time'], errors='coerce')\n",
    "    df['End_Time'] = pd.to_datetime(df['End_Time'], errors='coerce')\n",
    "    \n",
    "    # 計算持續時間\n",
    "    df['Duration_minutes'] = (df['End_Time'] - df['Start_Time']).dt.total_seconds() / 60\n",
    "    \n",
    "    # 過濾異常值（使用更寬鬆的範圍）\n",
    "    df = df[(df['Duration_minutes'] > 0) & (df['Duration_minutes'] < 1440*7)]  # 小於7天\n",
    "    \n",
    "    # 移除日期時間為空的記錄\n",
    "    df = df.dropna(subset=['Start_Time'])\n",
    "    \n",
    "    # 提取時間特徵\n",
    "    df['Hour'] = df['Start_Time'].dt.hour.astype('int8')\n",
    "    df['DayOfWeek'] = df['Start_Time'].dt.dayofweek.astype('int8')\n",
    "    df['Month'] = df['Start_Time'].dt.month.astype('int8')\n",
    "    df['Year'] = df['Start_Time'].dt.year.astype('int16')\n",
    "    \n",
    "    # 衍生特徵\n",
    "    df['IsWeekend'] = (df['DayOfWeek'] >= 5).astype('int8')\n",
    "    df['IsRushHour'] = df['Hour'].apply(\n",
    "        lambda x: 1 if (6 <= x <= 9) or (16 <= x <= 19) else 0\n",
    "    ).astype('int8')\n",
    "    \n",
    "    # 時段分類\n",
    "    df['TimeOfDay'] = pd.cut(df['Hour'], \n",
    "                            bins=[-1, 6, 12, 18, 24], \n",
    "                            labels=[0, 1, 2, 3]).astype('int8')  # 轉換為數值\n",
    "    \n",
    "    # 季節\n",
    "    df['Season'] = pd.cut(df['Month'], \n",
    "                         bins=[0, 3, 6, 9, 12], \n",
    "                         labels=[0, 1, 2, 3]).astype('int8')  # 轉換為數值\n",
    "    \n",
    "    # 刪除原始時間欄位以節省記憶體\n",
    "    df = df.drop(['Start_Time', 'End_Time', 'Weather_Timestamp'], axis=1, errors='ignore')\n",
    "    \n",
    "    print(f\"處理後大小: {df.shape}\")\n",
    "    clean_memory()\n",
    "    \n",
    "    return df\n",
    "\n",
    "df = process_datetime_features(df)"
   ]
  },
  {
   "cell_type": "code",
   "execution_count": 5,
   "id": "77396eb9",
   "metadata": {},
   "outputs": [
    {
     "name": "stdout",
     "output_type": "stream",
     "text": [
      "\n",
      "處理天氣特徵...\n"
     ]
    }
   ],
   "source": [
    "# ===========================\n",
    "# Cell 5: 天氣特徵處理\n",
    "# ===========================\n",
    "\n",
    "def process_weather_features(df):\n",
    "    \"\"\"處理天氣相關特徵\"\"\"\n",
    "    print(\"\\n處理天氣特徵...\")\n",
    "    \n",
    "    if 'Weather_Condition' in df.columns:\n",
    "        # 簡化天氣分類\n",
    "        def categorize_weather(condition):\n",
    "            if pd.isna(condition):\n",
    "                return 0  # Unknown\n",
    "            condition = str(condition).lower()\n",
    "            if any(word in condition for word in ['clear', 'fair']):\n",
    "                return 1  # Clear\n",
    "            elif any(word in condition for word in ['cloud', 'overcast']):\n",
    "                return 2  # Cloudy\n",
    "            elif any(word in condition for word in ['rain', 'drizzle']):\n",
    "                return 3  # Rain\n",
    "            elif any(word in condition for word in ['snow', 'sleet']):\n",
    "                return 4  # Snow\n",
    "            elif any(word in condition for word in ['fog', 'mist']):\n",
    "                return 5  # Fog\n",
    "            elif any(word in condition for word in ['storm', 'thunder']):\n",
    "                return 6  # Storm\n",
    "            else:\n",
    "                return 7  # Other\n",
    "        \n",
    "        df['Weather_Category'] = df['Weather_Condition'].apply(categorize_weather).astype('int8')\n",
    "        df = df.drop('Weather_Condition', axis=1)\n",
    "    \n",
    "    # 處理其他天氣數值特徵的缺失值\n",
    "    weather_numeric_cols = ['Temperature(F)', 'Humidity(%)', 'Pressure(in)', \n",
    "                           'Visibility(mi)', 'Wind_Speed(mph)', 'Precipitation(in)']\n",
    "    \n",
    "    for col in weather_numeric_cols:\n",
    "        if col in df.columns:\n",
    "            # 使用中位數填充\n",
    "            median_val = df[col].median()\n",
    "            df[col] = df[col].fillna(median_val)\n",
    "    \n",
    "    clean_memory()\n",
    "    return df\n",
    "\n",
    "df = process_weather_features(df)\n"
   ]
  },
  {
   "cell_type": "code",
   "execution_count": 6,
   "id": "e492716a",
   "metadata": {},
   "outputs": [
    {
     "name": "stdout",
     "output_type": "stream",
     "text": [
      "\n",
      "處理缺失值和編碼...\n",
      "刪除高缺失率欄位: 0\n",
      "處理後資料大小: (7721568, 34)\n",
      "剩餘缺失值: 0\n"
     ]
    }
   ],
   "source": [
    "# ===========================\n",
    "# Cell 6: 處理缺失值和編碼類別變數\n",
    "# ===========================\n",
    "\n",
    "def handle_missing_and_encode(df):\n",
    "    \"\"\"處理缺失值並編碼類別變數\"\"\"\n",
    "    print(\"\\n處理缺失值和編碼...\")\n",
    "    \n",
    "    # 刪除缺失值過多的欄位\n",
    "    missing_pct = df.isnull().sum() / len(df)\n",
    "    high_missing_cols = missing_pct[missing_pct > 0.5].index.tolist()\n",
    "    \n",
    "    # 保留Severity\n",
    "    if 'Severity' in high_missing_cols:\n",
    "        high_missing_cols.remove('Severity')\n",
    "    \n",
    "    df = df.drop(columns=high_missing_cols, errors='ignore')\n",
    "    print(f\"刪除高缺失率欄位: {len(high_missing_cols)}\")\n",
    "    \n",
    "    # 對類別變數進行標籤編碼\n",
    "    categorical_cols = ['State', 'Side', 'Sunrise_Sunset']\n",
    "    label_encoders = {}\n",
    "    \n",
    "    for col in categorical_cols:\n",
    "        if col in df.columns:\n",
    "            le = LabelEncoder()\n",
    "            # 填充缺失值\n",
    "            df[col] = df[col].fillna('Unknown')\n",
    "            # 編碼\n",
    "            df[col] = le.fit_transform(df[col].astype(str))\n",
    "            label_encoders[col] = le\n",
    "    \n",
    "    # 填充數值型缺失值\n",
    "    numeric_cols = df.select_dtypes(include=[np.number]).columns\n",
    "    for col in numeric_cols:\n",
    "        if col != 'Severity':\n",
    "            df[col] = df[col].fillna(df[col].median())\n",
    "    \n",
    "    # 確保布林型欄位是整數\n",
    "    bool_cols = df.select_dtypes(include=['bool']).columns\n",
    "    for col in bool_cols:\n",
    "        df[col] = df[col].astype('int8')\n",
    "    \n",
    "    print(f\"處理後資料大小: {df.shape}\")\n",
    "    print(f\"剩餘缺失值: {df.isnull().sum().sum()}\")\n",
    "    \n",
    "    clean_memory()\n",
    "    return df, label_encoders\n",
    "\n",
    "df, label_encoders = handle_missing_and_encode(df)\n"
   ]
  },
  {
   "cell_type": "code",
   "execution_count": 7,
   "id": "483e5126",
   "metadata": {},
   "outputs": [
    {
     "name": "stdout",
     "output_type": "stream",
     "text": [
      "\n",
      "準備最終數據...\n",
      "\n",
      "原始類別分布:\n",
      "1      67365\n",
      "2    6151445\n",
      "3    1299251\n",
      "4     203507\n",
      "Name: Severity, dtype: int64\n",
      "\n",
      "最終數據大小: X=(7721568, 33), y=(7721568,)\n",
      "最終類別分布:\n",
      "  類別 0 (Severity 1): 67,365 (0.87%)\n",
      "  類別 1 (Severity 2): 6,151,445 (79.67%)\n",
      "  類別 2 (Severity 3): 1,299,251 (16.83%)\n",
      "  類別 3 (Severity 4): 203,507 (2.64%)\n"
     ]
    }
   ],
   "source": [
    "# ===========================\n",
    "# Cell 7: 特徵選擇和準備最終數據\n",
    "# ===========================\n",
    "\n",
    "def prepare_final_data(df):\n",
    "    \"\"\"準備最終的訓練數據\"\"\"\n",
    "    print(\"\\n準備最終數據...\")\n",
    "    \n",
    "    # 刪除任何仍有缺失值的行\n",
    "    df = df.dropna()\n",
    "    \n",
    "    # 確保Severity是正確的值\n",
    "    df = df[df['Severity'].isin([1, 2, 3, 4])]\n",
    "    \n",
    "    # 根據Kaggle上的建議，考慮合併Severity 1和2\n",
    "    # 因為Severity 1的樣本太少\n",
    "    print(\"\\n原始類別分布:\")\n",
    "    print(df['Severity'].value_counts().sort_index())\n",
    "    \n",
    "    # 選項：合併類別（可選）\n",
    "    # df['Severity'] = df['Severity'].replace({1: 2})\n",
    "    \n",
    "    # 分離特徵和目標\n",
    "    feature_cols = [col for col in df.columns if col != 'Severity']\n",
    "    X = df[feature_cols].values\n",
    "    y = df['Severity'].values - 1  # 轉換為0-3\n",
    "    \n",
    "    print(f\"\\n最終數據大小: X={X.shape}, y={y.shape}\")\n",
    "    print(\"最終類別分布:\")\n",
    "    unique, counts = np.unique(y, return_counts=True)\n",
    "    for cls, cnt in zip(unique, counts):\n",
    "        print(f\"  類別 {cls} (Severity {cls+1}): {cnt:,} ({cnt/len(y)*100:.2f}%)\")\n",
    "    \n",
    "    return X, y, feature_cols\n",
    "\n",
    "X, y, feature_names = prepare_final_data(df)"
   ]
  },
  {
   "cell_type": "code",
   "execution_count": 8,
   "id": "2e0ecf4a",
   "metadata": {},
   "outputs": [
    {
     "name": "stdout",
     "output_type": "stream",
     "text": [
      "訓練集: (6177254, 33)\n",
      "測試集: (1544314, 33)\n",
      "\n",
      "類別權重:\n",
      "  類別 0: 28.6557\n",
      "  類別 1: 0.3138\n",
      "  類別 2: 1.4858\n",
      "  類別 3: 9.4857\n"
     ]
    }
   ],
   "source": [
    "# ===========================\n",
    "# Cell 8: 資料分割\n",
    "# ===========================\n",
    "\n",
    "# 分層分割\n",
    "X_train, X_test, y_train, y_test = train_test_split(\n",
    "    X, y, test_size=0.2, random_state=42, stratify=y\n",
    ")\n",
    "\n",
    "print(f\"訓練集: {X_train.shape}\")\n",
    "print(f\"測試集: {X_test.shape}\")\n",
    "\n",
    "# 計算類別權重\n",
    "class_weights = compute_class_weight('balanced', \n",
    "                                   classes=np.unique(y_train), \n",
    "                                   y=y_train)\n",
    "class_weight_dict = dict(enumerate(class_weights))\n",
    "\n",
    "print(\"\\n類別權重:\")\n",
    "for cls, weight in class_weight_dict.items():\n",
    "    print(f\"  類別 {cls}: {weight:.4f}\")\n"
   ]
  },
  {
   "cell_type": "code",
   "execution_count": 9,
   "id": "9d040e30",
   "metadata": {},
   "outputs": [
    {
     "name": "stdout",
     "output_type": "stream",
     "text": [
      "\n",
      "應用採樣策略: mixed\n",
      "原始分布: {0: 53892, 1: 4921156, 2: 1039401, 3: 162805}\n",
      "採樣後分布: {0: 901654, 1: 901654, 2: 901654, 3: 901654}\n",
      "\n",
      "採樣變化:\n",
      "  類別 0: 53,892 → 901,654 (+1573.1%)\n",
      "  類別 1: 4,921,156 → 901,654 (-81.7%)\n",
      "  類別 2: 1,039,401 → 901,654 (-13.3%)\n",
      "  類別 3: 162,805 → 901,654 (+453.8%)\n"
     ]
    }
   ],
   "source": [
    "# ===========================\n",
    "# Cell 9: 處理不平衡 - 混合採樣策略\n",
    "# ===========================\n",
    "\n",
    "def apply_mixed_sampling(X_train, y_train, strategy='mixed'):\n",
    "    \"\"\"\n",
    "    應用混合採樣策略\n",
    "    參考Kaggle最佳實踐：結合過採樣和欠採樣\n",
    "    \"\"\"\n",
    "    print(f\"\\n應用採樣策略: {strategy}\")\n",
    "    \n",
    "    if strategy == 'none':\n",
    "        return X_train, y_train\n",
    "    \n",
    "    # 計算各類別數量\n",
    "    unique, counts = np.unique(y_train, return_counts=True)\n",
    "    class_counts = dict(zip(unique, counts))\n",
    "    print(\"原始分布:\", class_counts)\n",
    "    \n",
    "    if strategy == 'mixed':\n",
    "        # 混合策略：對多數類欠採樣，對少數類過採樣\n",
    "        # 目標：讓所有類別接近中位數\n",
    "        median_count = int(np.median(counts))\n",
    "        target_count = int(median_count * 1.5)  # 目標數量設為中位數的1.5倍\n",
    "        \n",
    "        # 第一步：欠採樣 - 只對超過目標數量的類別進行欠採樣\n",
    "        undersample_strategy = {}\n",
    "        for cls, cnt in class_counts.items():\n",
    "            if cnt > target_count:\n",
    "                undersample_strategy[cls] = target_count\n",
    "            else:\n",
    "                undersample_strategy[cls] = cnt  # 保持原樣\n",
    "        \n",
    "        if len(undersample_strategy) > 0 and any(cnt < class_counts[cls] for cls, cnt in undersample_strategy.items()):\n",
    "            rus = RandomUnderSampler(sampling_strategy=undersample_strategy, random_state=42)\n",
    "            X_temp, y_temp = rus.fit_resample(X_train, y_train)\n",
    "        else:\n",
    "            X_temp, y_temp = X_train, y_train\n",
    "        \n",
    "        # 第二步：過採樣 - 只對少於目標數量的類別進行過採樣\n",
    "        temp_unique, temp_counts = np.unique(y_temp, return_counts=True)\n",
    "        temp_class_counts = dict(zip(temp_unique, temp_counts))\n",
    "        \n",
    "        oversample_strategy = {}\n",
    "        for cls, cnt in temp_class_counts.items():\n",
    "            if cnt < target_count:\n",
    "                oversample_strategy[cls] = target_count\n",
    "            else:\n",
    "                oversample_strategy[cls] = cnt  # 保持原樣\n",
    "        \n",
    "        if len(oversample_strategy) > 0 and any(cnt > temp_class_counts[cls] for cls, cnt in oversample_strategy.items()):\n",
    "            ros = RandomOverSampler(sampling_strategy=oversample_strategy, random_state=42)\n",
    "            X_resampled, y_resampled = ros.fit_resample(X_temp, y_temp)\n",
    "        else:\n",
    "            X_resampled, y_resampled = X_temp, y_temp\n",
    "            \n",
    "    elif strategy == 'smote':\n",
    "        # SMOTE策略：只過採樣到最多類別的50%\n",
    "        max_count = max(counts)\n",
    "        target_count = int(max_count * 0.5)\n",
    "        \n",
    "        # 確保目標數量不小於當前數量\n",
    "        sampling_strategy = {}\n",
    "        for cls, cnt in class_counts.items():\n",
    "            if cnt < target_count:\n",
    "                sampling_strategy[cls] = target_count\n",
    "            else:\n",
    "                sampling_strategy[cls] = cnt\n",
    "        \n",
    "        smote = SMOTE(sampling_strategy=sampling_strategy, k_neighbors=5, random_state=42)\n",
    "        X_resampled, y_resampled = smote.fit_resample(X_train, y_train)\n",
    "    \n",
    "    elif strategy == 'undersample_only':\n",
    "        # 只欠採樣到最少類別的2倍\n",
    "        min_count = min(counts)\n",
    "        target_count = min_count * 2\n",
    "        \n",
    "        sampling_strategy = {}\n",
    "        for cls, cnt in class_counts.items():\n",
    "            sampling_strategy[cls] = min(cnt, target_count)\n",
    "        \n",
    "        rus = RandomUnderSampler(sampling_strategy=sampling_strategy, random_state=42)\n",
    "        X_resampled, y_resampled = rus.fit_resample(X_train, y_train)\n",
    "    \n",
    "    # 顯示新分布\n",
    "    unique_new, counts_new = np.unique(y_resampled, return_counts=True)\n",
    "    new_distribution = dict(zip(unique_new, counts_new))\n",
    "    print(\"採樣後分布:\", new_distribution)\n",
    "    \n",
    "    # 顯示變化\n",
    "    print(\"\\n採樣變化:\")\n",
    "    for cls in range(4):\n",
    "        original = class_counts.get(cls, 0)\n",
    "        new = new_distribution.get(cls, 0)\n",
    "        change = ((new - original) / original * 100) if original > 0 else 0\n",
    "        print(f\"  類別 {cls}: {original:,} → {new:,} ({change:+.1f}%)\")\n",
    "    \n",
    "    return X_resampled, y_resampled\n",
    "\n",
    "# 應用混合採樣\n",
    "# 可以嘗試不同策略\n",
    "X_train_balanced, y_train_balanced = apply_mixed_sampling(X_train, y_train, 'mixed')\n",
    "\n",
    "# 如果混合策略還是有問題，可以嘗試其他策略：\n",
    "# X_train_balanced, y_train_balanced = apply_mixed_sampling(X_train, y_train, 'undersample_only')\n",
    "# 或者不進行採樣：\n",
    "# X_train_balanced, y_train_balanced = X_train, y_train\n"
   ]
  },
  {
   "cell_type": "code",
   "execution_count": 10,
   "id": "bdba51a5",
   "metadata": {},
   "outputs": [
    {
     "name": "stdout",
     "output_type": "stream",
     "text": [
      "\n",
      "訓練 LightGBM (優化版)...\n",
      "Training until validation scores don't improve for 50 rounds\n",
      "[100]\tvalid_0's multi_logloss: 0.651958\n",
      "[200]\tvalid_0's multi_logloss: 0.604593\n",
      "[300]\tvalid_0's multi_logloss: 0.584771\n",
      "[400]\tvalid_0's multi_logloss: 0.570723\n",
      "[500]\tvalid_0's multi_logloss: 0.558812\n",
      "[600]\tvalid_0's multi_logloss: 0.548499\n",
      "[700]\tvalid_0's multi_logloss: 0.539978\n",
      "[800]\tvalid_0's multi_logloss: 0.53255\n",
      "[900]\tvalid_0's multi_logloss: 0.52578\n",
      "[1000]\tvalid_0's multi_logloss: 0.520255\n",
      "Did not meet early stopping. Best iteration is:\n",
      "[1000]\tvalid_0's multi_logloss: 0.520255\n",
      "\n",
      "訓練時間: 2173.86 秒\n",
      "最佳迭代次數: 1000\n",
      "準確率: 0.7711\n",
      "F1分數: 0.8043\n",
      "平衡準確率: 0.8533\n",
      "\n",
      "分類報告:\n",
      "              precision    recall  f1-score   support\n",
      "\n",
      "  Severity 1       0.39      0.96      0.56     13473\n",
      "  Severity 2       0.98      0.75      0.85   1230289\n",
      "  Severity 3       0.57      0.85      0.68    259850\n",
      "  Severity 4       0.19      0.86      0.32     40702\n",
      "\n",
      "    accuracy                           0.77   1544314\n",
      "   macro avg       0.53      0.85      0.60   1544314\n",
      "weighted avg       0.88      0.77      0.80   1544314\n",
      "\n"
     ]
    }
   ],
   "source": [
    "# ===========================\n",
    "# Cell 10: LightGBM模型（優化版）\n",
    "# ===========================\n",
    "\n",
    "def train_lightgbm_optimized(X_train, X_test, y_train, y_test, class_weights):\n",
    "    \"\"\"訓練優化的LightGBM模型\"\"\"\n",
    "    print(\"\\n訓練 LightGBM (優化版)...\")\n",
    "    \n",
    "    # 創建數據集\n",
    "    train_data = lgb.Dataset(X_train, label=y_train)\n",
    "    valid_data = lgb.Dataset(X_test, label=y_test, reference=train_data)\n",
    "    \n",
    "    # 參數設置（基於Kaggle最佳實踐）\n",
    "    params = {\n",
    "        'objective': 'multiclass',\n",
    "        'num_class': 4,\n",
    "        'metric': 'multi_logloss',\n",
    "        'boosting_type': 'gbdt',\n",
    "        'num_leaves': 127,\n",
    "        'max_depth': -1,\n",
    "        'learning_rate': 0.05,\n",
    "        'n_estimators': 1000,\n",
    "        'subsample': 0.8,\n",
    "        'colsample_bytree': 0.8,\n",
    "        'reg_alpha': 0.1,\n",
    "        'reg_lambda': 0.1,\n",
    "        'min_child_samples': 20,\n",
    "        'min_split_gain': 0.02,\n",
    "        'class_weight': 'balanced',\n",
    "        'device': 'gpu' if torch.cuda.is_available() else 'cpu',\n",
    "        'gpu_platform_id': 0,\n",
    "        'gpu_device_id': 0,\n",
    "        'verbose': -1,\n",
    "        'random_state': 42,\n",
    "        'n_jobs': -1\n",
    "    }\n",
    "    \n",
    "    # 訓練\n",
    "    start_time = time.time()\n",
    "    \n",
    "    model = lgb.train(\n",
    "        params,\n",
    "        train_data,\n",
    "        valid_sets=[valid_data],\n",
    "        num_boost_round=1000,\n",
    "        callbacks=[\n",
    "            lgb.early_stopping(stopping_rounds=50),\n",
    "            lgb.log_evaluation(period=100)\n",
    "        ]\n",
    "    )\n",
    "    \n",
    "    train_time = time.time() - start_time\n",
    "    \n",
    "    # 預測\n",
    "    y_pred = model.predict(X_test, num_iteration=model.best_iteration)\n",
    "    y_pred = np.argmax(y_pred, axis=1)\n",
    "    \n",
    "    # 評估\n",
    "    accuracy = accuracy_score(y_test, y_pred)\n",
    "    f1 = f1_score(y_test, y_pred, average='weighted')\n",
    "    balanced_acc = balanced_accuracy_score(y_test, y_pred)\n",
    "    \n",
    "    print(f\"\\n訓練時間: {train_time:.2f} 秒\")\n",
    "    print(f\"最佳迭代次數: {model.best_iteration}\")\n",
    "    print(f\"準確率: {accuracy:.4f}\")\n",
    "    print(f\"F1分數: {f1:.4f}\")\n",
    "    print(f\"平衡準確率: {balanced_acc:.4f}\")\n",
    "    \n",
    "    # 詳細報告\n",
    "    print(\"\\n分類報告:\")\n",
    "    print(classification_report(y_test, y_pred, \n",
    "                              target_names=[f'Severity {i+1}' for i in range(4)]))\n",
    "    \n",
    "    return model, accuracy, f1, balanced_acc\n",
    "\n",
    "# 訓練模型\n",
    "lgb_model, lgb_acc, lgb_f1, lgb_balanced_acc = train_lightgbm_optimized(\n",
    "    X_train_balanced, X_test, y_train_balanced, y_test, class_weight_dict\n",
    ")"
   ]
  },
  {
   "cell_type": "code",
   "execution_count": 11,
   "id": "0b648315",
   "metadata": {},
   "outputs": [
    {
     "name": "stdout",
     "output_type": "stream",
     "text": [
      "\n",
      "訓練 XGBoost (穩定版)...\n",
      "[0]\tvalidation_0-mlogloss:1.32514\n",
      "[100]\tvalidation_0-mlogloss:0.73571\n",
      "[200]\tvalidation_0-mlogloss:0.67866\n",
      "[299]\tvalidation_0-mlogloss:0.64944\n",
      "\n",
      "訓練時間: 13.84 秒\n",
      "準確率: 0.6995\n",
      "F1分數: 0.7459\n",
      "平衡準確率: 0.8217\n",
      "\n",
      "分類報告:\n",
      "              precision    recall  f1-score   support\n",
      "\n",
      "  Severity 1       0.26      0.96      0.40     13473\n",
      "  Severity 2       0.97      0.67      0.79   1230289\n",
      "  Severity 3       0.49      0.80      0.61    259850\n",
      "  Severity 4       0.15      0.85      0.26     40702\n",
      "\n",
      "    accuracy                           0.70   1544314\n",
      "   macro avg       0.47      0.82      0.52   1544314\n",
      "weighted avg       0.87      0.70      0.75   1544314\n",
      "\n"
     ]
    }
   ],
   "source": [
    "# ===========================\n",
    "# Cell 11: XGBoost模型（穩定版）\n",
    "# ===========================\n",
    "\n",
    "def train_xgboost_stable(X_train, X_test, y_train, y_test, use_sample_weight=True):\n",
    "    \"\"\"穩定版XGBoost\"\"\"\n",
    "    print(\"\\n訓練 XGBoost (穩定版)...\")\n",
    "    \n",
    "    # 使用原始的類別權重，但不要太極端\n",
    "    if use_sample_weight:\n",
    "        # 溫和的類別權重\n",
    "        unique, counts = np.unique(y_train, return_counts=True)\n",
    "        weight_dict = {}\n",
    "        max_count = max(counts)\n",
    "        for cls, count in zip(unique, counts):\n",
    "            # 權重不超過10倍\n",
    "            weight_dict[cls] = min(max_count / count, 10.0)\n",
    "        \n",
    "        sample_weights = np.array([weight_dict[y] for y in y_train])\n",
    "    else:\n",
    "        sample_weights = None\n",
    "    \n",
    "    # XGBoost參數\n",
    "    params = {\n",
    "        'objective': 'multi:softprob',\n",
    "        'num_class': 4,\n",
    "        'max_depth': 6,\n",
    "        'learning_rate': 0.1,\n",
    "        'n_estimators': 300,\n",
    "        'subsample': 0.8,\n",
    "        'colsample_bytree': 0.8,\n",
    "        'min_child_weight': 5,  # 增加以防止過擬合\n",
    "        'gamma': 0.1,\n",
    "        'reg_alpha': 0.1,\n",
    "        'reg_lambda': 1,\n",
    "        'tree_method': 'gpu_hist' if torch.cuda.is_available() else 'hist',\n",
    "        'random_state': 42,\n",
    "        'use_label_encoder': False,\n",
    "        'eval_metric': 'mlogloss'\n",
    "    }\n",
    "    \n",
    "    # 訓練\n",
    "    model = xgb.XGBClassifier(**params)\n",
    "    \n",
    "    start_time = time.time()\n",
    "    model.fit(\n",
    "        X_train, y_train,\n",
    "        sample_weight=sample_weights,\n",
    "        eval_set=[(X_test, y_test)],\n",
    "        # early_stopping_rounds=50,\n",
    "        verbose=100\n",
    "    )\n",
    "    train_time = time.time() - start_time\n",
    "    \n",
    "    # 預測\n",
    "    y_pred = model.predict(X_test)\n",
    "    \n",
    "    # 評估\n",
    "    accuracy = accuracy_score(y_test, y_pred)\n",
    "    f1 = f1_score(y_test, y_pred, average='weighted')\n",
    "    balanced_acc = balanced_accuracy_score(y_test, y_pred)\n",
    "    \n",
    "    print(f\"\\n訓練時間: {train_time:.2f} 秒\")\n",
    "    print(f\"準確率: {accuracy:.4f}\")\n",
    "    print(f\"F1分數: {f1:.4f}\")\n",
    "    print(f\"平衡準確率: {balanced_acc:.4f}\")\n",
    "    \n",
    "    print(\"\\n分類報告:\")\n",
    "    print(classification_report(y_test, y_pred, \n",
    "                              target_names=[f'Severity {i+1}' for i in range(4)]))\n",
    "    \n",
    "    return model, accuracy, f1, balanced_acc\n",
    "\n",
    "# 執行訓練\n",
    "xgb_model, xgb_acc, xgb_f1, xgb_balanced_acc = train_xgboost_stable(\n",
    "    X_train_balanced, X_test, y_train_balanced, y_test\n",
    ")"
   ]
  },
  {
   "cell_type": "code",
   "execution_count": 12,
   "id": "47a7597e",
   "metadata": {},
   "outputs": [
    {
     "name": "stdout",
     "output_type": "stream",
     "text": [
      "\n",
      "訓練 CatBoost (優化版)...\n"
     ]
    },
    {
     "name": "stderr",
     "output_type": "stream",
     "text": [
      "Warning: less than 75% GPU memory available for training. Free: 12931.4375 Total: 24127.9375\n"
     ]
    },
    {
     "name": "stdout",
     "output_type": "stream",
     "text": [
      "0:\tlearn: 0.6764956\ttest: 0.5434086\tbest: 0.5434086 (0)\ttotal: 26.6ms\tremaining: 26.6s\n",
      "100:\tlearn: 0.7602058\ttest: 0.6402475\tbest: 0.6402475 (100)\ttotal: 2.39s\tremaining: 21.3s\n",
      "200:\tlearn: 0.7830976\ttest: 0.6798540\tbest: 0.6798540 (200)\ttotal: 4.71s\tremaining: 18.7s\n",
      "300:\tlearn: 0.7940204\ttest: 0.6984590\tbest: 0.6984590 (300)\ttotal: 6.95s\tremaining: 16.1s\n",
      "400:\tlearn: 0.8020022\ttest: 0.7121693\tbest: 0.7121693 (400)\ttotal: 9.19s\tremaining: 13.7s\n",
      "500:\tlearn: 0.8078044\ttest: 0.7209234\tbest: 0.7209234 (500)\ttotal: 11.4s\tremaining: 11.3s\n",
      "600:\tlearn: 0.8124857\ttest: 0.7284292\tbest: 0.7284292 (600)\ttotal: 13.6s\tremaining: 9.02s\n",
      "700:\tlearn: 0.8164636\ttest: 0.7344848\tbest: 0.7344848 (700)\ttotal: 15.8s\tremaining: 6.74s\n",
      "800:\tlearn: 0.8195583\ttest: 0.7393810\tbest: 0.7393810 (800)\ttotal: 18s\tremaining: 4.48s\n",
      "900:\tlearn: 0.8225203\ttest: 0.7437229\tbest: 0.7437229 (900)\ttotal: 20.3s\tremaining: 2.23s\n",
      "999:\tlearn: 0.8247384\ttest: 0.7471531\tbest: 0.7471531 (999)\ttotal: 22.5s\tremaining: 0us\n",
      "bestTest = 0.7471530544\n",
      "bestIteration = 999\n",
      "\n",
      "訓練時間: 47.40 秒\n",
      "準確率: 0.7011\n",
      "F1分數: 0.7472\n",
      "平衡準確率: 0.8230\n"
     ]
    }
   ],
   "source": [
    "# ===========================\n",
    "# Cell 12: CatBoost模型\n",
    "# ===========================\n",
    "\n",
    "def train_catboost_optimized(X_train, X_test, y_train, y_test):\n",
    "    \"\"\"訓練優化的CatBoost模型\"\"\"\n",
    "    print(\"\\n訓練 CatBoost (優化版)...\")\n",
    "    \n",
    "    # CatBoost參數\n",
    "    model = CatBoostClassifier(\n",
    "        iterations=1000,\n",
    "        depth=8,\n",
    "        learning_rate=0.05,\n",
    "        loss_function='MultiClass',\n",
    "        eval_metric='TotalF1',\n",
    "        auto_class_weights='Balanced',\n",
    "        l2_leaf_reg=3,\n",
    "        random_strength=1,\n",
    "        bagging_temperature=1,\n",
    "        od_type='Iter',\n",
    "        od_wait=50,\n",
    "        task_type='GPU' if torch.cuda.is_available() else 'CPU',\n",
    "        devices='0',\n",
    "        random_state=42,\n",
    "        verbose=100\n",
    "    )\n",
    "    \n",
    "    # 訓練\n",
    "    start_time = time.time()\n",
    "    \n",
    "    model.fit(\n",
    "        X_train, y_train,\n",
    "        eval_set=(X_test, y_test),\n",
    "        early_stopping_rounds=50,\n",
    "        plot=False\n",
    "    )\n",
    "    \n",
    "    train_time = time.time() - start_time\n",
    "    \n",
    "    # 預測\n",
    "    y_pred = model.predict(X_test)\n",
    "    \n",
    "    # 評估\n",
    "    accuracy = accuracy_score(y_test, y_pred)\n",
    "    f1 = f1_score(y_test, y_pred, average='weighted')\n",
    "    balanced_acc = balanced_accuracy_score(y_test, y_pred)\n",
    "    \n",
    "    print(f\"\\n訓練時間: {train_time:.2f} 秒\")\n",
    "    print(f\"準確率: {accuracy:.4f}\")\n",
    "    print(f\"F1分數: {f1:.4f}\")\n",
    "    print(f\"平衡準確率: {balanced_acc:.4f}\")\n",
    "    \n",
    "    return model, accuracy, f1, balanced_acc\n",
    "\n",
    "# 訓練CatBoost\n",
    "cat_model, cat_acc, cat_f1, cat_balanced_acc = train_catboost_optimized(\n",
    "    X_train_balanced, X_test, y_train_balanced, y_test\n",
    ")\n"
   ]
  },
  {
   "cell_type": "code",
   "execution_count": 13,
   "id": "d0ed3f66",
   "metadata": {},
   "outputs": [
    {
     "name": "stdout",
     "output_type": "stream",
     "text": [
      "\n",
      "訓練 Balanced Random Forest...\n"
     ]
    },
    {
     "name": "stderr",
     "output_type": "stream",
     "text": [
      "[Parallel(n_jobs=-1)]: Using backend ThreadingBackend with 16 concurrent workers.\n",
      "[Parallel(n_jobs=-1)]: Done  18 tasks      | elapsed:   12.5s\n",
      "[Parallel(n_jobs=-1)]: Done 168 tasks      | elapsed:  1.2min\n",
      "[Parallel(n_jobs=-1)]: Done 300 out of 300 | elapsed:  2.0min finished\n",
      "[Parallel(n_jobs=16)]: Using backend ThreadingBackend with 16 concurrent workers.\n",
      "[Parallel(n_jobs=16)]: Done  18 tasks      | elapsed:    0.7s\n",
      "[Parallel(n_jobs=16)]: Done 168 tasks      | elapsed:    5.2s\n",
      "[Parallel(n_jobs=16)]: Done 300 out of 300 | elapsed:    9.2s finished\n"
     ]
    },
    {
     "name": "stdout",
     "output_type": "stream",
     "text": [
      "\n",
      "訓練時間: 126.82 秒\n",
      "OOB分數: 0.4670\n",
      "準確率: 0.6434\n",
      "F1分數: 0.6977\n",
      "平衡準確率: 0.8005\n",
      "\n",
      "分類報告:\n",
      "              precision    recall  f1-score   support\n",
      "\n",
      "  Severity 1       0.21      0.96      0.35     13473\n",
      "  Severity 2       0.97      0.60      0.75   1230289\n",
      "  Severity 3       0.44      0.78      0.56    259850\n",
      "  Severity 4       0.13      0.86      0.23     40702\n",
      "\n",
      "    accuracy                           0.64   1544314\n",
      "   macro avg       0.44      0.80      0.47   1544314\n",
      "weighted avg       0.85      0.64      0.70   1544314\n",
      "\n"
     ]
    }
   ],
   "source": [
    "# ===========================\n",
    "# Cell 13: Balanced Random Forest\n",
    "# ===========================\n",
    "\n",
    "def train_balanced_rf(X_train, X_test, y_train, y_test):\n",
    "    \"\"\"訓練Balanced Random Forest\"\"\"\n",
    "    print(\"\\n訓練 Balanced Random Forest...\")\n",
    "    \n",
    "    model = BalancedRandomForestClassifier(\n",
    "        n_estimators=300,\n",
    "        max_depth=20,\n",
    "        min_samples_split=10,\n",
    "        min_samples_leaf=5,\n",
    "        max_features='sqrt',\n",
    "        bootstrap=True,\n",
    "        oob_score=True,\n",
    "        class_weight='balanced_subsample',\n",
    "        n_jobs=-1,\n",
    "        random_state=42,\n",
    "        verbose=1\n",
    "    )\n",
    "    \n",
    "    start_time = time.time()\n",
    "    model.fit(X_train, y_train)\n",
    "    train_time = time.time() - start_time\n",
    "    \n",
    "    # 預測\n",
    "    y_pred = model.predict(X_test)\n",
    "    \n",
    "    # 評估\n",
    "    accuracy = accuracy_score(y_test, y_pred)\n",
    "    f1 = f1_score(y_test, y_pred, average='weighted')\n",
    "    balanced_acc = balanced_accuracy_score(y_test, y_pred)\n",
    "    \n",
    "    print(f\"\\n訓練時間: {train_time:.2f} 秒\")\n",
    "    print(f\"OOB分數: {model.oob_score_:.4f}\")\n",
    "    print(f\"準確率: {accuracy:.4f}\")\n",
    "    print(f\"F1分數: {f1:.4f}\")\n",
    "    print(f\"平衡準確率: {balanced_acc:.4f}\")\n",
    "    \n",
    "    # 詳細報告\n",
    "    print(\"\\n分類報告:\")\n",
    "    print(classification_report(y_test, y_pred, \n",
    "                              target_names=[f'Severity {i+1}' for i in range(4)]))\n",
    "    \n",
    "    return model, accuracy, f1, balanced_acc\n",
    "\n",
    "# 訓練Balanced RF\n",
    "brf_model, brf_acc, brf_f1, brf_balanced_acc = train_balanced_rf(\n",
    "    X_train, X_test, y_train, y_test  # 使用原始數據，因為模型內部會平衡\n",
    ")\n"
   ]
  },
  {
   "cell_type": "code",
   "execution_count": 14,
   "id": "f0384288",
   "metadata": {},
   "outputs": [
    {
     "name": "stdout",
     "output_type": "stream",
     "text": [
      "\n",
      "訓練改進的神經網路...\n",
      "Epoch 10/50, Loss: 0.1497, Balanced Acc: 0.5261\n",
      "Epoch 20/50, Loss: 0.1412, Balanced Acc: 0.5640\n",
      "Epoch 30/50, Loss: 0.1374, Balanced Acc: 0.5252\n",
      "Epoch 40/50, Loss: 0.1349, Balanced Acc: 0.5327\n",
      "Epoch 50/50, Loss: 0.1331, Balanced Acc: 0.5698\n",
      "\n",
      "訓練時間: 1021.71 秒\n",
      "準確率: 0.1202\n",
      "F1分數: 0.1148\n",
      "平衡準確率: 0.5698\n"
     ]
    }
   ],
   "source": [
    "# ===========================\n",
    "# 改進的深度學習模型（替換 Cell 14）\n",
    "# ===========================\n",
    "\n",
    "class ImprovedNN(nn.Module):\n",
    "    \"\"\"改進的神經網路 - 加入更多技巧\"\"\"\n",
    "    def __init__(self, input_size, num_classes=4):\n",
    "        super(ImprovedNN, self).__init__()\n",
    "        \n",
    "        self.fc1 = nn.Linear(input_size, 512)\n",
    "        self.bn1 = nn.BatchNorm1d(512)\n",
    "        self.dropout1 = nn.Dropout(0.5)\n",
    "        \n",
    "        self.fc2 = nn.Linear(512, 256)\n",
    "        self.bn2 = nn.BatchNorm1d(256)\n",
    "        self.dropout2 = nn.Dropout(0.4)\n",
    "        \n",
    "        self.fc3 = nn.Linear(256, 128)\n",
    "        self.bn3 = nn.BatchNorm1d(128)\n",
    "        self.dropout3 = nn.Dropout(0.3)\n",
    "        \n",
    "        self.fc4 = nn.Linear(128, 64)\n",
    "        self.bn4 = nn.BatchNorm1d(64)\n",
    "        self.dropout4 = nn.Dropout(0.2)\n",
    "        \n",
    "        self.fc5 = nn.Linear(64, num_classes)\n",
    "        \n",
    "        # 初始化權重\n",
    "        self.apply(self._init_weights)\n",
    "    \n",
    "    def _init_weights(self, module):\n",
    "        if isinstance(module, nn.Linear):\n",
    "            nn.init.xavier_uniform_(module.weight)\n",
    "            if module.bias is not None:\n",
    "                nn.init.zeros_(module.bias)\n",
    "    \n",
    "    def forward(self, x):\n",
    "        x = F.relu(self.bn1(self.fc1(x)))\n",
    "        x = self.dropout1(x)\n",
    "        \n",
    "        x = F.relu(self.bn2(self.fc2(x)))\n",
    "        x = self.dropout2(x)\n",
    "        \n",
    "        x = F.relu(self.bn3(self.fc3(x)))\n",
    "        x = self.dropout3(x)\n",
    "        \n",
    "        x = F.relu(self.bn4(self.fc4(x)))\n",
    "        x = self.dropout4(x)\n",
    "        \n",
    "        x = self.fc5(x)\n",
    "        return x\n",
    "\n",
    "def train_improved_nn(X_train, X_test, y_train, y_test, epochs=100):  # epochs在這裡\n",
    "    \"\"\"訓練改進的深度學習模型\"\"\"\n",
    "    print(\"\\n訓練改進的神經網路...\")\n",
    "    \n",
    "    device = torch.device('cuda' if torch.cuda.is_available() else 'cpu')\n",
    "    \n",
    "    # 標準化\n",
    "    from sklearn.preprocessing import RobustScaler\n",
    "    scaler = RobustScaler()\n",
    "    X_train_scaled = scaler.fit_transform(X_train)\n",
    "    X_test_scaled = scaler.transform(X_test)\n",
    "    \n",
    "    # 轉換為張量\n",
    "    X_train_tensor = torch.FloatTensor(X_train_scaled).to(device)\n",
    "    y_train_tensor = torch.LongTensor(y_train).to(device)\n",
    "    X_test_tensor = torch.FloatTensor(X_test_scaled).to(device)\n",
    "    \n",
    "    # DataLoader\n",
    "    train_dataset = TensorDataset(X_train_tensor, y_train_tensor)\n",
    "    train_loader = DataLoader(train_dataset, batch_size=2048, shuffle=True)\n",
    "    \n",
    "    # 創建模型 - 不傳入epochs\n",
    "    model = ImprovedNN(X_train.shape[1]).to(device)\n",
    "    \n",
    "    # 損失函數\n",
    "    class_weights_tensor = torch.FloatTensor(list(class_weight_dict.values())).to(device)\n",
    "    criterion = nn.CrossEntropyLoss(weight=class_weights_tensor)\n",
    "    optimizer = optim.Adam(model.parameters(), lr=0.001)\n",
    "    \n",
    "    # 訓練循環\n",
    "    start_time = time.time()\n",
    "    best_balanced_acc = 0\n",
    "    \n",
    "    for epoch in range(epochs):  # epochs在這裡使用\n",
    "        model.train()\n",
    "        total_loss = 0\n",
    "        \n",
    "        for batch_X, batch_y in train_loader:\n",
    "            optimizer.zero_grad()\n",
    "            outputs = model(batch_X)\n",
    "            loss = criterion(outputs, batch_y)\n",
    "            loss.backward()\n",
    "            optimizer.step()\n",
    "            total_loss += loss.item()\n",
    "        \n",
    "        # 每10個epoch評估一次\n",
    "        if (epoch + 1) % 10 == 0:\n",
    "            model.eval()\n",
    "            with torch.no_grad():\n",
    "                val_outputs = model(X_test_tensor)\n",
    "                _, predicted = torch.max(val_outputs, 1)\n",
    "                val_balanced_acc = balanced_accuracy_score(y_test, predicted.cpu().numpy())\n",
    "            \n",
    "            print(f\"Epoch {epoch+1}/{epochs}, Loss: {total_loss/len(train_loader):.4f}, \"\n",
    "                  f\"Balanced Acc: {val_balanced_acc:.4f}\")\n",
    "            \n",
    "            if val_balanced_acc > best_balanced_acc:\n",
    "                best_balanced_acc = val_balanced_acc\n",
    "                best_model_state = model.state_dict()\n",
    "    \n",
    "    # 載入最佳模型\n",
    "    if best_balanced_acc > 0:\n",
    "        model.load_state_dict(best_model_state)\n",
    "    \n",
    "    # 最終評估\n",
    "    model.eval()\n",
    "    with torch.no_grad():\n",
    "        outputs = model(X_test_tensor)\n",
    "        _, predicted = torch.max(outputs, 1)\n",
    "        y_pred = predicted.cpu().numpy()\n",
    "    \n",
    "    train_time = time.time() - start_time\n",
    "    \n",
    "    accuracy = accuracy_score(y_test, y_pred)\n",
    "    f1 = f1_score(y_test, y_pred, average='weighted')\n",
    "    balanced_acc = balanced_accuracy_score(y_test, y_pred)\n",
    "    \n",
    "    print(f\"\\n訓練時間: {train_time:.2f} 秒\")\n",
    "    print(f\"準確率: {accuracy:.4f}\")\n",
    "    print(f\"F1分數: {f1:.4f}\")\n",
    "    print(f\"平衡準確率: {balanced_acc:.4f}\")\n",
    "    \n",
    "    return model, scaler, accuracy, f1, balanced_acc\n",
    "\n",
    "# 執行訓練\n",
    "nn_model, nn_scaler, nn_acc, nn_f1, nn_balanced_acc = train_improved_nn(\n",
    "    X_train_balanced, X_test, y_train_balanced, y_test, epochs=50\n",
    ")\n"
   ]
  },
  {
   "cell_type": "code",
   "execution_count": 15,
   "id": "005ad0f7",
   "metadata": {},
   "outputs": [
    {
     "name": "stdout",
     "output_type": "stream",
     "text": [
      "\n",
      "======================================================================\n",
      "模型性能比較\n",
      "======================================================================\n",
      "模型                   準確率        F1分數       平衡準確率     \n",
      "----------------------------------------------------------------------\n",
      "LightGBM             0.7711     0.8043     0.8533    \n",
      "CatBoost             0.7011     0.7472     0.8230    \n",
      "XGBoost              0.6995     0.7459     0.8217    \n",
      "Balanced_RF          0.6434     0.6977     0.8005    \n",
      "Neural_Network       0.1202     0.1148     0.5698    \n",
      "\n",
      "🏆 最佳模型: LightGBM\n",
      "   平衡準確率: 0.8533\n"
     ]
    }
   ],
   "source": [
    "# ===========================\n",
    "# Cell 15: 模型比較和集成\n",
    "# ===========================\n",
    "\n",
    "# 收集所有結果\n",
    "results = {\n",
    "    'LightGBM': {'accuracy': lgb_acc, 'f1': lgb_f1, 'balanced_acc': lgb_balanced_acc},\n",
    "    'XGBoost': {'accuracy': xgb_acc, 'f1': xgb_f1, 'balanced_acc': xgb_balanced_acc},\n",
    "    'CatBoost': {'accuracy': cat_acc, 'f1': cat_f1, 'balanced_acc': cat_balanced_acc},\n",
    "    'Balanced_RF': {'accuracy': brf_acc, 'f1': brf_f1, 'balanced_acc': brf_balanced_acc},\n",
    "    'Neural_Network': {'accuracy': nn_acc, 'f1': nn_f1, 'balanced_acc': nn_balanced_acc}\n",
    "}\n",
    "\n",
    "print(\"\\n\" + \"=\"*70)\n",
    "print(\"模型性能比較\")\n",
    "print(\"=\"*70)\n",
    "print(f\"{'模型':<20} {'準確率':<10} {'F1分數':<10} {'平衡準確率':<10}\")\n",
    "print(\"-\"*70)\n",
    "\n",
    "for model_name, metrics in sorted(results.items(), key=lambda x: x[1]['balanced_acc'], reverse=True):\n",
    "    print(f\"{model_name:<20} {metrics['accuracy']:<10.4f} {metrics['f1']:<10.4f} {metrics['balanced_acc']:<10.4f}\")\n",
    "\n",
    "# 找出最佳模型\n",
    "best_model_name = max(results.items(), key=lambda x: x[1]['balanced_acc'])[0]\n",
    "print(f\"\\n🏆 最佳模型: {best_model_name}\")\n",
    "print(f\"   平衡準確率: {results[best_model_name]['balanced_acc']:.4f}\")\n"
   ]
  },
  {
   "cell_type": "code",
   "execution_count": 16,
   "id": "47563d16",
   "metadata": {},
   "outputs": [
    {
     "name": "stdout",
     "output_type": "stream",
     "text": [
      "\n",
      "✅ 所有模型和結果已保存至: ./model_output/\n"
     ]
    }
   ],
   "source": [
    "# ===========================\n",
    "# Cell 16: 保存模型和結果（修正版）\n",
    "# ===========================\n",
    "\n",
    "def save_models_and_results(models, results, feature_names, label_encoders):\n",
    "    \"\"\"保存所有模型和結果\"\"\"\n",
    "    output_dir = './model_output/'\n",
    "    os.makedirs(output_dir, exist_ok=True)\n",
    "    \n",
    "    # 保存模型\n",
    "    model_dict = {\n",
    "        'LightGBM': lgb_model,\n",
    "        'XGBoost': xgb_model,\n",
    "        'CatBoost': cat_model,\n",
    "        'Balanced_RF': brf_model\n",
    "    }\n",
    "    \n",
    "    for name, model in model_dict.items():\n",
    "        if name == 'LightGBM':\n",
    "            model.save_model(f'{output_dir}{name.lower()}_model.txt')\n",
    "        else:\n",
    "            joblib.dump(model, f'{output_dir}{name.lower()}_model.pkl')\n",
    "    \n",
    "    # 保存神經網路\n",
    "    torch.save(nn_model.state_dict(), f'{output_dir}neural_network_model.pth')\n",
    "    joblib.dump(nn_scaler, f'{output_dir}nn_scaler.pkl')\n",
    "    \n",
    "    # 保存特徵名稱和編碼器\n",
    "    joblib.dump(feature_names, f'{output_dir}feature_names.pkl')\n",
    "    joblib.dump(label_encoders, f'{output_dir}label_encoders.pkl')\n",
    "    \n",
    "    # 保存結果\n",
    "    import json\n",
    "    with open(f'{output_dir}results.json', 'w') as f:\n",
    "        json.dump(results, f, indent=4)\n",
    "    \n",
    "    # 保存訓練信息 - 修正：將numpy類型轉換為Python原生類型\n",
    "    train_info = {\n",
    "        'train_size': int(len(X_train)),  # 轉換為int\n",
    "        'test_size': int(len(X_test)),    # 轉換為int\n",
    "        'n_features': int(len(feature_names)),  # 轉換為int\n",
    "        'class_distribution': {int(k): int(v) for k, v in zip(*np.unique(y, return_counts=True))},  # 轉換鍵值\n",
    "        'best_model': best_model_name,\n",
    "        'training_date': datetime.now().strftime('%Y-%m-%d %H:%M:%S')\n",
    "    }\n",
    "    \n",
    "    with open(f'{output_dir}train_info.json', 'w') as f:\n",
    "        json.dump(train_info, f, indent=4)\n",
    "    \n",
    "    print(f\"\\n✅ 所有模型和結果已保存至: {output_dir}\")\n",
    "\n",
    "# 保存\n",
    "save_models_and_results(\n",
    "    {'nn_model': nn_model, 'nn_scaler': nn_scaler},\n",
    "    results,\n",
    "    feature_names,\n",
    "    label_encoders\n",
    ")"
   ]
  },
  {
   "cell_type": "code",
   "execution_count": 17,
   "id": "4b70c546",
   "metadata": {},
   "outputs": [
    {
     "name": "stdout",
     "output_type": "stream",
     "text": [
      "重新載入地理數據...\n",
      "地理數據大小: (1000000, 6)\n",
      "數據範圍: Lat [24.55, 49.00], Lng [-124.50, -68.16]\n",
      "創建網格統計...\n",
      "網格數量: 1156\n"
     ]
    },
    {
     "data": {
      "application/vnd.plotly.v1+json": {
       "config": {
        "plotlyServerURL": "https://plot.ly"
       },
       "data": [
        {
         "hovertemplate": "%{text}<extra></extra>",
         "lat": {
          "bdata": "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",
          "dtype": "f8"
         },
         "lon": {
          "bdata": "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",
          "dtype": "f8"
         },
         "marker": {
          "color": {
           "bdata": "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",
           "dtype": "f8"
          },
          "colorbar": {
           "title": {
            "text": "平均嚴重度"
           }
          },
          "colorscale": [
           [
            0,
            "rgb(255,245,240)"
           ],
           [
            0.125,
            "rgb(254,224,210)"
           ],
           [
            0.25,
            "rgb(252,187,161)"
           ],
           [
            0.375,
            "rgb(252,146,114)"
           ],
           [
            0.5,
            "rgb(251,106,74)"
           ],
           [
            0.625,
            "rgb(239,59,44)"
           ],
           [
            0.75,
            "rgb(203,24,29)"
           ],
           [
            0.875,
            "rgb(165,15,21)"
           ],
           [
            1,
            "rgb(103,0,13)"
           ]
          ],
          "opacity": 0.7,
          "showscale": true,
          "size": {
           "bdata": "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",
           "dtype": "f8"
          }
         },
         "mode": "markers",
         "text": [
          "位置: (24.50, -82.00)<br>事故數: 13<br>平均嚴重度: 2.08",
          "位置: (24.50, -81.50)<br>事故數: 39<br>平均嚴重度: 2.05",
          "位置: (24.50, -81.00)<br>事故數: 15<br>平均嚴重度: 2.00",
          "位置: (25.00, -80.50)<br>事故數: 224<br>平均嚴重度: 2.03",
          "位置: (25.50, -82.00)<br>事故數: 12<br>平均嚴重度: 1.75",
          "位置: (25.50, -80.50)<br>事故數: 14735<br>平均嚴重度: 2.35",
          "位置: (26.00, -98.50)<br>事故數: 132<br>平均嚴重度: 1.92",
          "位置: (26.00, -98.00)<br>事故數: 20<br>平均嚴重度: 1.95",
          "位置: (26.00, -82.50)<br>事故數: 16<br>平均嚴重度: 2.00",
          "位置: (26.00, -82.00)<br>事故數: 1976<br>平均嚴重度: 2.14",
          "位置: (26.00, -81.50)<br>事故數: 148<br>平均嚴重度: 2.59",
          "位置: (26.00, -81.00)<br>事故數: 57<br>平均嚴重度: 2.91",
          "位置: (26.00, -80.50)<br>事故數: 8011<br>平均嚴重度: 2.58",
          "位置: (26.50, -82.50)<br>事故數: 287<br>平均嚴重度: 2.19",
          "位置: (26.50, -82.00)<br>事故數: 4398<br>平均嚴重度: 2.00",
          "位置: (26.50, -81.50)<br>事故數: 52<br>平均嚴重度: 2.02",
          "位置: (26.50, -81.00)<br>事故數: 42<br>平均嚴重度: 1.71",
          "位置: (26.50, -80.50)<br>事故數: 3372<br>平均嚴重度: 2.52",
          "位置: (27.00, -83.00)<br>事故數: 2335<br>平均嚴重度: 1.96",
          "位置: (27.00, -82.50)<br>事故數: 3216<br>平均嚴重度: 2.26",
          "位置: (27.00, -82.00)<br>事故數: 128<br>平均嚴重度: 1.94",
          "位置: (27.00, -81.50)<br>事故數: 123<br>平均嚴重度: 2.00",
          "位置: (27.00, -81.00)<br>事故數: 38<br>平均嚴重度: 2.08",
          "位置: (27.00, -80.50)<br>事故數: 744<br>平均嚴重度: 2.50",
          "位置: (27.50, -83.00)<br>事故數: 7347<br>平均嚴重度: 2.16",
          "位置: (27.50, -82.50)<br>事故數: 4747<br>平均嚴重度: 2.31",
          "位置: (27.50, -82.00)<br>事故數: 389<br>平均嚴重度: 1.90",
          "位置: (27.50, -81.50)<br>事故數: 80<br>平均嚴重度: 1.98",
          "位置: (27.50, -81.00)<br>事故數: 386<br>平均嚴重度: 2.49",
          "位置: (27.50, -80.50)<br>事故數: 94<br>平均嚴重度: 2.29",
          "位置: (28.00, -83.00)<br>事故數: 5103<br>平均嚴重度: 1.92",
          "位置: (28.00, -82.50)<br>事故數: 4766<br>平均嚴重度: 2.30",
          "位置: (28.00, -82.00)<br>事故數: 2556<br>平均嚴重度: 2.29",
          "位置: (28.00, -81.50)<br>事故數: 5350<br>平均嚴重度: 2.10",
          "位置: (28.00, -81.00)<br>事故數: 1466<br>平均嚴重度: 2.28",
          "位置: (28.50, -83.00)<br>事故數: 506<br>平均嚴重度: 1.94",
          "位置: (28.50, -82.50)<br>事故數: 1286<br>平均嚴重度: 2.16",
          "位置: (28.50, -82.00)<br>事故數: 1648<br>平均嚴重度: 2.00",
          "位置: (28.50, -81.50)<br>事故數: 9320<br>平均嚴重度: 2.20",
          "位置: (28.50, -81.00)<br>事故數: 264<br>平均嚴重度: 2.49",
          "位置: (29.00, -99.00)<br>事故數: 1281<br>平均嚴重度: 2.32",
          "位置: (29.00, -98.50)<br>事故數: 3610<br>平均嚴重度: 2.39",
          "位置: (29.00, -95.50)<br>事故數: 134<br>平均嚴重度: 2.42",
          "位置: (29.00, -95.00)<br>事故數: 40<br>平均嚴重度: 2.80",
          "位置: (29.00, -83.00)<br>事故數: 59<br>平均嚴重度: 1.95",
          "位置: (29.00, -82.50)<br>事故數: 1287<br>平均嚴重度: 2.34",
          "位置: (29.00, -82.00)<br>事故數: 97<br>平均嚴重度: 1.92",
          "位置: (29.00, -81.50)<br>事故數: 912<br>平均嚴重度: 2.57",
          "位置: (29.00, -81.00)<br>事故數: 41<br>平均嚴重度: 2.46",
          "位置: (29.50, -99.00)<br>事故數: 597<br>平均嚴重度: 2.43",
          "位置: (29.50, -98.50)<br>事故數: 2825<br>平均嚴重度: 2.36",
          "位置: (29.50, -98.00)<br>事故數: 183<br>平均嚴重度: 2.75",
          "位置: (29.50, -97.50)<br>事故數: 12<br>平均嚴重度: 2.75",
          "位置: (29.50, -97.00)<br>事故數: 14<br>平均嚴重度: 2.71",
          "位置: (29.50, -96.50)<br>事故數: 34<br>平均嚴重度: 2.74",
          "位置: (29.50, -96.00)<br>事故數: 11462<br>平均嚴重度: 2.10",
          "位置: (29.50, -95.50)<br>事故數: 29854<br>平均嚴重度: 2.26",
          "位置: (29.50, -95.00)<br>事故數: 32<br>平均嚴重度: 2.50",
          "位置: (29.50, -91.00)<br>事故數: 100<br>平均嚴重度: 2.03",
          "位置: (29.50, -90.50)<br>事故數: 734<br>平均嚴重度: 2.67",
          "位置: (29.50, -83.50)<br>事故數: 10<br>平均嚴重度: 1.60",
          "位置: (29.50, -83.00)<br>事故數: 191<br>平均嚴重度: 2.26",
          "位置: (29.50, -82.50)<br>事故數: 241<br>平均嚴重度: 2.22",
          "位置: (29.50, -82.00)<br>事故數: 98<br>平均嚴重度: 1.88",
          "位置: (29.50, -81.50)<br>事故數: 306<br>平均嚴重度: 2.37",
          "位置: (30.00, -98.50)<br>事故數: 213<br>平均嚴重度: 1.97",
          "位置: (30.00, -98.00)<br>事故數: 25990<br>平均嚴重度: 2.09",
          "位置: (30.00, -97.50)<br>事故數: 139<br>平均嚴重度: 1.94",
          "位置: (30.00, -97.00)<br>事故數: 10<br>平均嚴重度: 2.00",
          "位置: (30.00, -96.50)<br>事故數: 11<br>平均嚴重度: 2.27",
          "位置: (30.00, -96.00)<br>事故數: 284<br>平均嚴重度: 1.97",
          "位置: (30.00, -95.50)<br>事故數: 1450<br>平均嚴重度: 2.47",
          "位置: (30.00, -94.50)<br>事故數: 11<br>平均嚴重度: 2.45",
          "位置: (30.00, -94.00)<br>事故數: 49<br>平均嚴重度: 2.98",
          "位置: (30.00, -93.50)<br>事故數: 206<br>平均嚴重度: 3.00",
          "位置: (30.00, -93.00)<br>事故數: 38<br>平均嚴重度: 2.95",
          "位置: (30.00, -92.50)<br>事故數: 1364<br>平均嚴重度: 1.76",
          "位置: (30.00, -92.00)<br>事故數: 370<br>平均嚴重度: 2.12",
          "位置: (30.00, -91.50)<br>事故數: 4597<br>平均嚴重度: 2.07",
          "位置: (30.00, -91.00)<br>事故數: 193<br>平均嚴重度: 2.67",
          "位置: (30.00, -90.50)<br>事故數: 654<br>平均嚴重度: 2.95",
          "位置: (30.00, -90.00)<br>事故數: 196<br>平均嚴重度: 2.89",
          "位置: (30.00, -89.50)<br>事故數: 46<br>平均嚴重度: 2.24",
          "位置: (30.00, -89.00)<br>事故數: 70<br>平均嚴重度: 2.41",
          "位置: (30.00, -88.50)<br>事故數: 37<br>平均嚴重度: 2.68",
          "位置: (30.00, -87.50)<br>事故數: 502<br>平均嚴重度: 1.96",
          "位置: (30.00, -87.00)<br>事故數: 178<br>平均嚴重度: 1.96",
          "位置: (30.00, -86.50)<br>事故數: 104<br>平均嚴重度: 1.96",
          "位置: (30.00, -86.00)<br>事故數: 225<br>平均嚴重度: 1.91",
          "位置: (30.00, -85.50)<br>事故數: 75<br>平均嚴重度: 1.99",
          "位置: (30.00, -85.00)<br>事故數: 24<br>平均嚴重度: 1.83",
          "位置: (30.00, -84.50)<br>事故數: 563<br>平均嚴重度: 2.09",
          "位置: (30.00, -84.00)<br>事故數: 83<br>平均嚴重度: 2.28",
          "位置: (30.00, -83.50)<br>事故數: 100<br>平均嚴重度: 2.23",
          "位置: (30.00, -83.00)<br>事故數: 329<br>平均嚴重度: 2.24",
          "位置: (30.00, -82.50)<br>事故數: 153<br>平均嚴重度: 2.22",
          "位置: (30.00, -82.00)<br>事故數: 3653<br>平均嚴重度: 2.50",
          "位置: (30.00, -81.50)<br>事故數: 175<br>平均嚴重度: 2.15",
          "位置: (30.50, -98.50)<br>事故數: 31<br>平均嚴重度: 1.94",
          "位置: (30.50, -98.00)<br>事故數: 474<br>平均嚴重度: 2.26",
          "位置: (30.50, -97.50)<br>事故數: 12<br>平均嚴重度: 1.75",
          "位置: (30.50, -96.50)<br>事故數: 13<br>平均嚴重度: 2.00",
          "位置: (30.50, -96.00)<br>事故數: 31<br>平均嚴重度: 2.35",
          "位置: (30.50, -91.50)<br>事故數: 760<br>平均嚴重度: 1.89",
          "位置: (30.50, -91.00)<br>事故數: 54<br>平均嚴重度: 2.04",
          "位置: (30.50, -88.50)<br>事故數: 746<br>平均嚴重度: 2.57",
          "位置: (30.50, -88.00)<br>事故數: 214<br>平均嚴重度: 2.57",
          "位置: (30.50, -87.50)<br>事故數: 715<br>平均嚴重度: 2.15",
          "位置: (30.50, -87.00)<br>事故數: 181<br>平均嚴重度: 2.23",
          "位置: (30.50, -86.50)<br>事故數: 115<br>平均嚴重度: 2.32",
          "位置: (30.50, -86.00)<br>事故數: 109<br>平均嚴重度: 2.19",
          "位置: (30.50, -85.50)<br>事故數: 113<br>平均嚴重度: 2.08",
          "位置: (30.50, -85.00)<br>事故數: 116<br>平均嚴重度: 2.32",
          "位置: (30.50, -84.50)<br>事故數: 102<br>平均嚴重度: 2.12",
          "位置: (30.50, -84.00)<br>事故數: 19<br>平均嚴重度: 1.89",
          "位置: (30.50, -83.50)<br>事故數: 69<br>平均嚴重度: 2.36",
          "位置: (30.50, -82.00)<br>事故數: 156<br>平均嚴重度: 2.44",
          "位置: (31.00, -106.00)<br>事故數: 11<br>平均嚴重度: 3.00",
          "位置: (31.00, -97.50)<br>事故數: 170<br>平均嚴重度: 2.79",
          "位置: (31.00, -96.50)<br>事故數: 12<br>平均嚴重度: 2.58",
          "位置: (31.00, -96.00)<br>事故數: 10<br>平均嚴重度: 2.60",
          "位置: (31.00, -95.00)<br>事故數: 10<br>平均嚴重度: 2.20",
          "位置: (31.00, -93.00)<br>事故數: 13<br>平均嚴重度: 2.69",
          "位置: (31.00, -92.50)<br>事故數: 88<br>平均嚴重度: 2.20",
          "位置: (31.00, -89.50)<br>事故數: 158<br>平均嚴重度: 2.25",
          "位置: (31.00, -88.00)<br>事故數: 14<br>平均嚴重度: 2.57",
          "位置: (31.00, -87.50)<br>事故數: 30<br>平均嚴重度: 2.37",
          "位置: (31.00, -87.00)<br>事故數: 11<br>平均嚴重度: 2.00",
          "位置: (31.00, -86.50)<br>事故數: 44<br>平均嚴重度: 2.00",
          "位置: (31.00, -86.00)<br>事故數: 250<br>平均嚴重度: 1.99",
          "位置: (31.00, -85.50)<br>事故數: 821<br>平均嚴重度: 1.96",
          "位置: (31.00, -84.50)<br>事故數: 17<br>平均嚴重度: 2.12",
          "位置: (31.00, -84.00)<br>事故數: 42<br>平均嚴重度: 2.67",
          "位置: (31.00, -83.50)<br>事故數: 25<br>平均嚴重度: 2.68",
          "位置: (31.00, -82.00)<br>事故數: 29<br>平均嚴重度: 2.76",
          "位置: (31.00, -81.50)<br>事故數: 12<br>平均嚴重度: 2.33",
          "位置: (31.50, -106.50)<br>事故數: 504<br>平均嚴重度: 2.42",
          "位置: (31.50, -102.50)<br>事故數: 24<br>平均嚴重度: 2.50",
          "位置: (31.50, -97.50)<br>事故數: 110<br>平均嚴重度: 2.73",
          "位置: (31.50, -96.50)<br>事故數: 24<br>平均嚴重度: 2.71",
          "位置: (31.50, -89.50)<br>事故數: 11<br>平均嚴重度: 2.27",
          "位置: (31.50, -87.00)<br>事故數: 154<br>平均嚴重度: 2.71",
          "位置: (31.50, -86.50)<br>事故數: 163<br>平均嚴重度: 1.99",
          "位置: (31.50, -86.00)<br>事故數: 343<br>平均嚴重度: 1.98",
          "位置: (31.50, -85.50)<br>事故數: 47<br>平均嚴重度: 1.98",
          "位置: (31.50, -84.50)<br>事故數: 37<br>平均嚴重度: 2.08",
          "位置: (31.50, -84.00)<br>事故數: 69<br>平均嚴重度: 2.61",
          "位置: (31.50, -82.00)<br>事故數: 13<br>平均嚴重度: 2.08",
          "位置: (31.50, -81.50)<br>事故數: 85<br>平均嚴重度: 2.44",
          "位置: (32.00, -111.50)<br>事故數: 388<br>平均嚴重度: 1.95",
          "位置: (32.00, -111.00)<br>事故數: 1430<br>平均嚴重度: 1.90",
          "位置: (32.00, -110.00)<br>事故數: 12<br>平均嚴重度: 2.50",
          "位置: (32.00, -109.50)<br>事故數: 11<br>平均嚴重度: 2.82",
          "位置: (32.00, -109.00)<br>事故數: 14<br>平均嚴重度: 2.79",
          "位置: (32.00, -107.00)<br>事故數: 19<br>平均嚴重度: 2.79",
          "位置: (32.00, -100.50)<br>事故數: 10<br>平均嚴重度: 2.90",
          "位置: (32.00, -97.50)<br>事故數: 64<br>平均嚴重度: 2.70",
          "位置: (32.00, -97.00)<br>事故數: 133<br>平均嚴重度: 2.86",
          "位置: (32.00, -96.50)<br>事故數: 26<br>平均嚴重度: 2.46",
          "位置: (32.00, -96.00)<br>事故數: 12<br>平均嚴重度: 2.58",
          "位置: (32.00, -95.50)<br>事故數: 102<br>平均嚴重度: 2.05",
          "位置: (32.00, -95.00)<br>事故數: 18<br>平均嚴重度: 2.33",
          "位置: (32.00, -94.50)<br>事故數: 10<br>平均嚴重度: 2.50",
          "位置: (32.00, -94.00)<br>事故數: 458<br>平均嚴重度: 2.12",
          "位置: (32.00, -92.50)<br>事故數: 25<br>平均嚴重度: 2.92",
          "位置: (32.00, -91.00)<br>事故數: 27<br>平均嚴重度: 2.63",
          "位置: (32.00, -90.50)<br>事故數: 356<br>平均嚴重度: 2.77",
          "位置: (32.00, -90.00)<br>事故數: 13<br>平均嚴重度: 2.54",
          "位置: (32.00, -89.00)<br>事故數: 13<br>平均嚴重度: 2.62",
          "位置: (32.00, -87.50)<br>事故數: 28<br>平均嚴重度: 2.04",
          "位置: (32.00, -87.00)<br>事故數: 105<br>平均嚴重度: 2.08",
          "位置: (32.00, -86.50)<br>事故數: 2436<br>平均嚴重度: 2.15",
          "位置: (32.00, -86.00)<br>事故數: 153<br>平均嚴重度: 2.57",
          "位置: (32.00, -85.50)<br>事故數: 150<br>平均嚴重度: 2.01",
          "位置: (32.00, -85.00)<br>事故數: 62<br>平均嚴重度: 2.55",
          "位置: (32.00, -84.50)<br>事故數: 13<br>平均嚴重度: 1.92",
          "位置: (32.00, -84.00)<br>事故數: 113<br>平均嚴重度: 2.88",
          "位置: (32.00, -83.00)<br>事故數: 48<br>平均嚴重度: 2.90",
          "位置: (32.00, -82.50)<br>事故數: 37<br>平均嚴重度: 2.73",
          "位置: (32.00, -82.00)<br>事故數: 43<br>平均嚴重度: 2.63",
          "位置: (32.00, -81.50)<br>事故數: 379<br>平均嚴重度: 2.29",
          "位置: (32.00, -81.00)<br>事故數: 276<br>平均嚴重度: 1.82",
          "位置: (32.50, -117.50)<br>事故數: 10695<br>平均嚴重度: 2.59",
          "位置: (32.50, -117.00)<br>事故數: 1744<br>平均嚴重度: 2.24",
          "位置: (32.50, -116.50)<br>事故數: 86<br>平均嚴重度: 2.49",
          "位置: (32.50, -115.00)<br>事故數: 19<br>平均嚴重度: 2.05",
          "位置: (32.50, -114.50)<br>事故數: 10<br>平均嚴重度: 2.70",
          "位置: (32.50, -114.00)<br>事故數: 10<br>平均嚴重度: 2.70",
          "位置: (32.50, -113.00)<br>事故數: 13<br>平均嚴重度: 2.69",
          "位置: (32.50, -112.00)<br>事故數: 34<br>平均嚴重度: 2.65",
          "位置: (32.50, -111.50)<br>事故數: 18<br>平均嚴重度: 2.78",
          "位置: (32.50, -98.50)<br>事故數: 16<br>平均嚴重度: 2.81",
          "位置: (32.50, -98.00)<br>事故數: 136<br>平均嚴重度: 2.62",
          "位置: (32.50, -97.50)<br>事故數: 7018<br>平均嚴重度: 2.63",
          "位置: (32.50, -97.00)<br>事故數: 33088<br>平均嚴重度: 2.36",
          "位置: (32.50, -96.50)<br>事故數: 488<br>平均嚴重度: 2.77",
          "位置: (32.50, -95.00)<br>事故數: 18<br>平均嚴重度: 2.06",
          "位置: (32.50, -94.00)<br>事故數: 249<br>平均嚴重度: 2.59",
          "位置: (32.50, -93.50)<br>事故數: 14<br>平均嚴重度: 2.71",
          "位置: (32.50, -93.00)<br>事故數: 10<br>平均嚴重度: 2.80",
          "位置: (32.50, -92.50)<br>事故數: 11<br>平均嚴重度: 2.91",
          "位置: (32.50, -90.50)<br>事故數: 26<br>平均嚴重度: 2.88",
          "位置: (32.50, -88.50)<br>事故數: 21<br>平均嚴重度: 2.57",
          "位置: (32.50, -88.00)<br>事故數: 50<br>平均嚴重度: 2.40",
          "位置: (32.50, -87.00)<br>事故數: 404<br>平均嚴重度: 2.19",
          "位置: (32.50, -86.50)<br>事故數: 330<br>平均嚴重度: 2.13",
          "位置: (32.50, -86.00)<br>事故數: 82<br>平均嚴重度: 2.32",
          "位置: (32.50, -85.50)<br>事故數: 518<br>平均嚴重度: 2.38",
          "位置: (32.50, -85.00)<br>事故數: 66<br>平均嚴重度: 2.68",
          "位置: (32.50, -84.50)<br>事故數: 21<br>平均嚴重度: 2.05",
          "位置: (32.50, -84.00)<br>事故數: 542<br>平均嚴重度: 2.75",
          "位置: (32.50, -83.50)<br>事故數: 40<br>平均嚴重度: 2.75",
          "位置: (32.50, -83.00)<br>事故數: 10<br>平均嚴重度: 1.90",
          "位置: (32.50, -81.50)<br>事故數: 76<br>平均嚴重度: 1.78",
          "位置: (32.50, -81.00)<br>事故數: 412<br>平均嚴重度: 2.18",
          "位置: (32.50, -80.50)<br>事故數: 1153<br>平均嚴重度: 2.22",
          "位置: (32.50, -80.00)<br>事故數: 487<br>平均嚴重度: 2.49",
          "位置: (33.00, -118.00)<br>事故數: 709<br>平均嚴重度: 2.87",
          "位置: (33.00, -117.50)<br>事故數: 5558<br>平均嚴重度: 2.51",
          "位置: (33.00, -117.00)<br>事故數: 457<br>平均嚴重度: 2.01",
          "位置: (33.00, -116.50)<br>事故數: 19<br>平均嚴重度: 2.00",
          "位置: (33.00, -113.00)<br>事故數: 159<br>平均嚴重度: 2.41",
          "位置: (33.00, -112.50)<br>事故數: 2383<br>平均嚴重度: 2.35",
          "位置: (33.00, -112.00)<br>事故數: 1769<br>平均嚴重度: 2.11",
          "位置: (33.00, -111.50)<br>事故數: 21<br>平均嚴重度: 1.95",
          "位置: (33.00, -97.50)<br>事故數: 619<br>平均嚴重度: 2.98",
          "位置: (33.00, -97.00)<br>事故數: 810<br>平均嚴重度: 2.07",
          "位置: (33.00, -94.50)<br>事故數: 27<br>平均嚴重度: 2.70",
          "位置: (33.00, -88.00)<br>事故數: 1246<br>平均嚴重度: 2.05",
          "位置: (33.00, -87.50)<br>事故數: 429<br>平均嚴重度: 2.28",
          "位置: (33.00, -87.00)<br>事故數: 1647<br>平均嚴重度: 2.40",
          "位置: (33.00, -86.50)<br>事故數: 30<br>平均嚴重度: 1.80",
          "位置: (33.00, -85.50)<br>事故數: 38<br>平均嚴重度: 2.24",
          "位置: (33.00, -85.00)<br>事故數: 317<br>平均嚴重度: 2.62",
          "位置: (33.00, -84.50)<br>事故數: 660<br>平均嚴重度: 2.72",
          "位置: (33.00, -84.00)<br>事故數: 77<br>平均嚴重度: 2.73",
          "位置: (33.00, -83.50)<br>事故數: 31<br>平均嚴重度: 2.10",
          "位置: (33.00, -83.00)<br>事故數: 30<br>平均嚴重度: 2.80",
          "位置: (33.00, -82.50)<br>事故數: 2762<br>平均嚴重度: 1.96",
          "位置: (33.00, -82.00)<br>事故數: 1182<br>平均嚴重度: 1.93",
          "位置: (33.00, -81.50)<br>事故數: 161<br>平均嚴重度: 1.80",
          "位置: (33.00, -81.00)<br>事故數: 546<br>平均嚴重度: 2.25",
          "位置: (33.00, -80.50)<br>事故數: 1000<br>平均嚴重度: 1.94",
          "位置: (33.00, -80.00)<br>事故數: 148<br>平均嚴重度: 1.78",
          "位置: (33.00, -79.50)<br>事故數: 148<br>平均嚴重度: 1.84",
          "位置: (33.50, -118.50)<br>事故數: 30028<br>平均嚴重度: 2.58",
          "位置: (33.50, -118.00)<br>事故數: 18139<br>平均嚴重度: 2.31",
          "位置: (33.50, -117.50)<br>事故數: 7192<br>平均嚴重度: 2.39",
          "位置: (33.50, -117.00)<br>事故數: 876<br>平均嚴重度: 2.43",
          "位置: (33.50, -116.50)<br>事故數: 415<br>平均嚴重度: 2.44",
          "位置: (33.50, -115.00)<br>事故數: 44<br>平均嚴重度: 2.39",
          "位置: (33.50, -114.50)<br>事故數: 56<br>平均嚴重度: 2.61",
          "位置: (33.50, -114.00)<br>事故數: 20<br>平均嚴重度: 2.45",
          "位置: (33.50, -113.50)<br>事故數: 23<br>平均嚴重度: 2.48",
          "位置: (33.50, -113.00)<br>事故數: 32<br>平均嚴重度: 1.97",
          "位置: (33.50, -112.50)<br>事故數: 1746<br>平均嚴重度: 2.17",
          "位置: (33.50, -112.00)<br>事故數: 353<br>平均嚴重度: 1.98",
          "位置: (33.50, -111.50)<br>事故數: 27<br>平均嚴重度: 2.04",
          "位置: (33.50, -99.00)<br>事故數: 14<br>平均嚴重度: 1.93",
          "位置: (33.50, -88.00)<br>事故數: 37<br>平均嚴重度: 2.19",
          "位置: (33.50, -87.50)<br>事故數: 219<br>平均嚴重度: 2.08",
          "位置: (33.50, -87.00)<br>事故數: 1643<br>平均嚴重度: 2.41",
          "位置: (33.50, -86.50)<br>事故數: 219<br>平均嚴重度: 2.23",
          "位置: (33.50, -86.00)<br>事故數: 122<br>平均嚴重度: 2.31",
          "位置: (33.50, -85.50)<br>事故數: 101<br>平均嚴重度: 2.68",
          "位置: (33.50, -85.00)<br>事故數: 2308<br>平均嚴重度: 2.73",
          "位置: (33.50, -84.50)<br>事故數: 19343<br>平均嚴重度: 2.76",
          "位置: (33.50, -84.00)<br>事故數: 340<br>平均嚴重度: 2.32",
          "位置: (33.50, -83.50)<br>事故數: 141<br>平均嚴重度: 2.57",
          "位置: (33.50, -83.00)<br>事故數: 50<br>平均嚴重度: 2.62",
          "位置: (33.50, -82.50)<br>事故數: 694<br>平均嚴重度: 1.99",
          "位置: (33.50, -82.00)<br>事故數: 1702<br>平均嚴重度: 2.22",
          "位置: (33.50, -81.50)<br>事故數: 1460<br>平均嚴重度: 2.07",
          "位置: (33.50, -81.00)<br>事故數: 846<br>平均嚴重度: 2.09",
          "位置: (33.50, -80.50)<br>事故數: 584<br>平均嚴重度: 2.03",
          "位置: (33.50, -80.00)<br>事故數: 222<br>平均嚴重度: 1.78",
          "位置: (33.50, -79.50)<br>事故數: 682<br>平均嚴重度: 1.81",
          "位置: (33.50, -79.00)<br>事故數: 1037<br>平均嚴重度: 1.84",
          "位置: (34.00, -120.50)<br>事故數: 82<br>平均嚴重度: 2.02",
          "位置: (34.00, -120.00)<br>事故數: 1044<br>平均嚴重度: 1.98",
          "位置: (34.00, -119.50)<br>事故數: 1795<br>平均嚴重度: 1.98",
          "位置: (34.00, -119.00)<br>事故數: 5903<br>平均嚴重度: 2.15",
          "位置: (34.00, -118.50)<br>事故數: 41660<br>平均嚴重度: 2.52",
          "位置: (34.00, -118.00)<br>事故數: 16606<br>平均嚴重度: 2.46",
          "位置: (34.00, -117.50)<br>事故數: 8911<br>平均嚴重度: 2.54",
          "位置: (34.00, -117.00)<br>事故數: 265<br>平均嚴重度: 2.01",
          "位置: (34.00, -116.50)<br>事故數: 73<br>平均嚴重度: 2.00",
          "位置: (34.00, -113.50)<br>事故數: 21<br>平均嚴重度: 2.00",
          "位置: (34.00, -113.00)<br>事故數: 17<br>平均嚴重度: 2.00",
          "位置: (34.00, -112.50)<br>事故數: 110<br>平均嚴重度: 2.62",
          "位置: (34.00, -111.50)<br>事故數: 47<br>平均嚴重度: 1.96",
          "位置: (34.00, -111.00)<br>事故數: 19<br>平均嚴重度: 1.95",
          "位置: (34.00, -90.00)<br>事故數: 29<br>平均嚴重度: 2.03",
          "位置: (34.00, -89.00)<br>事故數: 15<br>平均嚴重度: 2.53",
          "位置: (34.00, -88.00)<br>事故數: 10<br>平均嚴重度: 2.10",
          "位置: (34.00, -87.50)<br>事故數: 25<br>平均嚴重度: 1.96",
          "位置: (34.00, -87.00)<br>事故數: 605<br>平均嚴重度: 2.12",
          "位置: (34.00, -86.50)<br>事故數: 137<br>平均嚴重度: 1.97",
          "位置: (34.00, -86.00)<br>事故數: 89<br>平均嚴重度: 2.07",
          "位置: (34.00, -85.50)<br>事故數: 33<br>平均嚴重度: 2.06",
          "位置: (34.00, -85.00)<br>事故數: 1005<br>平均嚴重度: 2.79",
          "位置: (34.00, -84.50)<br>事故數: 916<br>平均嚴重度: 2.27",
          "位置: (34.00, -84.00)<br>事故數: 637<br>平均嚴重度: 2.68",
          "位置: (34.00, -83.50)<br>事故數: 185<br>平均嚴重度: 2.71",
          "位置: (34.00, -83.00)<br>事故數: 1188<br>平均嚴重度: 1.90",
          "位置: (34.00, -82.50)<br>事故數: 1324<br>平均嚴重度: 1.93",
          "位置: (34.00, -82.00)<br>事故數: 1120<br>平均嚴重度: 2.20",
          "位置: (34.00, -81.50)<br>事故數: 2259<br>平均嚴重度: 2.32",
          "位置: (34.00, -81.00)<br>事故數: 1969<br>平均嚴重度: 2.05",
          "位置: (34.00, -80.50)<br>事故數: 373<br>平均嚴重度: 1.86",
          "位置: (34.00, -80.00)<br>事故數: 934<br>平均嚴重度: 1.94",
          "位置: (34.00, -79.50)<br>事故數: 286<br>平均嚴重度: 1.87",
          "位置: (34.00, -79.00)<br>事故數: 93<br>平均嚴重度: 1.80",
          "位置: (34.00, -78.50)<br>事故數: 35<br>平均嚴重度: 2.37",
          "位置: (34.00, -78.00)<br>事故數: 75<br>平均嚴重度: 2.31",
          "位置: (34.50, -121.00)<br>事故數: 25<br>平均嚴重度: 1.76",
          "位置: (34.50, -120.50)<br>事故數: 293<br>平均嚴重度: 1.92",
          "位置: (34.50, -120.00)<br>事故數: 39<br>平均嚴重度: 1.97",
          "位置: (34.50, -119.50)<br>事故數: 11<br>平均嚴重度: 1.82",
          "位置: (34.50, -119.00)<br>事故數: 284<br>平均嚴重度: 2.49",
          "位置: (34.50, -118.50)<br>事故數: 583<br>平均嚴重度: 1.96",
          "位置: (34.50, -118.00)<br>事故數: 151<br>平均嚴重度: 1.94",
          "位置: (34.50, -117.50)<br>事故數: 218<br>平均嚴重度: 2.39",
          "位置: (34.50, -115.00)<br>事故數: 19<br>平均嚴重度: 2.42",
          "位置: (34.50, -114.50)<br>事故數: 18<br>平均嚴重度: 2.67",
          "位置: (34.50, -112.50)<br>事故數: 57<br>平均嚴重度: 1.95",
          "位置: (34.50, -112.00)<br>事故數: 82<br>平均嚴重度: 2.66",
          "位置: (34.50, -110.50)<br>事故數: 13<br>平均嚴重度: 2.69",
          "位置: (34.50, -93.00)<br>事故數: 13<br>平均嚴重度: 2.92",
          "位置: (34.50, -92.50)<br>事故數: 92<br>平均嚴重度: 2.62",
          "位置: (34.50, -92.00)<br>事故數: 10<br>平均嚴重度: 2.60",
          "位置: (34.50, -90.50)<br>事故數: 12<br>平均嚴重度: 2.25",
          "位置: (34.50, -90.00)<br>事故數: 81<br>平均嚴重度: 2.60",
          "位置: (34.50, -88.00)<br>事故數: 203<br>平均嚴重度: 1.95",
          "位置: (34.50, -87.50)<br>事故數: 170<br>平均嚴重度: 1.95",
          "位置: (34.50, -87.00)<br>事故數: 3129<br>平均嚴重度: 2.19",
          "位置: (34.50, -86.50)<br>事故數: 143<br>平均嚴重度: 1.98",
          "位置: (34.50, -86.00)<br>事故數: 13<br>平均嚴重度: 2.46",
          "位置: (34.50, -85.50)<br>事故數: 155<br>平均嚴重度: 2.73",
          "位置: (34.50, -85.00)<br>事故數: 28<br>平均嚴重度: 2.68",
          "位置: (34.50, -83.50)<br>事故數: 357<br>平均嚴重度: 1.81",
          "位置: (34.50, -83.00)<br>事故數: 3219<br>平均嚴重度: 1.84",
          "位置: (34.50, -82.50)<br>事故數: 10356<br>平均嚴重度: 1.90",
          "位置: (34.50, -82.00)<br>事故數: 1930<br>平均嚴重度: 1.86",
          "位置: (34.50, -81.50)<br>事故數: 293<br>平均嚴重度: 1.88",
          "位置: (34.50, -81.00)<br>事故數: 466<br>平均嚴重度: 1.88",
          "位置: (34.50, -80.50)<br>事故數: 94<br>平均嚴重度: 1.82",
          "位置: (34.50, -80.00)<br>事故數: 186<br>平均嚴重度: 1.82",
          "位置: (34.50, -79.50)<br>事故數: 60<br>平均嚴重度: 2.62",
          "位置: (34.50, -79.00)<br>事故數: 77<br>平均嚴重度: 2.73",
          "位置: (35.00, -121.00)<br>事故數: 262<br>平均嚴重度: 1.92",
          "位置: (35.00, -120.50)<br>事故數: 39<br>平均嚴重度: 1.85",
          "位置: (35.00, -120.00)<br>事故數: 15<br>平均嚴重度: 1.93",
          "位置: (35.00, -119.50)<br>事故數: 705<br>平均嚴重度: 1.97",
          "位置: (35.00, -119.00)<br>事故數: 342<br>平均嚴重度: 1.91",
          "位置: (35.00, -118.50)<br>事故數: 41<br>平均嚴重度: 1.93",
          "位置: (35.00, -118.00)<br>事故數: 24<br>平均嚴重度: 1.88",
          "位置: (35.00, -115.00)<br>事故數: 31<br>平均嚴重度: 1.87",
          "位置: (35.00, -114.50)<br>事故數: 35<br>平均嚴重度: 2.34",
          "位置: (35.00, -114.00)<br>事故數: 21<br>平均嚴重度: 2.57",
          "位置: (35.00, -113.50)<br>事故數: 11<br>平均嚴重度: 3.09",
          "位置: (35.00, -113.00)<br>事故數: 15<br>平均嚴重度: 2.67",
          "位置: (35.00, -112.50)<br>事故數: 34<br>平均嚴重度: 2.68",
          "位置: (35.00, -112.00)<br>事故數: 51<br>平均嚴重度: 2.76",
          "位置: (35.00, -111.50)<br>事故數: 25<br>平均嚴重度: 2.80",
          "位置: (35.00, -111.00)<br>事故數: 13<br>平均嚴重度: 2.31",
          "位置: (35.00, -110.00)<br>事故數: 22<br>平均嚴重度: 2.64",
          "位置: (35.00, -109.50)<br>事故數: 29<br>平均嚴重度: 2.83",
          "位置: (35.00, -108.00)<br>事故數: 10<br>平均嚴重度: 3.00",
          "位置: (35.00, -107.00)<br>事故數: 1191<br>平均嚴重度: 2.21",
          "位置: (35.00, -106.50)<br>事故數: 36<br>平均嚴重度: 2.39",
          "位置: (35.00, -98.00)<br>事故數: 2536<br>平均嚴重度: 1.92",
          "位置: (35.00, -97.50)<br>事故數: 743<br>平均嚴重度: 2.00",
          "位置: (35.00, -94.50)<br>事故數: 166<br>平均嚴重度: 1.98",
          "位置: (35.00, -93.00)<br>事故數: 10<br>平均嚴重度: 3.00",
          "位置: (35.00, -90.50)<br>事故數: 752<br>平均嚴重度: 2.49",
          "位置: (35.00, -90.00)<br>事故數: 1583<br>平均嚴重度: 2.29",
          "位置: (35.00, -87.00)<br>事故數: 18<br>平均嚴重度: 2.56",
          "位置: (35.00, -86.50)<br>事故數: 10<br>平均嚴重度: 2.40",
          "位置: (35.00, -86.00)<br>事故數: 62<br>平均嚴重度: 2.58",
          "位置: (35.00, -85.50)<br>事故數: 661<br>平均嚴重度: 2.36",
          "位置: (35.00, -85.00)<br>事故數: 143<br>平均嚴重度: 2.61",
          "位置: (35.00, -83.50)<br>事故數: 39<br>平均嚴重度: 2.00",
          "位置: (35.00, -83.00)<br>事故數: 353<br>平均嚴重度: 2.63",
          "位置: (35.00, -82.50)<br>事故數: 977<br>平均嚴重度: 1.95",
          "位置: (35.00, -82.00)<br>事故數: 1667<br>平均嚴重度: 2.06",
          "位置: (35.00, -81.50)<br>事故數: 509<br>平均嚴重度: 2.16",
          "位置: (35.00, -81.00)<br>事故數: 14725<br>平均嚴重度: 1.96",
          "位置: (35.00, -80.50)<br>事故數: 14<br>平均嚴重度: 1.86",
          "位置: (35.00, -79.50)<br>事故數: 15<br>平均嚴重度: 2.13",
          "位置: (35.00, -79.00)<br>事故數: 247<br>平均嚴重度: 2.88",
          "位置: (35.00, -78.50)<br>事故數: 40<br>平均嚴重度: 2.70",
          "位置: (35.00, -78.00)<br>事故數: 10<br>平均嚴重度: 2.00",
          "位置: (35.00, -77.50)<br>事故數: 12<br>平均嚴重度: 2.08",
          "位置: (35.50, -121.50)<br>事故數: 28<br>平均嚴重度: 1.79",
          "位置: (35.50, -121.00)<br>事故數: 112<br>平均嚴重度: 1.92",
          "位置: (35.50, -120.50)<br>事故數: 31<br>平均嚴重度: 1.97",
          "位置: (35.50, -120.00)<br>事故數: 91<br>平均嚴重度: 2.22",
          "位置: (35.50, -119.50)<br>事故數: 257<br>平均嚴重度: 1.91",
          "位置: (35.50, -118.50)<br>事故數: 14<br>平均嚴重度: 2.00",
          "位置: (35.50, -118.00)<br>事故數: 19<br>平均嚴重度: 1.95",
          "位置: (35.50, -109.00)<br>事故數: 13<br>平均嚴重度: 2.62",
          "位置: (35.50, -98.00)<br>事故數: 1619<br>平均嚴重度: 1.87",
          "位置: (35.50, -97.50)<br>事故數: 293<br>平均嚴重度: 1.97",
          "位置: (35.50, -96.00)<br>事故數: 18<br>平均嚴重度: 1.67",
          "位置: (35.50, -89.50)<br>事故數: 12<br>平均嚴重度: 2.67",
          "位置: (35.50, -89.00)<br>事故數: 11<br>平均嚴重度: 2.82",
          "位置: (35.50, -88.00)<br>事故數: 28<br>平均嚴重度: 2.96",
          "位置: (35.50, -87.00)<br>事故數: 173<br>平均嚴重度: 2.63",
          "位置: (35.50, -86.50)<br>事故數: 83<br>平均嚴重度: 2.86",
          "位置: (35.50, -85.00)<br>事故數: 69<br>平均嚴重度: 2.81",
          "位置: (35.50, -84.50)<br>事故數: 270<br>平均嚴重度: 2.90",
          "位置: (35.50, -84.00)<br>事故數: 260<br>平均嚴重度: 2.73",
          "位置: (35.50, -83.50)<br>事故數: 56<br>平均嚴重度: 2.86",
          "位置: (35.50, -83.00)<br>事故數: 464<br>平均嚴重度: 2.70",
          "位置: (35.50, -82.50)<br>事故數: 96<br>平均嚴重度: 2.61",
          "位置: (35.50, -82.00)<br>事故數: 42<br>平均嚴重度: 2.60",
          "位置: (35.50, -81.50)<br>事故數: 90<br>平均嚴重度: 2.22",
          "位置: (35.50, -81.00)<br>事故數: 268<br>平均嚴重度: 2.72",
          "位置: (35.50, -80.50)<br>事故數: 87<br>平均嚴重度: 2.63",
          "位置: (35.50, -80.00)<br>事故數: 41<br>平均嚴重度: 2.76",
          "位置: (35.50, -79.50)<br>事故數: 40<br>平均嚴重度: 2.38",
          "位置: (35.50, -79.00)<br>事故數: 8426<br>平均嚴重度: 2.01",
          "位置: (35.50, -78.50)<br>事故數: 579<br>平均嚴重度: 2.01",
          "位置: (35.50, -78.00)<br>事故數: 39<br>平均嚴重度: 2.31",
          "位置: (35.50, -77.50)<br>事故數: 62<br>平均嚴重度: 1.81",
          "位置: (36.00, -122.00)<br>事故數: 60<br>平均嚴重度: 1.88",
          "位置: (36.00, -121.50)<br>事故數: 248<br>平均嚴重度: 1.91",
          "位置: (36.00, -121.00)<br>事故數: 16<br>平均嚴重度: 1.94",
          "位置: (36.00, -120.50)<br>事故數: 104<br>平均嚴重度: 2.19",
          "位置: (36.00, -120.00)<br>事故數: 260<br>平均嚴重度: 1.91",
          "位置: (36.00, -119.50)<br>事故數: 513<br>平均嚴重度: 1.93",
          "位置: (36.00, -119.00)<br>事故數: 16<br>平均嚴重度: 1.81",
          "位置: (36.00, -96.50)<br>事故數: 211<br>平均嚴重度: 1.76",
          "位置: (36.00, -96.00)<br>事故數: 2061<br>平均嚴重度: 1.77",
          "位置: (36.00, -94.50)<br>事故數: 39<br>平均嚴重度: 2.21",
          "位置: (36.00, -87.50)<br>事故數: 86<br>平均嚴重度: 2.52",
          "位置: (36.00, -87.00)<br>事故數: 7872<br>平均嚴重度: 2.12",
          "位置: (36.00, -86.50)<br>事故數: 24<br>平均嚴重度: 2.79",
          "位置: (36.00, -86.00)<br>事故數: 48<br>平均嚴重度: 2.50",
          "位置: (36.00, -85.50)<br>事故數: 49<br>平均嚴重度: 2.61",
          "位置: (36.00, -84.50)<br>事故數: 79<br>平均嚴重度: 2.91",
          "位置: (36.00, -84.00)<br>事故數: 113<br>平均嚴重度: 2.90",
          "位置: (36.00, -83.50)<br>事故數: 49<br>平均嚴重度: 2.84",
          "位置: (36.00, -83.00)<br>事故數: 93<br>平均嚴重度: 2.28",
          "位置: (36.00, -82.50)<br>事故數: 313<br>平均嚴重度: 1.98",
          "位置: (36.00, -81.00)<br>事故數: 39<br>平均嚴重度: 2.67",
          "位置: (36.00, -80.50)<br>事故數: 326<br>平均嚴重度: 2.19",
          "位置: (36.00, -80.00)<br>事故數: 248<br>平均嚴重度: 2.71",
          "位置: (36.00, -79.50)<br>事故數: 168<br>平均嚴重度: 2.88",
          "位置: (36.00, -79.00)<br>事故數: 107<br>平均嚴重度: 2.47",
          "位置: (36.00, -78.50)<br>事故數: 17<br>平均嚴重度: 2.82",
          "位置: (36.00, -78.00)<br>事故數: 50<br>平均嚴重度: 2.84",
          "位置: (36.50, -122.50)<br>事故數: 158<br>平均嚴重度: 1.96",
          "位置: (36.50, -122.00)<br>事故數: 3504<br>平均嚴重度: 1.94",
          "位置: (36.50, -121.50)<br>事故數: 439<br>平均嚴重度: 1.94",
          "位置: (36.50, -121.00)<br>事故數: 111<br>平均嚴重度: 2.58",
          "位置: (36.50, -120.50)<br>事故數: 122<br>平均嚴重度: 1.85",
          "位置: (36.50, -120.00)<br>事故數: 1113<br>平均嚴重度: 1.92",
          "位置: (36.50, -119.50)<br>事故數: 124<br>平均嚴重度: 1.89",
          "位置: (36.50, -115.00)<br>事故數: 10<br>平均嚴重度: 2.70",
          "位置: (36.50, -114.50)<br>事故數: 28<br>平均嚴重度: 2.21",
          "位置: (36.50, -87.50)<br>事故數: 21<br>平均嚴重度: 2.71",
          "位置: (36.50, -87.00)<br>事故數: 28<br>平均嚴重度: 2.89",
          "位置: (36.50, -84.50)<br>事故數: 23<br>平均嚴重度: 2.78",
          "位置: (36.50, -83.00)<br>事故數: 20<br>平均嚴重度: 2.00",
          "位置: (36.50, -82.50)<br>事故數: 74<br>平均嚴重度: 2.64",
          "位置: (36.50, -82.00)<br>事故數: 97<br>平均嚴重度: 2.71",
          "位置: (36.50, -81.50)<br>事故數: 88<br>平均嚴重度: 2.90",
          "位置: (36.50, -81.00)<br>事故數: 149<br>平均嚴重度: 2.77",
          "位置: (36.50, -80.50)<br>事故數: 11<br>平均嚴重度: 1.91",
          "位置: (36.50, -80.00)<br>事故數: 83<br>平均嚴重度: 2.01",
          "位置: (36.50, -79.50)<br>事故數: 30<br>平均嚴重度: 2.00",
          "位置: (36.50, -79.00)<br>事故數: 19<br>平均嚴重度: 2.00",
          "位置: (36.50, -78.50)<br>事故數: 67<br>平均嚴重度: 2.37",
          "位置: (36.50, -78.00)<br>事故數: 117<br>平均嚴重度: 2.51",
          "位置: (36.50, -77.50)<br>事故數: 40<br>平均嚴重度: 2.50",
          "位置: (36.50, -77.00)<br>事故數: 94<br>平均嚴重度: 2.02",
          "位置: (36.50, -76.50)<br>事故數: 2436<br>平均嚴重度: 2.58",
          "位置: (36.50, -76.00)<br>事故數: 32<br>平均嚴重度: 2.06",
          "位置: (37.00, -122.50)<br>事故數: 4907<br>平均嚴重度: 2.14",
          "位置: (37.00, -122.00)<br>事故數: 11152<br>平均嚴重度: 2.28",
          "位置: (37.00, -121.50)<br>事故數: 387<br>平均嚴重度: 2.19",
          "位置: (37.00, -121.00)<br>事故數: 765<br>平均嚴重度: 1.97",
          "位置: (37.00, -120.50)<br>事故數: 157<br>平均嚴重度: 1.90",
          "位置: (37.00, -120.00)<br>事故數: 101<br>平均嚴重度: 1.85",
          "位置: (37.00, -119.50)<br>事故數: 19<br>平均嚴重度: 1.84",
          "位置: (37.00, -118.50)<br>事故數: 30<br>平均嚴重度: 1.97",
          "位置: (37.00, -114.00)<br>事故數: 29<br>平均嚴重度: 2.41",
          "位置: (37.00, -113.50)<br>事故數: 66<br>平均嚴重度: 2.48",
          "位置: (37.00, -105.00)<br>事故數: 24<br>平均嚴重度: 2.92",
          "位置: (37.00, -93.50)<br>事故數: 263<br>平均嚴重度: 1.91",
          "位置: (37.00, -89.50)<br>事故數: 10<br>平均嚴重度: 2.70",
          "位置: (37.00, -89.00)<br>事故數: 39<br>平均嚴重度: 3.00",
          "位置: (37.00, -84.50)<br>事故數: 18<br>平均嚴重度: 2.44",
          "位置: (37.00, -82.00)<br>事故數: 13<br>平均嚴重度: 2.15",
          "位置: (37.00, -81.50)<br>事故數: 25<br>平均嚴重度: 2.84",
          "位置: (37.00, -81.00)<br>事故數: 69<br>平均嚴重度: 2.83",
          "位置: (37.00, -80.50)<br>事故數: 164<br>平均嚴重度: 2.81",
          "位置: (37.00, -80.00)<br>事故數: 193<br>平均嚴重度: 2.55",
          "位置: (37.00, -79.50)<br>事故數: 65<br>平均嚴重度: 2.09",
          "位置: (37.00, -79.00)<br>事故數: 15<br>平均嚴重度: 2.07",
          "位置: (37.00, -78.50)<br>事故數: 34<br>平均嚴重度: 1.97",
          "位置: (37.00, -78.00)<br>事故數: 617<br>平均嚴重度: 1.82",
          "位置: (37.00, -77.50)<br>事故數: 1234<br>平均嚴重度: 2.20",
          "位置: (37.00, -77.00)<br>事故數: 452<br>平均嚴重度: 2.49",
          "位置: (37.00, -76.50)<br>事故數: 538<br>平均嚴重度: 2.37",
          "位置: (37.50, -123.00)<br>事故數: 1104<br>平均嚴重度: 2.00",
          "位置: (37.50, -122.50)<br>事故數: 24411<br>平均嚴重度: 2.53",
          "位置: (37.50, -122.00)<br>事故數: 6953<br>平均嚴重度: 2.58",
          "位置: (37.50, -121.50)<br>事故數: 4118<br>平均嚴重度: 2.28",
          "位置: (37.50, -121.00)<br>事故數: 922<br>平均嚴重度: 1.97",
          "位置: (37.50, -120.50)<br>事故數: 109<br>平均嚴重度: 1.89",
          "位置: (37.50, -119.50)<br>事故數: 11<br>平均嚴重度: 1.82",
          "位置: (37.50, -119.00)<br>事故數: 10<br>平均嚴重度: 1.80",
          "位置: (37.50, -113.50)<br>事故數: 41<br>平均嚴重度: 2.37",
          "位置: (37.50, -105.00)<br>事故數: 14<br>平均嚴重度: 3.07",
          "位置: (37.50, -93.00)<br>事故數: 14<br>平均嚴重度: 2.86",
          "位置: (37.50, -92.00)<br>事故數: 11<br>平均嚴重度: 2.91",
          "位置: (37.50, -89.00)<br>事故數: 63<br>平均嚴重度: 2.92",
          "位置: (37.50, -86.00)<br>事故數: 56<br>平均嚴重度: 2.02",
          "位置: (37.50, -85.00)<br>事故數: 97<br>平均嚴重度: 1.87",
          "位置: (37.50, -84.50)<br>事故數: 123<br>平均嚴重度: 2.02",
          "位置: (37.50, -80.00)<br>事故數: 87<br>平均嚴重度: 2.94",
          "位置: (37.50, -79.50)<br>事故數: 84<br>平均嚴重度: 2.85",
          "位置: (37.50, -79.00)<br>事故數: 16<br>平均嚴重度: 2.12",
          "位置: (37.50, -78.50)<br>事故數: 76<br>平均嚴重度: 2.86",
          "位置: (37.50, -78.00)<br>事故數: 717<br>平均嚴重度: 1.86",
          "位置: (37.50, -77.50)<br>事故數: 2593<br>平均嚴重度: 2.20",
          "位置: (37.50, -77.00)<br>事故數: 52<br>平均嚴重度: 2.02",
          "位置: (37.50, -76.50)<br>事故數: 16<br>平均嚴重度: 2.00",
          "位置: (37.50, -76.00)<br>事故數: 12<br>平均嚴重度: 2.00",
          "位置: (38.00, -123.50)<br>事故數: 122<br>平均嚴重度: 1.94",
          "位置: (38.00, -123.00)<br>事故數: 3918<br>平均嚴重度: 1.97",
          "位置: (38.00, -122.50)<br>事故數: 5861<br>平均嚴重度: 2.41",
          "位置: (38.00, -122.00)<br>事故數: 2627<br>平均嚴重度: 2.24",
          "位置: (38.00, -121.50)<br>事故數: 3774<br>平均嚴重度: 2.09",
          "位置: (38.00, -121.00)<br>事故數: 676<br>平均嚴重度: 1.99",
          "位置: (38.00, -120.50)<br>事故數: 44<br>平均嚴重度: 1.93",
          "位置: (38.00, -119.50)<br>事故數: 10<br>平均嚴重度: 2.20",
          "位置: (38.00, -113.00)<br>事故數: 44<br>平均嚴重度: 2.20",
          "位置: (38.00, -109.50)<br>事故數: 17<br>平均嚴重度: 1.94",
          "位置: (38.00, -105.50)<br>事故數: 20<br>平均嚴重度: 2.05",
          "位置: (38.00, -105.00)<br>事故數: 132<br>平均嚴重度: 2.61",
          "位置: (38.00, -104.50)<br>事故數: 10<br>平均嚴重度: 2.20",
          "位置: (38.00, -104.00)<br>事故數: 11<br>平均嚴重度: 2.09",
          "位置: (38.00, -91.00)<br>事故數: 80<br>平均嚴重度: 2.39",
          "位置: (38.00, -90.50)<br>事故數: 332<br>平均嚴重度: 2.55",
          "位置: (38.00, -90.00)<br>事故數: 14<br>平均嚴重度: 2.64",
          "位置: (38.00, -89.50)<br>事故數: 17<br>平均嚴重度: 3.00",
          "位置: (38.00, -89.00)<br>事故數: 64<br>平均嚴重度: 2.88",
          "位置: (38.00, -86.00)<br>事故數: 1874<br>平均嚴重度: 2.64",
          "位置: (38.00, -85.50)<br>事故數: 37<br>平均嚴重度: 2.65",
          "位置: (38.00, -85.00)<br>事故數: 311<br>平均嚴重度: 1.91",
          "位置: (38.00, -84.50)<br>事故數: 308<br>平均嚴重度: 1.87",
          "位置: (38.00, -83.00)<br>事故數: 21<br>平均嚴重度: 1.95",
          "位置: (38.00, -82.00)<br>事故數: 14<br>平均嚴重度: 3.36",
          "位置: (38.00, -79.50)<br>事故數: 143<br>平均嚴重度: 2.69",
          "位置: (38.00, -79.00)<br>事故數: 456<br>平均嚴重度: 2.72",
          "位置: (38.00, -78.50)<br>事故數: 106<br>平均嚴重度: 2.20",
          "位置: (38.00, -78.00)<br>事故數: 180<br>平均嚴重度: 2.58",
          "位置: (38.00, -77.50)<br>事故數: 450<br>平均嚴重度: 2.54",
          "位置: (38.00, -77.00)<br>事故數: 16<br>平均嚴重度: 2.12",
          "位置: (38.00, -76.00)<br>事故數: 24<br>平均嚴重度: 2.17",
          "位置: (38.00, -75.50)<br>事故數: 46<br>平均嚴重度: 2.00",
          "位置: (38.50, -124.00)<br>事故數: 14<br>平均嚴重度: 1.93",
          "位置: (38.50, -123.50)<br>事故數: 175<br>平均嚴重度: 1.99",
          "位置: (38.50, -123.00)<br>事故數: 980<br>平均嚴重度: 1.96",
          "位置: (38.50, -122.50)<br>事故數: 186<br>平均嚴重度: 1.99",
          "位置: (38.50, -122.00)<br>事故數: 3471<br>平均嚴重度: 2.67",
          "位置: (38.50, -121.50)<br>事故數: 12573<br>平均嚴重度: 2.17",
          "位置: (38.50, -121.00)<br>事故數: 971<br>平均嚴重度: 1.99",
          "位置: (38.50, -120.50)<br>事故數: 25<br>平均嚴重度: 1.92",
          "位置: (38.50, -120.00)<br>事故數: 50<br>平均嚴重度: 1.92",
          "位置: (38.50, -119.50)<br>事故數: 16<br>平均嚴重度: 1.94",
          "位置: (38.50, -119.00)<br>事故數: 11<br>平均嚴重度: 1.91",
          "位置: (38.50, -113.00)<br>事故數: 25<br>平均嚴重度: 2.36",
          "位置: (38.50, -112.50)<br>事故數: 48<br>平均嚴重度: 2.15",
          "位置: (38.50, -112.00)<br>事故數: 23<br>平均嚴重度: 2.22",
          "位置: (38.50, -111.50)<br>事故數: 15<br>平均嚴重度: 2.40",
          "位置: (38.50, -110.50)<br>事故數: 12<br>平均嚴重度: 2.58",
          "位置: (38.50, -110.00)<br>事故數: 22<br>平均嚴重度: 2.09",
          "位置: (38.50, -105.00)<br>事故數: 823<br>平均嚴重度: 2.25",
          "位置: (38.50, -95.00)<br>事故數: 721<br>平均嚴重度: 2.57",
          "位置: (38.50, -94.50)<br>事故數: 141<br>平均嚴重度: 2.49",
          "位置: (38.50, -93.50)<br>事故數: 11<br>平均嚴重度: 2.91",
          "位置: (38.50, -93.00)<br>事故數: 12<br>平均嚴重度: 3.00",
          "位置: (38.50, -92.50)<br>事故數: 55<br>平均嚴重度: 2.31",
          "位置: (38.50, -91.50)<br>事故數: 22<br>平均嚴重度: 2.73",
          "位置: (38.50, -91.00)<br>事故數: 841<br>平均嚴重度: 2.69",
          "位置: (38.50, -90.50)<br>事故數: 4584<br>平均嚴重度: 2.82",
          "位置: (38.50, -90.00)<br>事故數: 194<br>平均嚴重度: 2.90",
          "位置: (38.50, -89.50)<br>事故數: 36<br>平均嚴重度: 2.97",
          "位置: (38.50, -89.00)<br>事故數: 42<br>平均嚴重度: 2.98",
          "位置: (38.50, -86.00)<br>事故數: 37<br>平均嚴重度: 2.92",
          "位置: (38.50, -85.50)<br>事故數: 13<br>平均嚴重度: 2.31",
          "位置: (38.50, -85.00)<br>事故數: 176<br>平均嚴重度: 2.06",
          "位置: (38.50, -84.50)<br>事故數: 50<br>平均嚴重度: 1.92",
          "位置: (38.50, -84.00)<br>事故數: 14<br>平均嚴重度: 2.00",
          "位置: (38.50, -83.00)<br>事故數: 22<br>平均嚴重度: 1.82",
          "位置: (38.50, -79.00)<br>事故數: 200<br>平均嚴重度: 2.87",
          "位置: (38.50, -78.50)<br>事故數: 139<br>平均嚴重度: 2.77",
          "位置: (38.50, -78.00)<br>事故數: 1262<br>平均嚴重度: 2.30",
          "位置: (38.50, -77.50)<br>事故數: 9561<br>平均嚴重度: 2.67",
          "位置: (38.50, -77.00)<br>事故數: 2782<br>平均嚴重度: 2.22",
          "位置: (38.50, -76.50)<br>事故數: 236<br>平均嚴重度: 2.08",
          "位置: (38.50, -76.00)<br>事故數: 51<br>平均嚴重度: 2.12",
          "位置: (39.00, -124.00)<br>事故數: 60<br>平均嚴重度: 1.87",
          "位置: (39.00, -123.50)<br>事故數: 206<br>平均嚴重度: 2.00",
          "位置: (39.00, -123.00)<br>事故數: 139<br>平均嚴重度: 1.96",
          "位置: (39.00, -122.50)<br>事故數: 125<br>平均嚴重度: 2.21",
          "位置: (39.00, -122.00)<br>事故數: 348<br>平均嚴重度: 1.92",
          "位置: (39.00, -121.50)<br>事故數: 642<br>平均嚴重度: 1.98",
          "位置: (39.00, -121.00)<br>事故數: 406<br>平均嚴重度: 2.50",
          "位置: (39.00, -120.50)<br>事故數: 141<br>平均嚴重度: 2.33",
          "位置: (39.00, -120.00)<br>事故數: 395<br>平均嚴重度: 2.06",
          "位置: (39.00, -119.50)<br>事故數: 18<br>平均嚴重度: 1.83",
          "位置: (39.00, -119.00)<br>事故數: 50<br>平均嚴重度: 1.88",
          "位置: (39.00, -115.00)<br>事故數: 15<br>平均嚴重度: 1.87",
          "位置: (39.00, -112.50)<br>事故數: 38<br>平均嚴重度: 2.18",
          "位置: (39.00, -112.00)<br>事故數: 26<br>平均嚴重度: 1.96",
          "位置: (39.00, -109.00)<br>事故數: 11<br>平均嚴重度: 2.73",
          "位置: (39.00, -108.50)<br>事故數: 37<br>平均嚴重度: 2.84",
          "位置: (39.00, -106.50)<br>事故數: 10<br>平均嚴重度: 2.10",
          "位置: (39.00, -106.00)<br>事故數: 10<br>平均嚴重度: 2.20",
          "位置: (39.00, -105.50)<br>事故數: 16<br>平均嚴重度: 2.12",
          "位置: (39.00, -105.00)<br>事故數: 331<br>平均嚴重度: 2.63",
          "位置: (39.00, -96.00)<br>事故數: 26<br>平均嚴重度: 2.62",
          "位置: (39.00, -95.00)<br>事故數: 1436<br>平均嚴重度: 2.68",
          "位置: (39.00, -94.50)<br>事故數: 531<br>平均嚴重度: 2.77",
          "位置: (39.00, -90.00)<br>事故數: 45<br>平均嚴重度: 2.93",
          "位置: (39.00, -89.00)<br>事故數: 59<br>平均嚴重度: 2.88",
          "位置: (39.00, -88.50)<br>事故數: 54<br>平均嚴重度: 2.93",
          "位置: (39.00, -88.00)<br>事故數: 31<br>平均嚴重度: 2.94",
          "位置: (39.00, -87.50)<br>事故數: 24<br>平均嚴重度: 3.04",
          "位置: (39.00, -87.00)<br>事故數: 37<br>平均嚴重度: 1.89",
          "位置: (39.00, -86.50)<br>事故數: 19<br>平均嚴重度: 2.84",
          "位置: (39.00, -86.00)<br>事故數: 39<br>平均嚴重度: 2.85",
          "位置: (39.00, -85.00)<br>事故數: 1635<br>平均嚴重度: 2.51",
          "位置: (39.00, -84.50)<br>事故數: 2023<br>平均嚴重度: 2.55",
          "位置: (39.00, -84.00)<br>事故數: 49<br>平均嚴重度: 2.22",
          "位置: (39.00, -83.50)<br>事故數: 21<br>平均嚴重度: 2.10",
          "位置: (39.00, -83.00)<br>事故數: 64<br>平均嚴重度: 2.00",
          "位置: (39.00, -82.50)<br>事故數: 30<br>平均嚴重度: 2.07",
          "位置: (39.00, -80.50)<br>事故數: 12<br>平均嚴重度: 2.75",
          "位置: (39.00, -78.50)<br>事故數: 392<br>平均嚴重度: 2.70",
          "位置: (39.00, -78.00)<br>事故數: 1071<br>平均嚴重度: 2.13",
          "位置: (39.00, -77.50)<br>事故數: 4442<br>平均嚴重度: 2.40",
          "位置: (39.00, -77.00)<br>事故數: 6904<br>平均嚴重度: 2.55",
          "位置: (39.00, -76.50)<br>事故數: 1220<br>平均嚴重度: 2.58",
          "位置: (39.00, -76.00)<br>事故數: 149<br>平均嚴重度: 1.89",
          "位置: (39.00, -75.50)<br>事故數: 70<br>平均嚴重度: 2.00",
          "位置: (39.00, -75.00)<br>事故數: 230<br>平均嚴重度: 2.01",
          "位置: (39.00, -74.50)<br>事故數: 16<br>平均嚴重度: 2.00",
          "位置: (39.50, -124.00)<br>事故數: 13<br>平均嚴重度: 1.92",
          "位置: (39.50, -123.50)<br>事故數: 29<br>平均嚴重度: 2.00",
          "位置: (39.50, -122.50)<br>事故數: 107<br>平均嚴重度: 2.07",
          "位置: (39.50, -122.00)<br>事故數: 156<br>平均嚴重度: 1.96",
          "位置: (39.50, -121.50)<br>事故數: 41<br>平均嚴重度: 1.98",
          "位置: (39.50, -121.00)<br>事故數: 25<br>平均嚴重度: 1.96",
          "位置: (39.50, -120.00)<br>事故數: 707<br>平均嚴重度: 2.11",
          "位置: (39.50, -119.50)<br>事故數: 101<br>平均嚴重度: 2.03",
          "位置: (39.50, -112.00)<br>事故數: 58<br>平均嚴重度: 2.24",
          "位置: (39.50, -111.50)<br>事故數: 45<br>平均嚴重度: 1.98",
          "位置: (39.50, -111.00)<br>事故數: 44<br>平均嚴重度: 1.91",
          "位置: (39.50, -108.00)<br>事故數: 21<br>平均嚴重度: 2.76",
          "位置: (39.50, -107.50)<br>事故數: 111<br>平均嚴重度: 2.86",
          "位置: (39.50, -107.00)<br>事故數: 26<br>平均嚴重度: 2.73",
          "位置: (39.50, -106.50)<br>事故數: 95<br>平均嚴重度: 2.98",
          "位置: (39.50, -106.00)<br>事故數: 64<br>平均嚴重度: 3.02",
          "位置: (39.50, -105.50)<br>事故數: 1648<br>平均嚴重度: 2.34",
          "位置: (39.50, -105.00)<br>事故數: 2474<br>平均嚴重度: 2.54",
          "位置: (39.50, -104.50)<br>事故數: 17<br>平均嚴重度: 2.76",
          "位置: (39.50, -95.00)<br>事故數: 27<br>平均嚴重度: 2.56",
          "位置: (39.50, -91.00)<br>事故數: 12<br>平均嚴重度: 3.00",
          "位置: (39.50, -90.50)<br>事故數: 12<br>平均嚴重度: 2.92",
          "位置: (39.50, -90.00)<br>事故數: 138<br>平均嚴重度: 2.92",
          "位置: (39.50, -89.50)<br>事故數: 17<br>平均嚴重度: 2.76",
          "位置: (39.50, -89.00)<br>事故數: 21<br>平均嚴重度: 2.43",
          "位置: (39.50, -88.50)<br>事故數: 40<br>平均嚴重度: 2.95",
          "位置: (39.50, -87.00)<br>事故數: 38<br>平均嚴重度: 2.82",
          "位置: (39.50, -86.50)<br>事故數: 2620<br>平均嚴重度: 2.59",
          "位置: (39.50, -86.00)<br>事故數: 155<br>平均嚴重度: 2.41",
          "位置: (39.50, -85.50)<br>事故數: 16<br>平均嚴重度: 3.19",
          "位置: (39.50, -85.00)<br>事故數: 61<br>平均嚴重度: 2.66",
          "位置: (39.50, -84.50)<br>事故數: 8881<br>平均嚴重度: 2.12",
          "位置: (39.50, -84.00)<br>事故數: 291<br>平均嚴重度: 2.49",
          "位置: (39.50, -83.50)<br>事故數: 1906<br>平均嚴重度: 2.53",
          "位置: (39.50, -83.00)<br>事故數: 2719<br>平均嚴重度: 2.46",
          "位置: (39.50, -82.50)<br>事故數: 106<br>平均嚴重度: 2.62",
          "位置: (39.50, -82.00)<br>事故數: 59<br>平均嚴重度: 2.73",
          "位置: (39.50, -80.50)<br>事故數: 13<br>平均嚴重度: 2.69",
          "位置: (39.50, -80.00)<br>事故數: 32<br>平均嚴重度: 2.31",
          "位置: (39.50, -79.50)<br>事故數: 66<br>平均嚴重度: 2.26",
          "位置: (39.50, -79.00)<br>事故數: 70<br>平均嚴重度: 2.39",
          "位置: (39.50, -78.50)<br>事故數: 149<br>平均嚴重度: 2.79",
          "位置: (39.50, -78.00)<br>事故數: 553<br>平均嚴重度: 2.65",
          "位置: (39.50, -77.50)<br>事故數: 474<br>平均嚴重度: 1.94",
          "位置: (39.50, -77.00)<br>事故數: 3684<br>平均嚴重度: 2.08",
          "位置: (39.50, -76.50)<br>事故數: 918<br>平均嚴重度: 2.21",
          "位置: (39.50, -76.00)<br>事故數: 1965<br>平均嚴重度: 1.96",
          "位置: (39.50, -75.50)<br>事故數: 5107<br>平均嚴重度: 2.59",
          "位置: (39.50, -75.00)<br>事故數: 950<br>平均嚴重度: 2.20",
          "位置: (39.50, -74.50)<br>事故數: 125<br>平均嚴重度: 2.04",
          "位置: (40.00, -124.00)<br>事故數: 31<br>平均嚴重度: 1.84",
          "位置: (40.00, -122.50)<br>事故數: 101<br>平均嚴重度: 2.11",
          "位置: (40.00, -121.50)<br>事故數: 15<br>平均嚴重度: 1.93",
          "位置: (40.00, -121.00)<br>事故數: 32<br>平均嚴重度: 1.88",
          "位置: (40.00, -120.50)<br>事故數: 13<br>平均嚴重度: 2.00",
          "位置: (40.00, -112.50)<br>事故數: 15<br>平均嚴重度: 1.93",
          "位置: (40.00, -112.00)<br>事故數: 858<br>平均嚴重度: 2.42",
          "位置: (40.00, -111.50)<br>事故數: 40<br>平均嚴重度: 2.02",
          "位置: (40.00, -110.50)<br>事故數: 22<br>平均嚴重度: 1.82",
          "位置: (40.00, -110.00)<br>事故數: 24<br>平均嚴重度: 2.00",
          "位置: (40.00, -105.50)<br>事故數: 38<br>平均嚴重度: 1.97",
          "位置: (40.00, -105.00)<br>事故數: 346<br>平均嚴重度: 2.89",
          "位置: (40.00, -104.50)<br>事故數: 10<br>平均嚴重度: 2.70",
          "位置: (40.00, -104.00)<br>事故數: 12<br>平均嚴重度: 2.50",
          "位置: (40.00, -90.00)<br>事故數: 18<br>平均嚴重度: 1.94",
          "位置: (40.00, -89.50)<br>事故數: 112<br>平均嚴重度: 2.87",
          "位置: (40.00, -89.00)<br>事故數: 42<br>平均嚴重度: 2.93",
          "位置: (40.00, -88.50)<br>事故數: 176<br>平均嚴重度: 2.94",
          "位置: (40.00, -88.00)<br>事故數: 52<br>平均嚴重度: 2.90",
          "位置: (40.00, -87.00)<br>事故數: 49<br>平均嚴重度: 2.90",
          "位置: (40.00, -86.50)<br>事故數: 77<br>平均嚴重度: 2.12",
          "位置: (40.00, -86.00)<br>事故數: 87<br>平均嚴重度: 2.23",
          "位置: (40.00, -84.50)<br>事故數: 129<br>平均嚴重度: 2.67",
          "位置: (40.00, -84.00)<br>事故數: 41<br>平均嚴重度: 1.93",
          "位置: (40.00, -83.50)<br>事故數: 1316<br>平均嚴重度: 2.29",
          "位置: (40.00, -83.00)<br>事故數: 1821<br>平均嚴重度: 2.48",
          "位置: (40.00, -82.50)<br>事故數: 70<br>平均嚴重度: 1.94",
          "位置: (40.00, -82.00)<br>事故數: 38<br>平均嚴重度: 2.58",
          "位置: (40.00, -81.50)<br>事故數: 33<br>平均嚴重度: 2.58",
          "位置: (40.00, -81.00)<br>事故數: 51<br>平均嚴重度: 2.59",
          "位置: (40.00, -80.50)<br>事故數: 1245<br>平均嚴重度: 2.51",
          "位置: (40.00, -80.00)<br>事故數: 2055<br>平均嚴重度: 2.32",
          "位置: (40.00, -79.50)<br>事故數: 258<br>平均嚴重度: 2.38",
          "位置: (40.00, -79.00)<br>事故數: 383<br>平均嚴重度: 2.13",
          "位置: (40.00, -78.50)<br>事故數: 257<br>平均嚴重度: 2.14",
          "位置: (40.00, -78.00)<br>事故數: 144<br>平均嚴重度: 2.49",
          "位置: (40.00, -77.50)<br>事故數: 538<br>平均嚴重度: 2.44",
          "位置: (40.00, -77.00)<br>事故數: 2792<br>平均嚴重度: 2.35",
          "位置: (40.00, -76.50)<br>事故數: 6166<br>平均嚴重度: 1.98",
          "位置: (40.00, -76.00)<br>事故數: 3057<br>平均嚴重度: 2.01",
          "位置: (40.00, -75.50)<br>事故數: 17858<br>平均嚴重度: 2.08",
          "位置: (40.00, -75.00)<br>事故數: 1742<br>平均嚴重度: 2.49",
          "位置: (40.00, -74.50)<br>事故數: 1168<br>平均嚴重度: 2.19",
          "位置: (40.50, -124.50)<br>事故數: 79<br>平均嚴重度: 1.85",
          "位置: (40.50, -124.00)<br>事故數: 22<br>平均嚴重度: 1.86",
          "位置: (40.50, -123.50)<br>事故數: 16<br>平均嚴重度: 2.00",
          "位置: (40.50, -123.00)<br>事故數: 30<br>平均嚴重度: 2.00",
          "位置: (40.50, -122.50)<br>事故數: 59<br>平均嚴重度: 2.24",
          "位置: (40.50, -118.50)<br>事故數: 13<br>平均嚴重度: 2.15",
          "位置: (40.50, -117.50)<br>事故數: 16<br>平均嚴重度: 2.12",
          "位置: (40.50, -117.00)<br>事故數: 11<br>平均嚴重度: 2.27",
          "位置: (40.50, -116.50)<br>事故數: 20<br>平均嚴重度: 2.20",
          "位置: (40.50, -116.00)<br>事故數: 47<br>平均嚴重度: 1.96",
          "位置: (40.50, -114.50)<br>事故數: 14<br>平均嚴重度: 2.36",
          "位置: (40.50, -113.00)<br>事故數: 26<br>平均嚴重度: 2.50",
          "位置: (40.50, -112.50)<br>事故數: 247<br>平均嚴重度: 2.07",
          "位置: (40.50, -112.00)<br>事故數: 2107<br>平均嚴重度: 2.40",
          "位置: (40.50, -111.50)<br>事故數: 121<br>平均嚴重度: 2.10",
          "位置: (40.50, -105.50)<br>事故數: 113<br>平均嚴重度: 1.94",
          "位置: (40.50, -105.00)<br>事故數: 45<br>平均嚴重度: 2.51",
          "位置: (40.50, -97.00)<br>事故數: 18<br>平均嚴重度: 2.11",
          "位置: (40.50, -96.50)<br>事故數: 13<br>平均嚴重度: 2.46",
          "位置: (40.50, -96.00)<br>事故數: 15<br>平均嚴重度: 2.40",
          "位置: (40.50, -92.00)<br>事故數: 13<br>平均嚴重度: 2.00",
          "位置: (40.50, -90.50)<br>事故數: 17<br>平均嚴重度: 2.82",
          "位置: (40.50, -90.00)<br>事故數: 453<br>平均嚴重度: 2.21",
          "位置: (40.50, -89.50)<br>事故數: 172<br>平均嚴重度: 2.31",
          "位置: (40.50, -89.00)<br>事故數: 79<br>平均嚴重度: 2.92",
          "位置: (40.50, -88.50)<br>事故數: 29<br>平均嚴重度: 2.97",
          "位置: (40.50, -88.00)<br>事故數: 20<br>平均嚴重度: 2.90",
          "位置: (40.50, -87.50)<br>事故數: 42<br>平均嚴重度: 2.88",
          "位置: (40.50, -84.50)<br>事故數: 87<br>平均嚴重度: 2.68",
          "位置: (40.50, -84.00)<br>事故數: 59<br>平均嚴重度: 2.46",
          "位置: (40.50, -83.50)<br>事故數: 21<br>平均嚴重度: 2.00",
          "位置: (40.50, -83.00)<br>事故數: 59<br>平均嚴重度: 2.17",
          "位置: (40.50, -82.50)<br>事故數: 83<br>平均嚴重度: 2.36",
          "位置: (40.50, -82.00)<br>事故數: 99<br>平均嚴重度: 2.04",
          "位置: (40.50, -81.50)<br>事故數: 257<br>平均嚴重度: 2.65",
          "位置: (40.50, -81.00)<br>事故數: 102<br>平均嚴重度: 2.53",
          "位置: (40.50, -80.50)<br>事故數: 707<br>平均嚴重度: 2.53",
          "位置: (40.50, -80.00)<br>事故數: 373<br>平均嚴重度: 2.10",
          "位置: (40.50, -79.50)<br>事故數: 17<br>平均嚴重度: 2.06",
          "位置: (40.50, -79.00)<br>事故數: 123<br>平均嚴重度: 2.02",
          "位置: (40.50, -78.50)<br>事故數: 304<br>平均嚴重度: 2.22",
          "位置: (40.50, -78.00)<br>事故數: 449<br>平均嚴重度: 2.20",
          "位置: (40.50, -77.50)<br>事故數: 155<br>平均嚴重度: 1.97",
          "位置: (40.50, -77.00)<br>事故數: 335<br>平均嚴重度: 2.01",
          "位置: (40.50, -76.50)<br>事故數: 196<br>平均嚴重度: 2.48",
          "位置: (40.50, -76.00)<br>事故數: 651<br>平均嚴重度: 2.53",
          "位置: (40.50, -75.50)<br>事故數: 1049<br>平均嚴重度: 2.27",
          "位置: (40.50, -75.00)<br>事故數: 1068<br>平均嚴重度: 2.56",
          "位置: (40.50, -74.50)<br>事故數: 10686<br>平均嚴重度: 2.39",
          "位置: (40.50, -74.00)<br>事故數: 19161<br>平均嚴重度: 2.51",
          "位置: (40.50, -73.50)<br>事故數: 3165<br>平均嚴重度: 2.18",
          "位置: (40.50, -73.00)<br>事故數: 664<br>平均嚴重度: 2.00",
          "位置: (40.50, -72.50)<br>事故數: 74<br>平均嚴重度: 2.00",
          "位置: (41.00, -124.50)<br>事故數: 16<br>平均嚴重度: 1.88",
          "位置: (41.00, -124.00)<br>事故數: 11<br>平均嚴重度: 2.00",
          "位置: (41.00, -115.50)<br>事故數: 11<br>平均嚴重度: 2.18",
          "位置: (41.00, -115.00)<br>事故數: 28<br>平均嚴重度: 2.11",
          "位置: (41.00, -112.50)<br>事故數: 506<br>平均嚴重度: 2.31",
          "位置: (41.00, -112.00)<br>事故數: 572<br>平均嚴重度: 2.17",
          "位置: (41.00, -111.50)<br>事故數: 28<br>平均嚴重度: 2.39",
          "位置: (41.00, -96.50)<br>事故數: 5828<br>平均嚴重度: 2.15",
          "位置: (41.00, -96.00)<br>事故數: 4035<br>平均嚴重度: 2.15",
          "位置: (41.00, -95.50)<br>事故數: 45<br>平均嚴重度: 2.62",
          "位置: (41.00, -95.00)<br>事故數: 48<br>平均嚴重度: 2.67",
          "位置: (41.00, -94.50)<br>事故數: 28<br>平均嚴重度: 2.68",
          "位置: (41.00, -94.00)<br>事故數: 62<br>平均嚴重度: 2.61",
          "位置: (41.00, -93.50)<br>事故數: 15<br>平均嚴重度: 2.00",
          "位置: (41.00, -93.00)<br>事故數: 15<br>平均嚴重度: 2.13",
          "位置: (41.00, -92.50)<br>事故數: 10<br>平均嚴重度: 2.10",
          "位置: (41.00, -91.00)<br>事故數: 17<br>平均嚴重度: 2.47",
          "位置: (41.00, -90.50)<br>事故數: 51<br>平均嚴重度: 2.92",
          "位置: (41.00, -90.00)<br>事故數: 17<br>平均嚴重度: 2.82",
          "位置: (41.00, -89.50)<br>事故數: 132<br>平均嚴重度: 2.81",
          "位置: (41.00, -89.00)<br>事故數: 89<br>平均嚴重度: 2.69",
          "位置: (41.00, -88.50)<br>事故數: 295<br>平均嚴重度: 2.78",
          "位置: (41.00, -88.00)<br>事故數: 230<br>平均嚴重度: 2.65",
          "位置: (41.00, -87.50)<br>事故數: 81<br>平均嚴重度: 2.96",
          "位置: (41.00, -85.50)<br>事故數: 39<br>平均嚴重度: 2.72",
          "位置: (41.00, -85.00)<br>事故數: 12<br>平均嚴重度: 2.33",
          "位置: (41.00, -84.50)<br>事故數: 17<br>平均嚴重度: 2.00",
          "位置: (41.00, -84.00)<br>事故數: 155<br>平均嚴重度: 2.64",
          "位置: (41.00, -83.50)<br>事故數: 124<br>平均嚴重度: 2.53",
          "位置: (41.00, -83.00)<br>事故數: 189<br>平均嚴重度: 2.52",
          "位置: (41.00, -82.50)<br>事故數: 301<br>平均嚴重度: 2.41",
          "位置: (41.00, -82.00)<br>事故數: 3712<br>平均嚴重度: 2.60",
          "位置: (41.00, -81.50)<br>事故數: 562<br>平均嚴重度: 2.38",
          "位置: (41.00, -81.00)<br>事故數: 240<br>平均嚴重度: 2.37",
          "位置: (41.00, -80.50)<br>事故數: 32<br>平均嚴重度: 2.34",
          "位置: (41.00, -80.00)<br>事故數: 41<br>平均嚴重度: 2.66",
          "位置: (41.00, -79.50)<br>事故數: 143<br>平均嚴重度: 2.37",
          "位置: (41.00, -79.00)<br>事故數: 210<br>平均嚴重度: 2.22",
          "位置: (41.00, -78.50)<br>事故數: 107<br>平均嚴重度: 2.33",
          "位置: (41.00, -78.00)<br>事故數: 59<br>平均嚴重度: 2.29",
          "位置: (41.00, -77.50)<br>事故數: 227<br>平均嚴重度: 2.14",
          "位置: (41.00, -77.00)<br>事故數: 238<br>平均嚴重度: 2.14",
          "位置: (41.00, -76.50)<br>事故數: 118<br>平均嚴重度: 2.39",
          "位置: (41.00, -76.00)<br>事故數: 197<br>平均嚴重度: 2.76",
          "位置: (41.00, -75.50)<br>事故數: 71<br>平均嚴重度: 2.48",
          "位置: (41.00, -75.00)<br>事故數: 69<br>平均嚴重度: 2.32",
          "位置: (41.00, -74.50)<br>事故數: 1692<br>平均嚴重度: 2.47",
          "位置: (41.00, -74.00)<br>事故數: 7823<br>平均嚴重度: 2.45",
          "位置: (41.00, -73.50)<br>事故數: 2265<br>平均嚴重度: 2.62",
          "位置: (41.00, -73.00)<br>事故數: 1055<br>平均嚴重度: 2.67",
          "位置: (41.00, -72.50)<br>事故數: 344<br>平均嚴重度: 2.68",
          "位置: (41.00, -72.00)<br>事故數: 117<br>平均嚴重度: 2.36",
          "位置: (41.00, -71.50)<br>事故數: 22<br>平均嚴重度: 1.86",
          "位置: (41.50, -124.50)<br>事故數: 11<br>平均嚴重度: 2.00",
          "位置: (41.50, -123.00)<br>事故數: 28<br>平均嚴重度: 2.11",
          "位置: (41.50, -113.00)<br>事故數: 13<br>平均嚴重度: 2.31",
          "位置: (41.50, -112.50)<br>事故數: 94<br>平均嚴重度: 2.24",
          "位置: (41.50, -112.00)<br>事故數: 11<br>平均嚴重度: 1.91",
          "位置: (41.50, -96.50)<br>事故數: 38<br>平均嚴重度: 2.39",
          "位置: (41.50, -96.00)<br>事故數: 12<br>平均嚴重度: 2.67",
          "位置: (41.50, -94.50)<br>事故數: 48<br>平均嚴重度: 2.58",
          "位置: (41.50, -94.00)<br>事故數: 1784<br>平均嚴重度: 2.50",
          "位置: (41.50, -93.50)<br>事故數: 127<br>平均嚴重度: 2.54",
          "位置: (41.50, -93.00)<br>事故數: 63<br>平均嚴重度: 2.78",
          "位置: (41.50, -92.50)<br>事故數: 46<br>平均嚴重度: 2.74",
          "位置: (41.50, -92.00)<br>事故數: 412<br>平均嚴重度: 2.71",
          "位置: (41.50, -91.50)<br>事故數: 50<br>平均嚴重度: 2.74",
          "位置: (41.50, -91.00)<br>事故數: 132<br>平均嚴重度: 2.61",
          "位置: (41.50, -90.50)<br>事故數: 48<br>平均嚴重度: 2.77",
          "位置: (41.50, -90.00)<br>事故數: 16<br>平均嚴重度: 3.06",
          "位置: (41.50, -89.50)<br>事故數: 54<br>平均嚴重度: 2.93",
          "位置: (41.50, -89.00)<br>事故數: 42<br>平均嚴重度: 2.57",
          "位置: (41.50, -88.50)<br>事故數: 10435<br>平均嚴重度: 2.08",
          "位置: (41.50, -88.00)<br>事故數: 14806<br>平均嚴重度: 2.51",
          "位置: (41.50, -87.50)<br>事故數: 490<br>平均嚴重度: 2.91",
          "位置: (41.50, -87.00)<br>事故數: 62<br>平均嚴重度: 2.92",
          "位置: (41.50, -86.50)<br>事故數: 51<br>平均嚴重度: 1.90",
          "位置: (41.50, -85.00)<br>事故數: 79<br>平均嚴重度: 2.71",
          "位置: (41.50, -84.50)<br>事故數: 81<br>平均嚴重度: 2.63",
          "位置: (41.50, -84.00)<br>事故數: 507<br>平均嚴重度: 2.56",
          "位置: (41.50, -83.50)<br>事故數: 188<br>平均嚴重度: 2.78",
          "位置: (41.50, -82.00)<br>事故數: 425<br>平均嚴重度: 2.42",
          "位置: (41.50, -81.50)<br>事故數: 203<br>平均嚴重度: 2.43",
          "位置: (41.50, -81.00)<br>事故數: 34<br>平均嚴重度: 2.68",
          "位置: (41.50, -80.50)<br>事故數: 10<br>平均嚴重度: 2.60",
          "位置: (41.50, -79.00)<br>事故數: 73<br>平均嚴重度: 1.99",
          "位置: (41.50, -78.50)<br>事故數: 32<br>平均嚴重度: 2.06",
          "位置: (41.50, -78.00)<br>事故數: 14<br>平均嚴重度: 2.07",
          "位置: (41.50, -77.50)<br>事故數: 50<br>平均嚴重度: 2.00",
          "位置: (41.50, -77.00)<br>事故數: 12<br>平均嚴重度: 1.92",
          "位置: (41.50, -76.50)<br>事故數: 12<br>平均嚴重度: 2.00",
          "位置: (41.50, -76.00)<br>事故數: 45<br>平均嚴重度: 2.71",
          "位置: (41.50, -75.00)<br>事故數: 38<br>平均嚴重度: 2.08",
          "位置: (41.50, -74.50)<br>事故數: 592<br>平均嚴重度: 2.79",
          "位置: (41.50, -74.00)<br>事故數: 2354<br>平均嚴重度: 2.22",
          "位置: (41.50, -73.50)<br>事故數: 404<br>平均嚴重度: 2.59",
          "位置: (41.50, -73.00)<br>事故數: 3521<br>平均嚴重度: 2.73",
          "位置: (41.50, -72.50)<br>事故數: 269<br>平均嚴重度: 2.46",
          "位置: (41.50, -72.00)<br>事故數: 386<br>平均嚴重度: 2.56",
          "位置: (41.50, -71.50)<br>事故數: 3768<br>平均嚴重度: 2.55",
          "位置: (41.50, -71.00)<br>事故數: 423<br>平均嚴重度: 2.04",
          "位置: (41.50, -70.50)<br>事故數: 109<br>平均嚴重度: 1.76",
          "位置: (42.00, -124.00)<br>事故數: 16<br>平均嚴重度: 1.88",
          "位置: (42.00, -123.50)<br>事故數: 46<br>平均嚴重度: 2.20",
          "位置: (42.00, -123.00)<br>事故數: 127<br>平均嚴重度: 2.21",
          "位置: (42.00, -122.50)<br>事故數: 11<br>平均嚴重度: 2.18",
          "位置: (42.00, -122.00)<br>事故數: 65<br>平均嚴重度: 1.95",
          "位置: (42.00, -96.50)<br>事故數: 80<br>平均嚴重度: 2.67",
          "位置: (42.00, -94.00)<br>事故數: 108<br>平均嚴重度: 2.49",
          "位置: (42.00, -93.50)<br>事故數: 17<br>平均嚴重度: 2.06",
          "位置: (42.00, -92.50)<br>事故數: 31<br>平均嚴重度: 2.52",
          "位置: (42.00, -92.00)<br>事故數: 85<br>平均嚴重度: 2.52",
          "位置: (42.00, -91.50)<br>事故數: 13<br>平均嚴重度: 2.08",
          "位置: (42.00, -91.00)<br>事故數: 20<br>平均嚴重度: 2.10",
          "位置: (42.00, -89.50)<br>事故數: 114<br>平均嚴重度: 2.13",
          "位置: (42.00, -89.00)<br>事故數: 190<br>平均嚴重度: 2.63",
          "位置: (42.00, -88.50)<br>事故數: 4228<br>平均嚴重度: 2.07",
          "位置: (42.00, -88.00)<br>事故數: 3256<br>平均嚴重度: 2.19",
          "位置: (42.00, -87.00)<br>事故數: 22<br>平均嚴重度: 3.05",
          "位置: (42.00, -86.50)<br>事故數: 127<br>平均嚴重度: 2.91",
          "位置: (42.00, -86.00)<br>事故數: 269<br>平均嚴重度: 2.55",
          "位置: (42.00, -85.50)<br>事故數: 160<br>平均嚴重度: 2.88",
          "位置: (42.00, -85.00)<br>事故數: 95<br>平均嚴重度: 2.92",
          "位置: (42.00, -84.50)<br>事故數: 167<br>平均嚴重度: 2.85",
          "位置: (42.00, -84.00)<br>事故數: 819<br>平均嚴重度: 2.45",
          "位置: (42.00, -83.50)<br>事故數: 10459<br>平均嚴重度: 2.72",
          "位置: (42.00, -83.00)<br>事故數: 1111<br>平均嚴重度: 2.86",
          "位置: (42.00, -80.50)<br>事故數: 24<br>平均嚴重度: 2.50",
          "位置: (42.00, -80.00)<br>事故數: 37<br>平均嚴重度: 2.49",
          "位置: (42.00, -79.50)<br>事故數: 19<br>平均嚴重度: 2.21",
          "位置: (42.00, -76.50)<br>事故數: 31<br>平均嚴重度: 2.16",
          "位置: (42.00, -76.00)<br>事故數: 59<br>平均嚴重度: 2.83",
          "位置: (42.00, -75.00)<br>事故數: 12<br>平均嚴重度: 2.00",
          "位置: (42.00, -74.50)<br>事故數: 12<br>平均嚴重度: 2.00",
          "位置: (42.00, -74.00)<br>事故數: 923<br>平均嚴重度: 2.38",
          "位置: (42.00, -73.50)<br>事故數: 128<br>平均嚴重度: 2.34",
          "位置: (42.00, -73.00)<br>事故數: 283<br>平均嚴重度: 2.47",
          "位置: (42.00, -72.50)<br>事故數: 206<br>平均嚴重度: 2.36",
          "位置: (42.00, -72.00)<br>事故數: 1283<br>平均嚴重度: 2.49",
          "位置: (42.00, -71.50)<br>事故數: 11446<br>平均嚴重度: 2.17",
          "位置: (42.00, -71.00)<br>事故數: 1116<br>平均嚴重度: 1.78",
          "位置: (42.50, -123.50)<br>事故數: 39<br>平均嚴重度: 2.46",
          "位置: (42.50, -122.00)<br>事故數: 13<br>平均嚴重度: 2.00",
          "位置: (42.50, -96.50)<br>事故數: 18<br>平均嚴重度: 2.00",
          "位置: (42.50, -93.50)<br>事故數: 14<br>平均嚴重度: 2.71",
          "位置: (42.50, -89.50)<br>事故數: 21<br>平均嚴重度: 2.38",
          "位置: (42.50, -89.00)<br>事故數: 44<br>平均嚴重度: 2.77",
          "位置: (42.50, -88.50)<br>事故數: 126<br>平均嚴重度: 2.61",
          "位置: (42.50, -88.00)<br>事故數: 236<br>平均嚴重度: 2.53",
          "位置: (42.50, -86.50)<br>事故數: 509<br>平均嚴重度: 1.98",
          "位置: (42.50, -86.00)<br>事故數: 7443<br>平均嚴重度: 2.03",
          "位置: (42.50, -85.50)<br>事故數: 213<br>平均嚴重度: 2.23",
          "位置: (42.50, -85.00)<br>事故數: 242<br>平均嚴重度: 2.50",
          "位置: (42.50, -84.50)<br>事故數: 130<br>平均嚴重度: 2.79",
          "位置: (42.50, -84.00)<br>事故數: 5343<br>平均嚴重度: 2.18",
          "位置: (42.50, -83.50)<br>事故數: 982<br>平均嚴重度: 2.67",
          "位置: (42.50, -83.00)<br>事故數: 674<br>平均嚴重度: 2.68",
          "位置: (42.50, -82.50)<br>事故數: 38<br>平均嚴重度: 2.50",
          "位置: (42.50, -79.50)<br>事故數: 17<br>平均嚴重度: 2.65",
          "位置: (42.50, -79.00)<br>事故數: 618<br>平均嚴重度: 2.56",
          "位置: (42.50, -78.00)<br>事故數: 40<br>平均嚴重度: 2.12",
          "位置: (42.50, -77.50)<br>事故數: 29<br>平均嚴重度: 2.34",
          "位置: (42.50, -77.00)<br>事故數: 34<br>平均嚴重度: 2.32",
          "位置: (42.50, -76.50)<br>事故數: 10<br>平均嚴重度: 3.00",
          "位置: (42.50, -75.00)<br>事故數: 21<br>平均嚴重度: 2.52",
          "位置: (42.50, -74.50)<br>事故數: 171<br>平均嚴重度: 2.65",
          "位置: (42.50, -74.00)<br>事故數: 2976<br>平均嚴重度: 2.67",
          "位置: (42.50, -73.50)<br>事故數: 21<br>平均嚴重度: 2.00",
          "位置: (42.50, -73.00)<br>事故數: 52<br>平均嚴重度: 2.17",
          "位置: (42.50, -72.50)<br>事故數: 123<br>平均嚴重度: 1.96",
          "位置: (42.50, -72.00)<br>事故數: 540<br>平均嚴重度: 2.05",
          "位置: (42.50, -71.50)<br>事故數: 4053<br>平均嚴重度: 2.31",
          "位置: (42.50, -71.00)<br>事故數: 697<br>平均嚴重度: 2.18",
          "位置: (43.00, -124.50)<br>事故數: 20<br>平均嚴重度: 2.00",
          "位置: (43.00, -123.50)<br>事故數: 33<br>平均嚴重度: 2.36",
          "位置: (43.00, -122.00)<br>事故數: 14<br>平均嚴重度: 1.93",
          "位置: (43.00, -93.50)<br>事故數: 26<br>平均嚴重度: 2.69",
          "位置: (43.00, -93.00)<br>事故數: 10<br>平均嚴重度: 2.00",
          "位置: (43.00, -90.00)<br>事故數: 32<br>平均嚴重度: 1.97",
          "位置: (43.00, -89.50)<br>事故數: 363<br>平均嚴重度: 2.14",
          "位置: (43.00, -89.00)<br>事故數: 30<br>平均嚴重度: 2.63",
          "位置: (43.00, -88.50)<br>事故數: 437<br>平均嚴重度: 2.51",
          "位置: (43.00, -88.00)<br>事故數: 419<br>平均嚴重度: 2.65",
          "位置: (43.00, -86.50)<br>事故數: 277<br>平均嚴重度: 2.02",
          "位置: (43.00, -86.00)<br>事故數: 1040<br>平均嚴重度: 2.10",
          "位置: (43.00, -85.50)<br>事故數: 87<br>平均嚴重度: 1.87",
          "位置: (43.00, -85.00)<br>事故數: 17<br>平均嚴重度: 2.12",
          "位置: (43.00, -84.50)<br>事故數: 23<br>平均嚴重度: 2.13",
          "位置: (43.00, -84.00)<br>事故數: 6792<br>平均嚴重度: 2.11",
          "位置: (43.00, -83.50)<br>事故數: 134<br>平均嚴重度: 2.03",
          "位置: (43.00, -82.50)<br>事故數: 22<br>平均嚴重度: 2.05",
          "位置: (43.00, -79.00)<br>事故數: 83<br>平均嚴重度: 2.33",
          "位置: (43.00, -78.50)<br>事故數: 31<br>平均嚴重度: 2.26",
          "位置: (43.00, -78.00)<br>事故數: 1351<br>平均嚴重度: 1.99",
          "位置: (43.00, -77.50)<br>事故數: 143<br>平均嚴重度: 1.93",
          "位置: (43.00, -77.00)<br>事故數: 16<br>平均嚴重度: 2.56",
          "位置: (43.00, -76.50)<br>事故數: 257<br>平均嚴重度: 2.79",
          "位置: (43.00, -76.00)<br>事故數: 67<br>平均嚴重度: 2.15",
          "位置: (43.00, -75.50)<br>事故數: 114<br>平均嚴重度: 1.96",
          "位置: (43.00, -75.00)<br>事故數: 18<br>平均嚴重度: 2.44",
          "位置: (43.00, -74.00)<br>事故數: 178<br>平均嚴重度: 2.28",
          "位置: (43.00, -73.50)<br>事故數: 20<br>平均嚴重度: 2.00",
          "位置: (43.00, -72.50)<br>事故數: 27<br>平均嚴重度: 2.15",
          "位置: (43.00, -72.00)<br>事故數: 165<br>平均嚴重度: 2.56",
          "位置: (43.00, -71.50)<br>事故數: 131<br>平均嚴重度: 2.30",
          "位置: (43.00, -71.00)<br>事故數: 70<br>平均嚴重度: 2.33",
          "位置: (43.00, -70.50)<br>事故數: 12<br>平均嚴重度: 2.83",
          "位置: (43.50, -124.50)<br>事故數: 19<br>平均嚴重度: 2.00",
          "位置: (43.50, -123.50)<br>事故數: 35<br>平均嚴重度: 2.29",
          "位置: (43.50, -123.00)<br>事故數: 16<br>平均嚴重度: 2.12",
          "位置: (43.50, -121.50)<br>事故數: 15<br>平均嚴重度: 2.07",
          "位置: (43.50, -96.00)<br>事故數: 31<br>平均嚴重度: 1.94",
          "位置: (43.50, -95.50)<br>事故數: 32<br>平均嚴重度: 1.84",
          "位置: (43.50, -95.00)<br>事故數: 16<br>平均嚴重度: 2.00",
          "位置: (43.50, -94.50)<br>事故數: 22<br>平均嚴重度: 2.05",
          "位置: (43.50, -94.00)<br>事故數: 14<br>平均嚴重度: 2.07",
          "位置: (43.50, -93.50)<br>事故數: 65<br>平均嚴重度: 2.12",
          "位置: (43.50, -93.00)<br>事故數: 36<br>平均嚴重度: 2.03",
          "位置: (43.50, -92.50)<br>事故數: 42<br>平均嚴重度: 1.81",
          "位置: (43.50, -92.00)<br>事故數: 24<br>平均嚴重度: 2.00",
          "位置: (43.50, -91.50)<br>事故數: 43<br>平均嚴重度: 2.16",
          "位置: (43.50, -90.50)<br>事故數: 18<br>平均嚴重度: 2.83",
          "位置: (43.50, -90.00)<br>事故數: 21<br>平均嚴重度: 2.62",
          "位置: (43.50, -89.50)<br>事故數: 15<br>平均嚴重度: 2.93",
          "位置: (43.50, -89.00)<br>事故數: 17<br>平均嚴重度: 2.29",
          "位置: (43.50, -88.50)<br>事故數: 33<br>平均嚴重度: 2.36",
          "位置: (43.50, -88.00)<br>事故數: 23<br>平均嚴重度: 2.65",
          "位置: (43.50, -85.00)<br>事故數: 13<br>平均嚴重度: 2.00",
          "位置: (43.50, -84.50)<br>事故數: 39<br>平均嚴重度: 2.38",
          "位置: (43.50, -84.00)<br>事故數: 43<br>平均嚴重度: 2.56",
          "位置: (43.50, -74.00)<br>事故數: 12<br>平均嚴重度: 2.42",
          "位置: (43.50, -72.50)<br>事故數: 28<br>平均嚴重度: 2.86",
          "位置: (43.50, -72.00)<br>事故數: 81<br>平均嚴重度: 2.25",
          "位置: (43.50, -71.50)<br>事故數: 47<br>平均嚴重度: 1.81",
          "位置: (43.50, -70.50)<br>事故數: 97<br>平均嚴重度: 2.64",
          "位置: (44.00, -124.50)<br>事故數: 13<br>平均嚴重度: 1.92",
          "位置: (44.00, -123.50)<br>事故數: 106<br>平均嚴重度: 2.25",
          "位置: (44.00, -123.00)<br>事故數: 22<br>平均嚴重度: 2.00",
          "位置: (44.00, -122.00)<br>事故數: 16<br>平均嚴重度: 2.00",
          "位置: (44.00, -121.50)<br>事故數: 54<br>平均嚴重度: 2.00",
          "位置: (44.00, -121.00)<br>事故數: 11<br>平均嚴重度: 2.00",
          "位置: (44.00, -117.50)<br>事故數: 26<br>平均嚴重度: 2.35",
          "位置: (44.00, -96.00)<br>事故數: 14<br>平均嚴重度: 1.79",
          "位置: (44.00, -95.00)<br>事故數: 10<br>平均嚴重度: 2.00",
          "位置: (44.00, -94.50)<br>事故數: 53<br>平均嚴重度: 1.89",
          "位置: (44.00, -94.00)<br>事故數: 82<br>平均嚴重度: 1.79",
          "位置: (44.00, -93.50)<br>事故數: 83<br>平均嚴重度: 2.02",
          "位置: (44.00, -93.00)<br>事故數: 67<br>平均嚴重度: 1.88",
          "位置: (44.00, -92.50)<br>事故數: 32<br>平均嚴重度: 2.03",
          "位置: (44.00, -92.00)<br>事故數: 14<br>平均嚴重度: 1.93",
          "位置: (44.00, -91.00)<br>事故數: 13<br>平均嚴重度: 2.85",
          "位置: (44.00, -89.50)<br>事故數: 13<br>平均嚴重度: 2.08",
          "位置: (44.00, -89.00)<br>事故數: 25<br>平均嚴重度: 2.40",
          "位置: (44.00, -88.50)<br>事故數: 138<br>平均嚴重度: 2.57",
          "位置: (44.00, -73.50)<br>事故數: 16<br>平均嚴重度: 2.75",
          "位置: (44.00, -73.00)<br>事故數: 12<br>平均嚴重度: 2.83",
          "位置: (44.00, -72.00)<br>事故數: 26<br>平均嚴重度: 2.65",
          "位置: (44.00, -70.00)<br>事故數: 20<br>平均嚴重度: 2.60",
          "位置: (44.50, -124.50)<br>事故數: 13<br>平均嚴重度: 2.08",
          "位置: (44.50, -124.00)<br>事故數: 12<br>平均嚴重度: 2.00",
          "位置: (44.50, -123.50)<br>事故數: 99<br>平均嚴重度: 2.15",
          "位置: (44.50, -123.00)<br>事故數: 73<br>平均嚴重度: 2.18",
          "位置: (44.50, -122.50)<br>事故數: 11<br>平均嚴重度: 2.00",
          "位置: (44.50, -121.50)<br>事故數: 19<br>平均嚴重度: 2.00",
          "位置: (44.50, -118.00)<br>事故數: 28<br>平均嚴重度: 2.54",
          "位置: (44.50, -117.50)<br>事故數: 11<br>平均嚴重度: 2.00",
          "位置: (44.50, -96.00)<br>事故數: 12<br>平均嚴重度: 1.92",
          "位置: (44.50, -95.50)<br>事故數: 21<br>平均嚴重度: 1.81",
          "位置: (44.50, -95.00)<br>事故數: 16<br>平均嚴重度: 1.88",
          "位置: (44.50, -94.50)<br>事故數: 42<br>平均嚴重度: 1.76",
          "位置: (44.50, -94.00)<br>事故數: 134<br>平均嚴重度: 1.92",
          "位置: (44.50, -93.50)<br>事故數: 1788<br>平均嚴重度: 2.17",
          "位置: (44.50, -93.00)<br>事故數: 160<br>平均嚴重度: 2.06",
          "位置: (44.50, -92.50)<br>事故數: 25<br>平均嚴重度: 2.56",
          "位置: (44.50, -92.00)<br>事故數: 33<br>平均嚴重度: 2.55",
          "位置: (44.50, -91.50)<br>事故數: 22<br>平均嚴重度: 2.59",
          "位置: (44.50, -90.00)<br>事故數: 29<br>平均嚴重度: 2.48",
          "位置: (44.50, -89.00)<br>事故數: 11<br>平均嚴重度: 2.18",
          "位置: (44.50, -88.50)<br>事故數: 24<br>平均嚴重度: 2.33",
          "位置: (44.50, -85.50)<br>事故數: 12<br>平均嚴重度: 2.00",
          "位置: (44.50, -85.00)<br>事故數: 15<br>平均嚴重度: 2.93",
          "位置: (44.50, -70.00)<br>事故數: 19<br>平均嚴重度: 2.74",
          "位置: (44.50, -69.50)<br>事故數: 19<br>平均嚴重度: 2.84",
          "位置: (44.50, -69.00)<br>事故數: 22<br>平均嚴重度: 2.68",
          "位置: (45.00, -124.00)<br>事故數: 20<br>平均嚴重度: 1.95",
          "位置: (45.00, -123.50)<br>事故數: 37<br>平均嚴重度: 2.05",
          "位置: (45.00, -123.00)<br>事故數: 497<br>平均嚴重度: 2.39",
          "位置: (45.00, -122.50)<br>事故數: 47<br>平均嚴重度: 2.04",
          "位置: (45.00, -122.00)<br>事故數: 12<br>平均嚴重度: 2.00",
          "位置: (45.00, -118.50)<br>事故數: 29<br>平均嚴重度: 2.28",
          "位置: (45.00, -118.00)<br>事故數: 14<br>平均嚴重度: 2.14",
          "位置: (45.00, -95.50)<br>事故數: 23<br>平均嚴重度: 1.52",
          "位置: (45.00, -95.00)<br>事故數: 35<br>平均嚴重度: 1.77",
          "位置: (45.00, -94.50)<br>事故數: 79<br>平均嚴重度: 1.99",
          "位置: (45.00, -94.00)<br>事故數: 364<br>平均嚴重度: 2.03",
          "位置: (45.00, -93.50)<br>事故數: 1007<br>平均嚴重度: 2.15",
          "位置: (45.00, -93.00)<br>事故數: 137<br>平均嚴重度: 1.85",
          "位置: (45.50, -124.00)<br>事故數: 32<br>平均嚴重度: 2.00",
          "位置: (45.50, -123.50)<br>事故數: 33<br>平均嚴重度: 2.12",
          "位置: (45.50, -123.00)<br>事故數: 1114<br>平均嚴重度: 2.54",
          "位置: (45.50, -122.50)<br>事故數: 94<br>平均嚴重度: 2.31",
          "位置: (45.50, -122.00)<br>事故數: 29<br>平均嚴重度: 2.52",
          "位置: (45.50, -121.50)<br>事故數: 31<br>平均嚴重度: 2.32",
          "位置: (45.50, -121.00)<br>事故數: 34<br>平均嚴重度: 2.32",
          "位置: (45.50, -120.00)<br>事故數: 15<br>平均嚴重度: 2.40",
          "位置: (45.50, -119.50)<br>事故數: 36<br>平均嚴重度: 2.22",
          "位置: (45.50, -119.00)<br>事故數: 34<br>平均嚴重度: 2.32",
          "位置: (45.50, -118.50)<br>事故數: 18<br>平均嚴重度: 2.17",
          "位置: (45.50, -96.00)<br>事故數: 17<br>平均嚴重度: 2.00",
          "位置: (45.50, -95.50)<br>事故數: 19<br>平均嚴重度: 2.00",
          "位置: (45.50, -95.00)<br>事故數: 43<br>平均嚴重度: 2.09",
          "位置: (45.50, -94.50)<br>事故數: 84<br>平均嚴重度: 1.93",
          "位置: (45.50, -94.00)<br>事故數: 24<br>平均嚴重度: 1.75",
          "位置: (45.50, -93.50)<br>事故數: 22<br>平均嚴重度: 1.91",
          "位置: (45.50, -93.00)<br>事故數: 41<br>平均嚴重度: 2.07",
          "位置: (46.00, -124.00)<br>事故數: 26<br>平均嚴重度: 2.04",
          "位置: (46.00, -123.50)<br>事故數: 58<br>平均嚴重度: 1.98",
          "位置: (46.00, -123.00)<br>事故數: 167<br>平均嚴重度: 2.60",
          "位置: (46.00, -119.50)<br>事故數: 12<br>平均嚴重度: 2.42",
          "位置: (46.00, -96.00)<br>事故數: 23<br>平均嚴重度: 2.13",
          "位置: (46.00, -95.50)<br>事故數: 22<br>平均嚴重度: 1.77",
          "位置: (46.00, -95.00)<br>事故數: 24<br>平均嚴重度: 1.83",
          "位置: (46.00, -94.50)<br>事故數: 54<br>平均嚴重度: 1.83",
          "位置: (46.00, -94.00)<br>事故數: 21<br>平均嚴重度: 1.76",
          "位置: (46.00, -93.00)<br>事故數: 37<br>平均嚴重度: 2.08",
          "位置: (46.50, -124.00)<br>事故數: 25<br>平均嚴重度: 2.04",
          "位置: (46.50, -123.50)<br>事故數: 61<br>平均嚴重度: 2.33",
          "位置: (46.50, -123.00)<br>事故數: 180<br>平均嚴重度: 2.69",
          "位置: (46.50, -122.50)<br>事故數: 53<br>平均嚴重度: 1.96",
          "位置: (46.50, -96.00)<br>事故數: 31<br>平均嚴重度: 1.81",
          "位置: (46.50, -93.00)<br>事故數: 21<br>平均嚴重度: 2.14",
          "位置: (46.50, -92.50)<br>事故數: 71<br>平均嚴重度: 2.06",
          "位置: (47.00, -123.50)<br>事故數: 125<br>平均嚴重度: 2.05",
          "位置: (47.00, -123.00)<br>事故數: 886<br>平均嚴重度: 2.58",
          "位置: (47.00, -122.50)<br>事故數: 4749<br>平均嚴重度: 2.45",
          "位置: (47.00, -122.00)<br>事故數: 70<br>平均嚴重度: 2.27",
          "位置: (47.00, -121.50)<br>事故數: 37<br>平均嚴重度: 3.03",
          "位置: (47.00, -121.00)<br>事故數: 15<br>平均嚴重度: 2.87",
          "位置: (47.00, -117.50)<br>事故數: 14<br>平均嚴重度: 2.00",
          "位置: (47.00, -95.00)<br>事故數: 17<br>平均嚴重度: 1.94",
          "位置: (47.00, -94.00)<br>事故數: 11<br>平均嚴重度: 1.82",
          "位置: (47.00, -93.50)<br>事故數: 11<br>平均嚴重度: 1.73",
          "位置: (47.00, -93.00)<br>事故數: 21<br>平均嚴重度: 1.90",
          "位置: (47.50, -123.00)<br>事故數: 308<br>平均嚴重度: 2.03",
          "位置: (47.50, -122.50)<br>事故數: 10962<br>平均嚴重度: 2.35",
          "位置: (47.50, -122.00)<br>事故數: 179<br>平均嚴重度: 2.34",
          "位置: (47.50, -121.50)<br>事故數: 10<br>平均嚴重度: 2.00",
          "位置: (47.50, -118.00)<br>事故數: 100<br>平均嚴重度: 2.15",
          "位置: (47.50, -117.50)<br>事故數: 1467<br>平均嚴重度: 2.08",
          "位置: (47.50, -117.00)<br>事故數: 16<br>平均嚴重度: 2.50",
          "位置: (48.00, -124.00)<br>事故數: 10<br>平均嚴重度: 1.80",
          "位置: (48.00, -123.50)<br>事故數: 24<br>平均嚴重度: 2.00",
          "位置: (48.00, -123.00)<br>事故數: 53<br>平均嚴重度: 2.02",
          "位置: (48.00, -122.50)<br>事故數: 549<br>平均嚴重度: 2.56",
          "位置: (48.50, -123.00)<br>事故數: 41<br>平均嚴重度: 2.93",
          "位置: (48.50, -122.50)<br>事故數: 157<br>平均嚴重度: 2.66"
         ],
         "type": "scattermapbox"
        }
       ],
       "layout": {
        "height": 600,
        "mapbox": {
         "center": {
          "lat": 39.8283,
          "lon": -98.5795
         },
         "style": "open-street-map",
         "zoom": 3
        },
        "showlegend": false,
        "template": {
         "data": {
          "bar": [
           {
            "error_x": {
             "color": "#2a3f5f"
            },
            "error_y": {
             "color": "#2a3f5f"
            },
            "marker": {
             "line": {
              "color": "#E5ECF6",
              "width": 0.5
             },
             "pattern": {
              "fillmode": "overlay",
              "size": 10,
              "solidity": 0.2
             }
            },
            "type": "bar"
           }
          ],
          "barpolar": [
           {
            "marker": {
             "line": {
              "color": "#E5ECF6",
              "width": 0.5
             },
             "pattern": {
              "fillmode": "overlay",
              "size": 10,
              "solidity": 0.2
             }
            },
            "type": "barpolar"
           }
          ],
          "carpet": [
           {
            "aaxis": {
             "endlinecolor": "#2a3f5f",
             "gridcolor": "white",
             "linecolor": "white",
             "minorgridcolor": "white",
             "startlinecolor": "#2a3f5f"
            },
            "baxis": {
             "endlinecolor": "#2a3f5f",
             "gridcolor": "white",
             "linecolor": "white",
             "minorgridcolor": "white",
             "startlinecolor": "#2a3f5f"
            },
            "type": "carpet"
           }
          ],
          "choropleth": [
           {
            "colorbar": {
             "outlinewidth": 0,
             "ticks": ""
            },
            "type": "choropleth"
           }
          ],
          "contour": [
           {
            "colorbar": {
             "outlinewidth": 0,
             "ticks": ""
            },
            "colorscale": [
             [
              0,
              "#0d0887"
             ],
             [
              0.1111111111111111,
              "#46039f"
             ],
             [
              0.2222222222222222,
              "#7201a8"
             ],
             [
              0.3333333333333333,
              "#9c179e"
             ],
             [
              0.4444444444444444,
              "#bd3786"
             ],
             [
              0.5555555555555556,
              "#d8576b"
             ],
             [
              0.6666666666666666,
              "#ed7953"
             ],
             [
              0.7777777777777778,
              "#fb9f3a"
             ],
             [
              0.8888888888888888,
              "#fdca26"
             ],
             [
              1,
              "#f0f921"
             ]
            ],
            "type": "contour"
           }
          ],
          "contourcarpet": [
           {
            "colorbar": {
             "outlinewidth": 0,
             "ticks": ""
            },
            "type": "contourcarpet"
           }
          ],
          "heatmap": [
           {
            "colorbar": {
             "outlinewidth": 0,
             "ticks": ""
            },
            "colorscale": [
             [
              0,
              "#0d0887"
             ],
             [
              0.1111111111111111,
              "#46039f"
             ],
             [
              0.2222222222222222,
              "#7201a8"
             ],
             [
              0.3333333333333333,
              "#9c179e"
             ],
             [
              0.4444444444444444,
              "#bd3786"
             ],
             [
              0.5555555555555556,
              "#d8576b"
             ],
             [
              0.6666666666666666,
              "#ed7953"
             ],
             [
              0.7777777777777778,
              "#fb9f3a"
             ],
             [
              0.8888888888888888,
              "#fdca26"
             ],
             [
              1,
              "#f0f921"
             ]
            ],
            "type": "heatmap"
           }
          ],
          "histogram": [
           {
            "marker": {
             "pattern": {
              "fillmode": "overlay",
              "size": 10,
              "solidity": 0.2
             }
            },
            "type": "histogram"
           }
          ],
          "histogram2d": [
           {
            "colorbar": {
             "outlinewidth": 0,
             "ticks": ""
            },
            "colorscale": [
             [
              0,
              "#0d0887"
             ],
             [
              0.1111111111111111,
              "#46039f"
             ],
             [
              0.2222222222222222,
              "#7201a8"
             ],
             [
              0.3333333333333333,
              "#9c179e"
             ],
             [
              0.4444444444444444,
              "#bd3786"
             ],
             [
              0.5555555555555556,
              "#d8576b"
             ],
             [
              0.6666666666666666,
              "#ed7953"
             ],
             [
              0.7777777777777778,
              "#fb9f3a"
             ],
             [
              0.8888888888888888,
              "#fdca26"
             ],
             [
              1,
              "#f0f921"
             ]
            ],
            "type": "histogram2d"
           }
          ],
          "histogram2dcontour": [
           {
            "colorbar": {
             "outlinewidth": 0,
             "ticks": ""
            },
            "colorscale": [
             [
              0,
              "#0d0887"
             ],
             [
              0.1111111111111111,
              "#46039f"
             ],
             [
              0.2222222222222222,
              "#7201a8"
             ],
             [
              0.3333333333333333,
              "#9c179e"
             ],
             [
              0.4444444444444444,
              "#bd3786"
             ],
             [
              0.5555555555555556,
              "#d8576b"
             ],
             [
              0.6666666666666666,
              "#ed7953"
             ],
             [
              0.7777777777777778,
              "#fb9f3a"
             ],
             [
              0.8888888888888888,
              "#fdca26"
             ],
             [
              1,
              "#f0f921"
             ]
            ],
            "type": "histogram2dcontour"
           }
          ],
          "mesh3d": [
           {
            "colorbar": {
             "outlinewidth": 0,
             "ticks": ""
            },
            "type": "mesh3d"
           }
          ],
          "parcoords": [
           {
            "line": {
             "colorbar": {
              "outlinewidth": 0,
              "ticks": ""
             }
            },
            "type": "parcoords"
           }
          ],
          "pie": [
           {
            "automargin": true,
            "type": "pie"
           }
          ],
          "scatter": [
           {
            "fillpattern": {
             "fillmode": "overlay",
             "size": 10,
             "solidity": 0.2
            },
            "type": "scatter"
           }
          ],
          "scatter3d": [
           {
            "line": {
             "colorbar": {
              "outlinewidth": 0,
              "ticks": ""
             }
            },
            "marker": {
             "colorbar": {
              "outlinewidth": 0,
              "ticks": ""
             }
            },
            "type": "scatter3d"
           }
          ],
          "scattercarpet": [
           {
            "marker": {
             "colorbar": {
              "outlinewidth": 0,
              "ticks": ""
             }
            },
            "type": "scattercarpet"
           }
          ],
          "scattergeo": [
           {
            "marker": {
             "colorbar": {
              "outlinewidth": 0,
              "ticks": ""
             }
            },
            "type": "scattergeo"
           }
          ],
          "scattergl": [
           {
            "marker": {
             "colorbar": {
              "outlinewidth": 0,
              "ticks": ""
             }
            },
            "type": "scattergl"
           }
          ],
          "scattermap": [
           {
            "marker": {
             "colorbar": {
              "outlinewidth": 0,
              "ticks": ""
             }
            },
            "type": "scattermap"
           }
          ],
          "scattermapbox": [
           {
            "marker": {
             "colorbar": {
              "outlinewidth": 0,
              "ticks": ""
             }
            },
            "type": "scattermapbox"
           }
          ],
          "scatterpolar": [
           {
            "marker": {
             "colorbar": {
              "outlinewidth": 0,
              "ticks": ""
             }
            },
            "type": "scatterpolar"
           }
          ],
          "scatterpolargl": [
           {
            "marker": {
             "colorbar": {
              "outlinewidth": 0,
              "ticks": ""
             }
            },
            "type": "scatterpolargl"
           }
          ],
          "scatterternary": [
           {
            "marker": {
             "colorbar": {
              "outlinewidth": 0,
              "ticks": ""
             }
            },
            "type": "scatterternary"
           }
          ],
          "surface": [
           {
            "colorbar": {
             "outlinewidth": 0,
             "ticks": ""
            },
            "colorscale": [
             [
              0,
              "#0d0887"
             ],
             [
              0.1111111111111111,
              "#46039f"
             ],
             [
              0.2222222222222222,
              "#7201a8"
             ],
             [
              0.3333333333333333,
              "#9c179e"
             ],
             [
              0.4444444444444444,
              "#bd3786"
             ],
             [
              0.5555555555555556,
              "#d8576b"
             ],
             [
              0.6666666666666666,
              "#ed7953"
             ],
             [
              0.7777777777777778,
              "#fb9f3a"
             ],
             [
              0.8888888888888888,
              "#fdca26"
             ],
             [
              1,
              "#f0f921"
             ]
            ],
            "type": "surface"
           }
          ],
          "table": [
           {
            "cells": {
             "fill": {
              "color": "#EBF0F8"
             },
             "line": {
              "color": "white"
             }
            },
            "header": {
             "fill": {
              "color": "#C8D4E3"
             },
             "line": {
              "color": "white"
             }
            },
            "type": "table"
           }
          ]
         },
         "layout": {
          "annotationdefaults": {
           "arrowcolor": "#2a3f5f",
           "arrowhead": 0,
           "arrowwidth": 1
          },
          "autotypenumbers": "strict",
          "coloraxis": {
           "colorbar": {
            "outlinewidth": 0,
            "ticks": ""
           }
          },
          "colorscale": {
           "diverging": [
            [
             0,
             "#8e0152"
            ],
            [
             0.1,
             "#c51b7d"
            ],
            [
             0.2,
             "#de77ae"
            ],
            [
             0.3,
             "#f1b6da"
            ],
            [
             0.4,
             "#fde0ef"
            ],
            [
             0.5,
             "#f7f7f7"
            ],
            [
             0.6,
             "#e6f5d0"
            ],
            [
             0.7,
             "#b8e186"
            ],
            [
             0.8,
             "#7fbc41"
            ],
            [
             0.9,
             "#4d9221"
            ],
            [
             1,
             "#276419"
            ]
           ],
           "sequential": [
            [
             0,
             "#0d0887"
            ],
            [
             0.1111111111111111,
             "#46039f"
            ],
            [
             0.2222222222222222,
             "#7201a8"
            ],
            [
             0.3333333333333333,
             "#9c179e"
            ],
            [
             0.4444444444444444,
             "#bd3786"
            ],
            [
             0.5555555555555556,
             "#d8576b"
            ],
            [
             0.6666666666666666,
             "#ed7953"
            ],
            [
             0.7777777777777778,
             "#fb9f3a"
            ],
            [
             0.8888888888888888,
             "#fdca26"
            ],
            [
             1,
             "#f0f921"
            ]
           ],
           "sequentialminus": [
            [
             0,
             "#0d0887"
            ],
            [
             0.1111111111111111,
             "#46039f"
            ],
            [
             0.2222222222222222,
             "#7201a8"
            ],
            [
             0.3333333333333333,
             "#9c179e"
            ],
            [
             0.4444444444444444,
             "#bd3786"
            ],
            [
             0.5555555555555556,
             "#d8576b"
            ],
            [
             0.6666666666666666,
             "#ed7953"
            ],
            [
             0.7777777777777778,
             "#fb9f3a"
            ],
            [
             0.8888888888888888,
             "#fdca26"
            ],
            [
             1,
             "#f0f921"
            ]
           ]
          },
          "colorway": [
           "#636efa",
           "#EF553B",
           "#00cc96",
           "#ab63fa",
           "#FFA15A",
           "#19d3f3",
           "#FF6692",
           "#B6E880",
           "#FF97FF",
           "#FECB52"
          ],
          "font": {
           "color": "#2a3f5f"
          },
          "geo": {
           "bgcolor": "white",
           "lakecolor": "white",
           "landcolor": "#E5ECF6",
           "showlakes": true,
           "showland": true,
           "subunitcolor": "white"
          },
          "hoverlabel": {
           "align": "left"
          },
          "hovermode": "closest",
          "mapbox": {
           "style": "light"
          },
          "paper_bgcolor": "white",
          "plot_bgcolor": "#E5ECF6",
          "polar": {
           "angularaxis": {
            "gridcolor": "white",
            "linecolor": "white",
            "ticks": ""
           },
           "bgcolor": "#E5ECF6",
           "radialaxis": {
            "gridcolor": "white",
            "linecolor": "white",
            "ticks": ""
           }
          },
          "scene": {
           "xaxis": {
            "backgroundcolor": "#E5ECF6",
            "gridcolor": "white",
            "gridwidth": 2,
            "linecolor": "white",
            "showbackground": true,
            "ticks": "",
            "zerolinecolor": "white"
           },
           "yaxis": {
            "backgroundcolor": "#E5ECF6",
            "gridcolor": "white",
            "gridwidth": 2,
            "linecolor": "white",
            "showbackground": true,
            "ticks": "",
            "zerolinecolor": "white"
           },
           "zaxis": {
            "backgroundcolor": "#E5ECF6",
            "gridcolor": "white",
            "gridwidth": 2,
            "linecolor": "white",
            "showbackground": true,
            "ticks": "",
            "zerolinecolor": "white"
           }
          },
          "shapedefaults": {
           "line": {
            "color": "#2a3f5f"
           }
          },
          "ternary": {
           "aaxis": {
            "gridcolor": "white",
            "linecolor": "white",
            "ticks": ""
           },
           "baxis": {
            "gridcolor": "white",
            "linecolor": "white",
            "ticks": ""
           },
           "bgcolor": "#E5ECF6",
           "caxis": {
            "gridcolor": "white",
            "linecolor": "white",
            "ticks": ""
           }
          },
          "title": {
           "x": 0.05
          },
          "xaxis": {
           "automargin": true,
           "gridcolor": "white",
           "linecolor": "white",
           "ticks": "",
           "title": {
            "standoff": 15
           },
           "zerolinecolor": "white",
           "zerolinewidth": 2
          },
          "yaxis": {
           "automargin": true,
           "gridcolor": "white",
           "linecolor": "white",
           "ticks": "",
           "title": {
            "standoff": 15
           },
           "zerolinecolor": "white",
           "zerolinewidth": 2
          }
         }
        },
        "title": {
         "text": "美國交通事故熱力圖"
        }
       }
      }
     },
     "metadata": {},
     "output_type": "display_data"
    },
    {
     "data": {
      "application/vnd.plotly.v1+json": {
       "config": {
        "plotlyServerURL": "https://plot.ly"
       },
       "data": [
        {
         "name": "事故數量",
         "type": "bar",
         "x": {
          "bdata": "AAECAwQFBgcICQoLDA0ODxAREhMUFRYX",
          "dtype": "i1"
         },
         "y": {
          "bdata": "oBsAANkVAAC8GgAA1xgAAOVqAAAwgAAAefUAAPB/AQBqlAEAPOIAAB/OAACCyAAAVqIAAD6fAAAtrQAAlsMAALsBAQD8CAEAWt8AAPmkAAD8ewAAWlQAACZBAACSHAAA",
          "dtype": "i4"
         },
         "yaxis": "y"
        },
        {
         "line": {
          "color": "red",
          "width": 2
         },
         "name": "平均嚴重度",
         "type": "scatter",
         "x": {
          "bdata": "AAECAwQFBgcICQoLDA0ODxAREhMUFRYX",
          "dtype": "i1"
         },
         "y": {
          "bdata": "ZLKeY7LeA0AFhhDvwSsEQDDxjE79jQNAPyA5kyFyA0CPBge9qpEBQGKmmbsLtgFAVBNv7peZAUC5WWngCW0BQDA/m+AbbwFAaZ23ISNzAkBPDAlp0qoCQCrXfbjAxwJAOGfS3g5bA0ACNE3j8msDQHbf7q0TcANAInnu1fVlA0COMzvS+84CQHO0Mt9CzgJAO1OVzOXlAkAQ4mI/HwUDQDaPV5qwYgNA8cmHxWm/A0CnusDeuN4DQOc8yv/qywNA",
          "dtype": "f8"
         },
         "yaxis": "y2"
        }
       ],
       "layout": {
        "hovermode": "x unified",
        "template": {
         "data": {
          "bar": [
           {
            "error_x": {
             "color": "#2a3f5f"
            },
            "error_y": {
             "color": "#2a3f5f"
            },
            "marker": {
             "line": {
              "color": "#E5ECF6",
              "width": 0.5
             },
             "pattern": {
              "fillmode": "overlay",
              "size": 10,
              "solidity": 0.2
             }
            },
            "type": "bar"
           }
          ],
          "barpolar": [
           {
            "marker": {
             "line": {
              "color": "#E5ECF6",
              "width": 0.5
             },
             "pattern": {
              "fillmode": "overlay",
              "size": 10,
              "solidity": 0.2
             }
            },
            "type": "barpolar"
           }
          ],
          "carpet": [
           {
            "aaxis": {
             "endlinecolor": "#2a3f5f",
             "gridcolor": "white",
             "linecolor": "white",
             "minorgridcolor": "white",
             "startlinecolor": "#2a3f5f"
            },
            "baxis": {
             "endlinecolor": "#2a3f5f",
             "gridcolor": "white",
             "linecolor": "white",
             "minorgridcolor": "white",
             "startlinecolor": "#2a3f5f"
            },
            "type": "carpet"
           }
          ],
          "choropleth": [
           {
            "colorbar": {
             "outlinewidth": 0,
             "ticks": ""
            },
            "type": "choropleth"
           }
          ],
          "contour": [
           {
            "colorbar": {
             "outlinewidth": 0,
             "ticks": ""
            },
            "colorscale": [
             [
              0,
              "#0d0887"
             ],
             [
              0.1111111111111111,
              "#46039f"
             ],
             [
              0.2222222222222222,
              "#7201a8"
             ],
             [
              0.3333333333333333,
              "#9c179e"
             ],
             [
              0.4444444444444444,
              "#bd3786"
             ],
             [
              0.5555555555555556,
              "#d8576b"
             ],
             [
              0.6666666666666666,
              "#ed7953"
             ],
             [
              0.7777777777777778,
              "#fb9f3a"
             ],
             [
              0.8888888888888888,
              "#fdca26"
             ],
             [
              1,
              "#f0f921"
             ]
            ],
            "type": "contour"
           }
          ],
          "contourcarpet": [
           {
            "colorbar": {
             "outlinewidth": 0,
             "ticks": ""
            },
            "type": "contourcarpet"
           }
          ],
          "heatmap": [
           {
            "colorbar": {
             "outlinewidth": 0,
             "ticks": ""
            },
            "colorscale": [
             [
              0,
              "#0d0887"
             ],
             [
              0.1111111111111111,
              "#46039f"
             ],
             [
              0.2222222222222222,
              "#7201a8"
             ],
             [
              0.3333333333333333,
              "#9c179e"
             ],
             [
              0.4444444444444444,
              "#bd3786"
             ],
             [
              0.5555555555555556,
              "#d8576b"
             ],
             [
              0.6666666666666666,
              "#ed7953"
             ],
             [
              0.7777777777777778,
              "#fb9f3a"
             ],
             [
              0.8888888888888888,
              "#fdca26"
             ],
             [
              1,
              "#f0f921"
             ]
            ],
            "type": "heatmap"
           }
          ],
          "histogram": [
           {
            "marker": {
             "pattern": {
              "fillmode": "overlay",
              "size": 10,
              "solidity": 0.2
             }
            },
            "type": "histogram"
           }
          ],
          "histogram2d": [
           {
            "colorbar": {
             "outlinewidth": 0,
             "ticks": ""
            },
            "colorscale": [
             [
              0,
              "#0d0887"
             ],
             [
              0.1111111111111111,
              "#46039f"
             ],
             [
              0.2222222222222222,
              "#7201a8"
             ],
             [
              0.3333333333333333,
              "#9c179e"
             ],
             [
              0.4444444444444444,
              "#bd3786"
             ],
             [
              0.5555555555555556,
              "#d8576b"
             ],
             [
              0.6666666666666666,
              "#ed7953"
             ],
             [
              0.7777777777777778,
              "#fb9f3a"
             ],
             [
              0.8888888888888888,
              "#fdca26"
             ],
             [
              1,
              "#f0f921"
             ]
            ],
            "type": "histogram2d"
           }
          ],
          "histogram2dcontour": [
           {
            "colorbar": {
             "outlinewidth": 0,
             "ticks": ""
            },
            "colorscale": [
             [
              0,
              "#0d0887"
             ],
             [
              0.1111111111111111,
              "#46039f"
             ],
             [
              0.2222222222222222,
              "#7201a8"
             ],
             [
              0.3333333333333333,
              "#9c179e"
             ],
             [
              0.4444444444444444,
              "#bd3786"
             ],
             [
              0.5555555555555556,
              "#d8576b"
             ],
             [
              0.6666666666666666,
              "#ed7953"
             ],
             [
              0.7777777777777778,
              "#fb9f3a"
             ],
             [
              0.8888888888888888,
              "#fdca26"
             ],
             [
              1,
              "#f0f921"
             ]
            ],
            "type": "histogram2dcontour"
           }
          ],
          "mesh3d": [
           {
            "colorbar": {
             "outlinewidth": 0,
             "ticks": ""
            },
            "type": "mesh3d"
           }
          ],
          "parcoords": [
           {
            "line": {
             "colorbar": {
              "outlinewidth": 0,
              "ticks": ""
             }
            },
            "type": "parcoords"
           }
          ],
          "pie": [
           {
            "automargin": true,
            "type": "pie"
           }
          ],
          "scatter": [
           {
            "fillpattern": {
             "fillmode": "overlay",
             "size": 10,
             "solidity": 0.2
            },
            "type": "scatter"
           }
          ],
          "scatter3d": [
           {
            "line": {
             "colorbar": {
              "outlinewidth": 0,
              "ticks": ""
             }
            },
            "marker": {
             "colorbar": {
              "outlinewidth": 0,
              "ticks": ""
             }
            },
            "type": "scatter3d"
           }
          ],
          "scattercarpet": [
           {
            "marker": {
             "colorbar": {
              "outlinewidth": 0,
              "ticks": ""
             }
            },
            "type": "scattercarpet"
           }
          ],
          "scattergeo": [
           {
            "marker": {
             "colorbar": {
              "outlinewidth": 0,
              "ticks": ""
             }
            },
            "type": "scattergeo"
           }
          ],
          "scattergl": [
           {
            "marker": {
             "colorbar": {
              "outlinewidth": 0,
              "ticks": ""
             }
            },
            "type": "scattergl"
           }
          ],
          "scattermap": [
           {
            "marker": {
             "colorbar": {
              "outlinewidth": 0,
              "ticks": ""
             }
            },
            "type": "scattermap"
           }
          ],
          "scattermapbox": [
           {
            "marker": {
             "colorbar": {
              "outlinewidth": 0,
              "ticks": ""
             }
            },
            "type": "scattermapbox"
           }
          ],
          "scatterpolar": [
           {
            "marker": {
             "colorbar": {
              "outlinewidth": 0,
              "ticks": ""
             }
            },
            "type": "scatterpolar"
           }
          ],
          "scatterpolargl": [
           {
            "marker": {
             "colorbar": {
              "outlinewidth": 0,
              "ticks": ""
             }
            },
            "type": "scatterpolargl"
           }
          ],
          "scatterternary": [
           {
            "marker": {
             "colorbar": {
              "outlinewidth": 0,
              "ticks": ""
             }
            },
            "type": "scatterternary"
           }
          ],
          "surface": [
           {
            "colorbar": {
             "outlinewidth": 0,
             "ticks": ""
            },
            "colorscale": [
             [
              0,
              "#0d0887"
             ],
             [
              0.1111111111111111,
              "#46039f"
             ],
             [
              0.2222222222222222,
              "#7201a8"
             ],
             [
              0.3333333333333333,
              "#9c179e"
             ],
             [
              0.4444444444444444,
              "#bd3786"
             ],
             [
              0.5555555555555556,
              "#d8576b"
             ],
             [
              0.6666666666666666,
              "#ed7953"
             ],
             [
              0.7777777777777778,
              "#fb9f3a"
             ],
             [
              0.8888888888888888,
              "#fdca26"
             ],
             [
              1,
              "#f0f921"
             ]
            ],
            "type": "surface"
           }
          ],
          "table": [
           {
            "cells": {
             "fill": {
              "color": "#EBF0F8"
             },
             "line": {
              "color": "white"
             }
            },
            "header": {
             "fill": {
              "color": "#C8D4E3"
             },
             "line": {
              "color": "white"
             }
            },
            "type": "table"
           }
          ]
         },
         "layout": {
          "annotationdefaults": {
           "arrowcolor": "#2a3f5f",
           "arrowhead": 0,
           "arrowwidth": 1
          },
          "autotypenumbers": "strict",
          "coloraxis": {
           "colorbar": {
            "outlinewidth": 0,
            "ticks": ""
           }
          },
          "colorscale": {
           "diverging": [
            [
             0,
             "#8e0152"
            ],
            [
             0.1,
             "#c51b7d"
            ],
            [
             0.2,
             "#de77ae"
            ],
            [
             0.3,
             "#f1b6da"
            ],
            [
             0.4,
             "#fde0ef"
            ],
            [
             0.5,
             "#f7f7f7"
            ],
            [
             0.6,
             "#e6f5d0"
            ],
            [
             0.7,
             "#b8e186"
            ],
            [
             0.8,
             "#7fbc41"
            ],
            [
             0.9,
             "#4d9221"
            ],
            [
             1,
             "#276419"
            ]
           ],
           "sequential": [
            [
             0,
             "#0d0887"
            ],
            [
             0.1111111111111111,
             "#46039f"
            ],
            [
             0.2222222222222222,
             "#7201a8"
            ],
            [
             0.3333333333333333,
             "#9c179e"
            ],
            [
             0.4444444444444444,
             "#bd3786"
            ],
            [
             0.5555555555555556,
             "#d8576b"
            ],
            [
             0.6666666666666666,
             "#ed7953"
            ],
            [
             0.7777777777777778,
             "#fb9f3a"
            ],
            [
             0.8888888888888888,
             "#fdca26"
            ],
            [
             1,
             "#f0f921"
            ]
           ],
           "sequentialminus": [
            [
             0,
             "#0d0887"
            ],
            [
             0.1111111111111111,
             "#46039f"
            ],
            [
             0.2222222222222222,
             "#7201a8"
            ],
            [
             0.3333333333333333,
             "#9c179e"
            ],
            [
             0.4444444444444444,
             "#bd3786"
            ],
            [
             0.5555555555555556,
             "#d8576b"
            ],
            [
             0.6666666666666666,
             "#ed7953"
            ],
            [
             0.7777777777777778,
             "#fb9f3a"
            ],
            [
             0.8888888888888888,
             "#fdca26"
            ],
            [
             1,
             "#f0f921"
            ]
           ]
          },
          "colorway": [
           "#636efa",
           "#EF553B",
           "#00cc96",
           "#ab63fa",
           "#FFA15A",
           "#19d3f3",
           "#FF6692",
           "#B6E880",
           "#FF97FF",
           "#FECB52"
          ],
          "font": {
           "color": "#2a3f5f"
          },
          "geo": {
           "bgcolor": "white",
           "lakecolor": "white",
           "landcolor": "#E5ECF6",
           "showlakes": true,
           "showland": true,
           "subunitcolor": "white"
          },
          "hoverlabel": {
           "align": "left"
          },
          "hovermode": "closest",
          "mapbox": {
           "style": "light"
          },
          "paper_bgcolor": "white",
          "plot_bgcolor": "#E5ECF6",
          "polar": {
           "angularaxis": {
            "gridcolor": "white",
            "linecolor": "white",
            "ticks": ""
           },
           "bgcolor": "#E5ECF6",
           "radialaxis": {
            "gridcolor": "white",
            "linecolor": "white",
            "ticks": ""
           }
          },
          "scene": {
           "xaxis": {
            "backgroundcolor": "#E5ECF6",
            "gridcolor": "white",
            "gridwidth": 2,
            "linecolor": "white",
            "showbackground": true,
            "ticks": "",
            "zerolinecolor": "white"
           },
           "yaxis": {
            "backgroundcolor": "#E5ECF6",
            "gridcolor": "white",
            "gridwidth": 2,
            "linecolor": "white",
            "showbackground": true,
            "ticks": "",
            "zerolinecolor": "white"
           },
           "zaxis": {
            "backgroundcolor": "#E5ECF6",
            "gridcolor": "white",
            "gridwidth": 2,
            "linecolor": "white",
            "showbackground": true,
            "ticks": "",
            "zerolinecolor": "white"
           }
          },
          "shapedefaults": {
           "line": {
            "color": "#2a3f5f"
           }
          },
          "ternary": {
           "aaxis": {
            "gridcolor": "white",
            "linecolor": "white",
            "ticks": ""
           },
           "baxis": {
            "gridcolor": "white",
            "linecolor": "white",
            "ticks": ""
           },
           "bgcolor": "#E5ECF6",
           "caxis": {
            "gridcolor": "white",
            "linecolor": "white",
            "ticks": ""
           }
          },
          "title": {
           "x": 0.05
          },
          "xaxis": {
           "automargin": true,
           "gridcolor": "white",
           "linecolor": "white",
           "ticks": "",
           "title": {
            "standoff": 15
           },
           "zerolinecolor": "white",
           "zerolinewidth": 2
          },
          "yaxis": {
           "automargin": true,
           "gridcolor": "white",
           "linecolor": "white",
           "ticks": "",
           "title": {
            "standoff": 15
           },
           "zerolinecolor": "white",
           "zerolinewidth": 2
          }
         }
        },
        "title": {
         "text": "24小時事故分布"
        },
        "xaxis": {
         "title": {
          "text": "小時"
         }
        },
        "yaxis": {
         "side": "left",
         "title": {
          "text": "事故數量"
         }
        },
        "yaxis2": {
         "overlaying": "y",
         "side": "right",
         "title": {
          "text": "平均嚴重度"
         }
        }
       }
      }
     },
     "metadata": {},
     "output_type": "display_data"
    },
    {
     "name": "stdout",
     "output_type": "stream",
     "text": [
      "識別出 116 個高風險區域\n",
      "\n",
      "Top 10 高風險區域:\n",
      "  (34.00, -118.50) - 風險分數: 12674.57, 事故數: 41660.0\n",
      "  (32.50, -97.00) - 風險分數: 10091.32, 事故數: 33088.0\n",
      "  (33.50, -118.50) - 風險分數: 9189.00, 事故數: 30028.0\n",
      "  (29.50, -95.50) - 風險分數: 9114.11, 事故數: 29854.0\n",
      "  (30.00, -98.00) - 風險分數: 7943.38, 事故數: 25990.0\n",
      "  (37.50, -122.50) - 風險分數: 7500.09, 事故數: 24411.0\n",
      "  (33.50, -84.50) - 風險分數: 5995.84, 事故數: 19343.0\n",
      "  (40.50, -74.00) - 風險分數: 5924.17, 事故數: 19161.0\n",
      "  (33.50, -118.00) - 風險分數: 5603.35, 事故數: 18139.0\n",
      "  (40.00, -75.50) - 風險分數: 5503.33, 事故數: 17858.0\n"
     ]
    }
   ],
   "source": [
    "# ===========================\n",
    "# Cell 17: 準備時空預測數據\n",
    "# ===========================\n",
    "\n",
    "# 首先，我們需要重新載入包含地理位置的原始數據\n",
    "print(\"重新載入地理數據...\")\n",
    "\n",
    "# 載入需要的欄位\n",
    "geo_cols = ['Start_Lat', 'Start_Lng', 'Start_Time', 'Severity', 'State', 'City']\n",
    "df_geo = pd.read_csv(file_path, usecols=geo_cols, nrows=1000000)  # 先用100萬筆測試\n",
    "\n",
    "# 處理時間\n",
    "df_geo['Start_Time'] = pd.to_datetime(df_geo['Start_Time'])\n",
    "df_geo = df_geo.dropna(subset=['Start_Lat', 'Start_Lng'])\n",
    "\n",
    "print(f\"地理數據大小: {df_geo.shape}\")\n",
    "print(f\"數據範圍: Lat [{df_geo['Start_Lat'].min():.2f}, {df_geo['Start_Lat'].max():.2f}], \"\n",
    "      f\"Lng [{df_geo['Start_Lng'].min():.2f}, {df_geo['Start_Lng'].max():.2f}]\")\n",
    "\n",
    "# ===========================\n",
    "# Cell 18: 創建網格化地圖數據\n",
    "# ===========================\n",
    "\n",
    "def create_grid_statistics(df_geo):\n",
    "    \"\"\"創建網格化的事故統計\"\"\"\n",
    "    print(\"創建網格統計...\")\n",
    "    \n",
    "    # 提取時間特徵\n",
    "    df_geo['Hour'] = df_geo['Start_Time'].dt.hour\n",
    "    df_geo['DayOfWeek'] = df_geo['Start_Time'].dt.dayofweek\n",
    "    df_geo['Month'] = df_geo['Start_Time'].dt.month\n",
    "    \n",
    "    # 創建地理網格（0.5度 x 0.5度）\n",
    "    df_geo['lat_grid'] = (df_geo['Start_Lat'] // 0.5) * 0.5\n",
    "    df_geo['lng_grid'] = (df_geo['Start_Lng'] // 0.5) * 0.5\n",
    "    \n",
    "    # 統計每個網格的事故\n",
    "    grid_stats = df_geo.groupby(['lat_grid', 'lng_grid']).agg({\n",
    "        'Severity': ['count', 'mean'],\n",
    "        'Hour': lambda x: x.mode()[0] if len(x) > 0 else 12,\n",
    "        'DayOfWeek': lambda x: x.mode()[0] if len(x) > 0 else 1\n",
    "    }).reset_index()\n",
    "    \n",
    "    # 簡化列名\n",
    "    grid_stats.columns = ['lat', 'lng', 'accident_count', 'avg_severity', 'common_hour', 'common_day']\n",
    "    \n",
    "    # 只保留有足夠事故的網格\n",
    "    grid_stats = grid_stats[grid_stats['accident_count'] >= 10]\n",
    "    \n",
    "    print(f\"網格數量: {len(grid_stats)}\")\n",
    "    \n",
    "    return grid_stats, df_geo\n",
    "\n",
    "grid_stats, df_geo_processed = create_grid_statistics(df_geo)\n",
    "\n",
    "# ===========================\n",
    "# Cell 19: 創建互動式地圖（使用Plotly）\n",
    "# ===========================\n",
    "\n",
    "import plotly.graph_objects as go\n",
    "import plotly.express as px\n",
    "\n",
    "def create_interactive_map(grid_stats, selected_hour=None, selected_day=None):\n",
    "    \"\"\"創建互動式事故熱力圖\"\"\"\n",
    "    \n",
    "    # 篩選數據\n",
    "    data = grid_stats.copy()\n",
    "    if selected_hour is not None:\n",
    "        # 篩選相似時間的數據\n",
    "        data = data[np.abs(data['common_hour'] - selected_hour) <= 3]\n",
    "    \n",
    "    # 創建地圖\n",
    "    fig = go.Figure()\n",
    "    \n",
    "    # 添加熱力圖層\n",
    "    fig.add_trace(go.Scattermapbox(\n",
    "        lat=data['lat'],\n",
    "        lon=data['lng'],\n",
    "        mode='markers',\n",
    "        marker=dict(\n",
    "            size=np.log1p(data['accident_count']) * 3,  # 對數縮放\n",
    "            color=data['avg_severity'],\n",
    "            colorscale='Reds',\n",
    "            showscale=True,\n",
    "            colorbar=dict(title=\"平均嚴重度\"),\n",
    "            opacity=0.7\n",
    "        ),\n",
    "        text=[f\"位置: ({lat:.2f}, {lng:.2f})<br>\"\n",
    "              f\"事故數: {count}<br>\"\n",
    "              f\"平均嚴重度: {sev:.2f}\"\n",
    "              for lat, lng, count, sev in zip(\n",
    "                  data['lat'], data['lng'], \n",
    "                  data['accident_count'], data['avg_severity'])],\n",
    "        hovertemplate='%{text}<extra></extra>'\n",
    "    ))\n",
    "    \n",
    "    # 設置地圖樣式\n",
    "    fig.update_layout(\n",
    "        mapbox=dict(\n",
    "            style=\"open-street-map\",\n",
    "            center=dict(lat=39.8283, lon=-98.5795),  # 美國中心\n",
    "            zoom=3\n",
    "        ),\n",
    "        showlegend=False,\n",
    "        height=600,\n",
    "        title=f\"美國交通事故熱力圖\" + \n",
    "              (f\" - {selected_hour}:00\" if selected_hour is not None else \"\")\n",
    "    )\n",
    "    \n",
    "    return fig\n",
    "\n",
    "# 創建基礎地圖\n",
    "base_map = create_interactive_map(grid_stats)\n",
    "base_map.show()\n",
    "\n",
    "# ===========================\n",
    "# Cell 20: 時間動態分析\n",
    "# ===========================\n",
    "\n",
    "# 創建按小時的事故分布\n",
    "hourly_stats = df_geo_processed.groupby('Hour').agg({\n",
    "    'Severity': ['count', 'mean']\n",
    "}).reset_index()\n",
    "hourly_stats.columns = ['Hour', 'Count', 'Avg_Severity']\n",
    "\n",
    "# 繪製時間分布圖\n",
    "fig_time = go.Figure()\n",
    "\n",
    "# 事故數量\n",
    "fig_time.add_trace(go.Bar(\n",
    "    x=hourly_stats['Hour'],\n",
    "    y=hourly_stats['Count'],\n",
    "    name='事故數量',\n",
    "    yaxis='y'\n",
    "))\n",
    "\n",
    "# 平均嚴重度\n",
    "fig_time.add_trace(go.Scatter(\n",
    "    x=hourly_stats['Hour'],\n",
    "    y=hourly_stats['Avg_Severity'],\n",
    "    name='平均嚴重度',\n",
    "    yaxis='y2',\n",
    "    line=dict(color='red', width=2)\n",
    "))\n",
    "\n",
    "fig_time.update_layout(\n",
    "    title='24小時事故分布',\n",
    "    xaxis=dict(title='小時'),\n",
    "    yaxis=dict(title='事故數量', side='left'),\n",
    "    yaxis2=dict(title='平均嚴重度', side='right', overlaying='y'),\n",
    "    hovermode='x unified'\n",
    ")\n",
    "\n",
    "fig_time.show()\n",
    "\n",
    "# ===========================\n",
    "# Cell 21: 預測函數\n",
    "# ===========================\n",
    "\n",
    "def predict_accident_risk(lat, lng, hour, day_of_week, model, scaler, feature_template):\n",
    "    \"\"\"預測特定位置和時間的事故風險\"\"\"\n",
    "    \n",
    "    # 創建特徵向量（需要匹配訓練時的特徵）\n",
    "    # 這裡簡化處理，實際需要完整的特徵工程\n",
    "    features = np.zeros(len(feature_template))\n",
    "    \n",
    "    # 填入基本特徵\n",
    "    features[0] = hour\n",
    "    features[1] = day_of_week\n",
    "    # ... 其他特徵\n",
    "    \n",
    "    # 標準化\n",
    "    features_scaled = scaler.transform(features.reshape(1, -1))\n",
    "    \n",
    "    # 預測\n",
    "    prediction = model.predict(features_scaled)[0]\n",
    "    probability = model.predict_proba(features_scaled)[0]\n",
    "    \n",
    "    return prediction, probability\n",
    "\n",
    "# ===========================\n",
    "# Cell 22: 高風險區域識別\n",
    "# ===========================\n",
    "\n",
    "def identify_high_risk_areas(grid_stats, threshold_percentile=90):\n",
    "    \"\"\"識別高風險區域\"\"\"\n",
    "    \n",
    "    # 計算風險分數（結合事故數量和嚴重度）\n",
    "    grid_stats['risk_score'] = (\n",
    "        grid_stats['accident_count'] * 0.3 + \n",
    "        grid_stats['avg_severity'] * 100 * 0.7\n",
    "    )\n",
    "    \n",
    "    # 找出高風險區域\n",
    "    threshold = np.percentile(grid_stats['risk_score'], threshold_percentile)\n",
    "    high_risk = grid_stats[grid_stats['risk_score'] >= threshold].copy()\n",
    "    \n",
    "    # 排序\n",
    "    high_risk = high_risk.sort_values('risk_score', ascending=False)\n",
    "    \n",
    "    print(f\"識別出 {len(high_risk)} 個高風險區域\")\n",
    "    print(\"\\nTop 10 高風險區域:\")\n",
    "    for idx, row in high_risk.head(10).iterrows():\n",
    "        print(f\"  ({row['lat']:.2f}, {row['lng']:.2f}) - \"\n",
    "              f\"風險分數: {row['risk_score']:.2f}, \"\n",
    "              f\"事故數: {row['accident_count']}\")\n",
    "    \n",
    "    return high_risk\n",
    "\n",
    "high_risk_areas = identify_high_risk_areas(grid_stats)"
   ]
  }
 ],
 "metadata": {
  "kernelspec": {
   "display_name": ".venv",
   "language": "python",
   "name": "python3"
  },
  "language_info": {
   "codemirror_mode": {
    "name": "ipython",
    "version": 3
   },
   "file_extension": ".py",
   "mimetype": "text/x-python",
   "name": "python",
   "nbconvert_exporter": "python",
   "pygments_lexer": "ipython3",
   "version": "3.10.12"
  }
 },
 "nbformat": 4,
 "nbformat_minor": 5
}
